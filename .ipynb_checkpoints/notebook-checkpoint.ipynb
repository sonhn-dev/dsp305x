{
 "cells": [
  {
   "cell_type": "markdown",
   "id": "ff6b6831-f330-4c54-9260-fb69353518f8",
   "metadata": {},
   "source": [
    "# Giới thiệu đề tài\n",
    "\n",
    "Một khoản vay có nên được phê duyệt hay không? Các ngân hàng có thể đánh giá rủi ro của một đơn xin vay mới được không?\n",
    "\n",
    "Với một bộ dữ liệu khoản vay của Cơ quan quản lý doanh nghiệp nhỏ Hoa Kỳ (U.S. Small Business Administration - SBA) được cung cấp, hãy đưa ra lời khuyên cho ngân hàng để ra quyết định nêu trên."
   ]
  },
  {
   "cell_type": "markdown",
   "id": "497f0152-8286-4c1a-af03-8e8e5c885f08",
   "metadata": {},
   "source": [
    "# Làm rõ yêu cầu\n",
    "\n",
    "* Mục đích: Bản chất của hoạt động cho vay là dựa trên sự tin tưởng về việc Khách hàng sẽ hoàn trả tiền vay. Trường hợp Khách hàng không trả được nợ sẽ dẫn đến thiệt hại về vốn cho ngân hàng. Một trong các mục đích của ngân hàng là hạn chế các thiệt hại này thông qua nhận diện các Khách hàng xấu để từ chối cho vay. Bên cạnh đó ngân hàng cũng muốn tối đa hoá dư nợ cho vay (quy mô cho vay) từ đó tăng thu nhập từ lãi vay. Điều đó cũng đòi hỏi ngân hàng không từ chối những Khách hàng có nhiều khả năng là Khách hàng tốt.\n",
    "\n",
    "* Mục tiêu: Để đạt được mục đích đề ra ta cần phải dự đoán được liệu Khách hàng có trả được nợ hay không trong tương lai. Trường hợp kết quả dự đoán là \"trả được nợ\" thì ngân hàng có thể quyết định cho Khách hàng đó vay. Ngược lại nếu kết quả dự đoán là \"không trả được nợ\" thì để bảo toàn vốn ngân hàng có thể thông báo từ chối cho vay."
   ]
  },
  {
   "cell_type": "markdown",
   "id": "3c40b097-0205-4473-9fba-d40eacf4e8b4",
   "metadata": {},
   "source": [
    "# Xác định cách tiếp cận giải quyết vấn đề\n",
    "\n",
    "* Có thể thấy bài toán này là một bài toán phân loại với kết quả đầu ra dưới dạng nhị phân (trả được nợ/ không trả được nợ).\n",
    "\n",
    "* Để xây dựng được mô hình dự đoán như yêu cầu, ta có thể sử dụng các phương pháp học có giám sát để huấn luyện mô hình trên dữ liệu đã có sẵn sau đó sử dụng mô hình để dự đoán cho các quan sát mới.\n",
    "\n",
    "* Một trong lựa chọn có thể sử dụng là hồi quy Logistic. Trong nghiên cứu, đây sẽ là mô hình cơ sở để so sánh với các mô hình khác phức tạp hơn. Điểm mạnh của phương pháp này: Ít phức tạp, dễ giải thích, xác định được hướng, mức độ ảnh hưởng của thuộc tính đầu vào lên kết quả.\n",
    "\n",
    "* Xây dựng mô hình nâng cao: Sử dụng các phương pháp Gradient Boosting, Random Forest, mạng neuron... để xây dựng mô hình khớp tốt hơn so với hồi quy Logistic. Qua việc đánh giá hiệu suất của các mô hình trên tập dữ liệu kiểm tra để chọn ra mô hình tối ưu."
   ]
  },
  {
   "cell_type": "markdown",
   "id": "4bdee7c7-591c-4c3c-bf44-7f3afeb7e291",
   "metadata": {},
   "source": [
    "# Xác định các yêu cầu đối với dữ liệu\n",
    "\n",
    "Với các phương pháp đã lựa chọn, nguồn dữ liệu đầu vào cần đáp ứng các yêu cầu sau:\n",
    "\n",
    "* Dữ liệu đầu vào là dữ liệu có cấu trúc (bảng gồm hàng và cột);\n",
    "* Đối tượng cần đánh giá là từng khoản vay do đó mỗi một dòng trong bảng sẽ là một khoản vay đã được cho vay trong một giai đoạn nào đó;\n",
    "* Mỗi một khoản vay cần được dán nhãn trả được nợ/ không trả được nợ;\n",
    "* Để thực hiện các phương pháp nâng cao (Gradient Boosting, Random Forest, mạng neuron...) dữ liệu cần có số lượng quan sát đủ lớn để tránh tình trạng quá khớp và kết quả đầu ra thiếu tính khái quát."
   ]
  },
  {
   "cell_type": "markdown",
   "id": "a83d9fa4-0d89-4eed-9314-85d0fc52f96c",
   "metadata": {},
   "source": [
    "# Thu thập dữ liệu\n",
    "\n",
    "* Nguồn dữ liệu được tải về từ https://www.kaggle.com/mirbektoktogaraev/should-this-loan-be-approved-or-denied\n",
    "* Bảng dữ liệu chính nằm trên file SBAnational.csv, ta sẽ sử dụng thư viện Pandas để load dữ liệu vào đối tượng DataFrame để tiện cho việc phân tích ở các bước sau.\n",
    "* Tiến hành tách tập huấn luyện và kiểm tra. Do số lượng quan sát đủ lớn nên ta có thể chọn tỷ lệ tập huấn luyện trên tập kiểm tra là 90% / 10%."
   ]
  },
  {
   "cell_type": "code",
   "execution_count": null,
   "id": "e5be08bd-d3ca-459b-9d11-a56326b5b02e",
   "metadata": {
    "jupyter": {
     "source_hidden": true
    },
    "tags": []
   },
   "outputs": [],
   "source": [
    "# Linux command\n",
    "!mkdir data\n",
    "!wget -q -P data https://www.tandfonline.com/doi/suppl/10.1080/10691898.2018.1434342/suppl_file/ujse_a_1434342_sm1547.zip\n",
    "!cd data && unzip ujse_a_1434342_sm1547.zip\n",
    "!ls data/"
   ]
  },
  {
   "cell_type": "code",
   "execution_count": 1,
   "id": "64686809-b14f-4478-9529-96606a6356ef",
   "metadata": {
    "tags": []
   },
   "outputs": [
    {
     "name": "stderr",
     "output_type": "stream",
     "text": [
      "/tmp/ipykernel_6513/1332553354.py:3: DtypeWarning: Columns (9) have mixed types.Specify dtype option on import or set low_memory=False.\n",
      "  x_train, x_test, y_train, y_test = utils.load_dataset('data/SBAnational.csv',\n"
     ]
    },
    {
     "name": "stdout",
     "output_type": "stream",
     "text": [
      "Data loaded!\n",
      "x train shape: (807450, 26)\n",
      "x test shape: (89717, 26)\n",
      "y train shape: (807450,)\n",
      "y test shape: (807450,)\n"
     ]
    }
   ],
   "source": [
    "import utils\n",
    "\n",
    "x_train, x_test, y_train, y_test = utils.load_dataset('data/SBAnational.csv',\n",
    "                                                      'MIS_Status',\n",
    "                                                      train_size=0.9,\n",
    "                                                      random_state=13)\n",
    "\n",
    "print('Data loaded!')\n",
    "print('x train shape:', x_train.shape)\n",
    "print('x test shape:', x_test.shape)\n",
    "print('y train shape:', y_train.shape)\n",
    "print('y test shape:', y_train.shape)"
   ]
  },
  {
   "cell_type": "markdown",
   "id": "df1abdef-96fc-49dc-9f94-036e8e9da5af",
   "metadata": {},
   "source": [
    "# Hiểu dữ liệu"
   ]
  },
  {
   "cell_type": "code",
   "execution_count": 8,
   "id": "f6783e4e-8ace-475a-898e-a457d282ed02",
   "metadata": {
    "tags": []
   },
   "outputs": [],
   "source": [
    "# Import necessary packages\n",
    "import pandas as pd\n",
    "import numpy as np\n",
    "\n",
    "from sklearn.preprocessing import PowerTransformer, FunctionTransformer, MinMaxScaler, OneHotEncoder, LabelEncoder\n",
    "from sklearn.compose import ColumnTransformer\n",
    "from sklearn.pipeline import Pipeline\n",
    "from sklearn.cluster import KMeans\n",
    "from sklearn.tree import DecisionTreeClassifier, plot_tree\n",
    "\n",
    "%matplotlib inline\n",
    "import matplotlib.pyplot as plt\n",
    "\n",
    "from IPython.display import display\n",
    "\n",
    "import sys, importlib\n",
    "importlib.reload(sys.modules['utils'])\n",
    "from utils import *"
   ]
  },
  {
   "cell_type": "markdown",
   "id": "58db147b-e135-4161-9a19-5fc039ceccaf",
   "metadata": {},
   "source": [
    "## Biến mục tiêu\n",
    "\n",
    "* Biến mục tiêu có phân phối không đều. Để khắc phục, trong quá trình huấn luyện ta sẽ đưa vào trọng số (class weight).\n",
    "* Biến mục tiêu đang được mã thành 2 loại:\n",
    "    - P I F = 'Paid in full' (Trả được nợ)\n",
    "    - CHGOFF = 'Charged off' (Không trả được nợ)\n",
    "* Tại bước chuẩn bị dữ liệu các loại này sẽ được chuyển thành mã 0 và 1 tương ứng."
   ]
  },
  {
   "cell_type": "code",
   "execution_count": 3,
   "id": "475d6d1e-5039-4659-a1e6-40cdd7406ee1",
   "metadata": {
    "tags": []
   },
   "outputs": [
    {
     "data": {
      "image/png": "[encoded data removed]",
      "text/plain": [
       "<Figure size 432x288 with 1 Axes>"
      ]
     },
     "metadata": {},
     "output_type": "display_data"
    },
    {
     "name": "stdout",
     "output_type": "stream",
     "text": [
      "Class weights: {0: 1.213028507559551, 1: 5.694207415974387}\n"
     ]
    }
   ],
   "source": [
    "# Define target values for later transformation\n",
    "LABELS = ['P I F', 'CHGOFF']\n",
    "POSITIVE = LABELS[1]\n",
    "NEGATIVE = LABELS[0]\n",
    "\n",
    "counts = y_train.value_counts()\n",
    "plt.pie(counts,\n",
    "        startangle=90,\n",
    "        autopct='%.2f%%')\n",
    "\n",
    "plt.title('MIS_Status')\n",
    "plt.legend(counts.index)\n",
    "plt.show()\n",
    "\n",
    "CLASS_WEIGHT = {cls: counts.sum()/counts[label] for cls, label in enumerate(LABELS)}\n",
    "print('Class weights:',CLASS_WEIGHT)"
   ]
  },
  {
   "cell_type": "markdown",
   "id": "a8a0fb7a-9db6-4262-acee-e02772639d9f",
   "metadata": {
    "tags": []
   },
   "source": [
    "## Biến giải thích\n",
    "\n",
    "Cùng xem qua dữ liệu:"
   ]
  },
  {
   "cell_type": "code",
   "execution_count": 4,
   "id": "53279d03-5c7f-48d7-be0f-de79650babca",
   "metadata": {
    "tags": []
   },
   "outputs": [
    {
     "name": "stdout",
     "output_type": "stream",
     "text": [
      "DataFrame head:\n"
     ]
    },
    {
     "data": {
      "text/html": [
       "<div>\n",
       "<style scoped>\n",
       "    .dataframe tbody tr th:only-of-type {\n",
       "        vertical-align: middle;\n",
       "    }\n",
       "\n",
       "    .dataframe tbody tr th {\n",
       "        vertical-align: top;\n",
       "    }\n",
       "\n",
       "    .dataframe thead th {\n",
       "        text-align: right;\n",
       "    }\n",
       "</style>\n",
       "<table border=\"1\" class=\"dataframe\">\n",
       "  <thead>\n",
       "    <tr style=\"text-align: right;\">\n",
       "      <th></th>\n",
       "      <th>LoanNr_ChkDgt</th>\n",
       "      <th>Name</th>\n",
       "      <th>City</th>\n",
       "      <th>State</th>\n",
       "      <th>Zip</th>\n",
       "      <th>Bank</th>\n",
       "      <th>BankState</th>\n",
       "      <th>NAICS</th>\n",
       "      <th>ApprovalDate</th>\n",
       "      <th>ApprovalFY</th>\n",
       "      <th>...</th>\n",
       "      <th>UrbanRural</th>\n",
       "      <th>RevLineCr</th>\n",
       "      <th>LowDoc</th>\n",
       "      <th>ChgOffDate</th>\n",
       "      <th>DisbursementDate</th>\n",
       "      <th>DisbursementGross</th>\n",
       "      <th>BalanceGross</th>\n",
       "      <th>ChgOffPrinGr</th>\n",
       "      <th>GrAppv</th>\n",
       "      <th>SBA_Appv</th>\n",
       "    </tr>\n",
       "  </thead>\n",
       "  <tbody>\n",
       "    <tr>\n",
       "      <th>192615</th>\n",
       "      <td>2362105004</td>\n",
       "      <td>NORM'S TRUCKING</td>\n",
       "      <td>LACONIA</td>\n",
       "      <td>NH</td>\n",
       "      <td>3246</td>\n",
       "      <td>CITIZENS BANK NATL ASSOC</td>\n",
       "      <td>RI</td>\n",
       "      <td>484121</td>\n",
       "      <td>29-Mar-07</td>\n",
       "      <td>2007</td>\n",
       "      <td>...</td>\n",
       "      <td>1</td>\n",
       "      <td>N</td>\n",
       "      <td>N</td>\n",
       "      <td>14-May-10</td>\n",
       "      <td>30-Apr-07</td>\n",
       "      <td>$14,000.00</td>\n",
       "      <td>$0.00</td>\n",
       "      <td>$13,060.00</td>\n",
       "      <td>$14,000.00</td>\n",
       "      <td>$7,000.00</td>\n",
       "    </tr>\n",
       "    <tr>\n",
       "      <th>610721</th>\n",
       "      <td>6068553004</td>\n",
       "      <td>A TO Z AUTOMOTIVE</td>\n",
       "      <td>WEST SENECA</td>\n",
       "      <td>NY</td>\n",
       "      <td>14227</td>\n",
       "      <td>KEYBANK NATIONAL ASSOCIATION</td>\n",
       "      <td>NY</td>\n",
       "      <td>811113</td>\n",
       "      <td>22-Nov-93</td>\n",
       "      <td>1994</td>\n",
       "      <td>...</td>\n",
       "      <td>0</td>\n",
       "      <td>N</td>\n",
       "      <td>N</td>\n",
       "      <td>NaN</td>\n",
       "      <td>30-Apr-94</td>\n",
       "      <td>$47,600.00</td>\n",
       "      <td>$0.00</td>\n",
       "      <td>$0.00</td>\n",
       "      <td>$47,600.00</td>\n",
       "      <td>$42,840.00</td>\n",
       "    </tr>\n",
       "    <tr>\n",
       "      <th>251037</th>\n",
       "      <td>2765544005</td>\n",
       "      <td>ARPI SERVICE</td>\n",
       "      <td>NORTH HILLS</td>\n",
       "      <td>CA</td>\n",
       "      <td>91343</td>\n",
       "      <td>FIRST PRIVATE BANK &amp; TRUST</td>\n",
       "      <td>CA</td>\n",
       "      <td>811412</td>\n",
       "      <td>5-Feb-99</td>\n",
       "      <td>1999</td>\n",
       "      <td>...</td>\n",
       "      <td>0</td>\n",
       "      <td>0</td>\n",
       "      <td>Y</td>\n",
       "      <td>NaN</td>\n",
       "      <td>31-Jan-00</td>\n",
       "      <td>$50,000.00</td>\n",
       "      <td>$0.00</td>\n",
       "      <td>$0.00</td>\n",
       "      <td>$50,000.00</td>\n",
       "      <td>$40,000.00</td>\n",
       "    </tr>\n",
       "    <tr>\n",
       "      <th>371681</th>\n",
       "      <td>3601755003</td>\n",
       "      <td>Albany Aqua Ducks, Inc.</td>\n",
       "      <td>ALBANY</td>\n",
       "      <td>NY</td>\n",
       "      <td>12201</td>\n",
       "      <td>KEYBANK NATIONAL ASSOCIATION</td>\n",
       "      <td>OH</td>\n",
       "      <td>487210</td>\n",
       "      <td>28-Aug-09</td>\n",
       "      <td>2009</td>\n",
       "      <td>...</td>\n",
       "      <td>1</td>\n",
       "      <td>N</td>\n",
       "      <td>N</td>\n",
       "      <td>NaN</td>\n",
       "      <td>1-Sep-09</td>\n",
       "      <td>$35,000.00</td>\n",
       "      <td>$0.00</td>\n",
       "      <td>$0.00</td>\n",
       "      <td>$35,000.00</td>\n",
       "      <td>$35,000.00</td>\n",
       "    </tr>\n",
       "    <tr>\n",
       "      <th>841893</th>\n",
       "      <td>9024854009</td>\n",
       "      <td>JEFFREY D JOHN &amp; COMPANY AN AC</td>\n",
       "      <td>SELMA</td>\n",
       "      <td>CA</td>\n",
       "      <td>93662</td>\n",
       "      <td>MUFG UNION BANK NATL ASSOC</td>\n",
       "      <td>CA</td>\n",
       "      <td>541211</td>\n",
       "      <td>4-Aug-05</td>\n",
       "      <td>2005</td>\n",
       "      <td>...</td>\n",
       "      <td>1</td>\n",
       "      <td>Y</td>\n",
       "      <td>N</td>\n",
       "      <td>NaN</td>\n",
       "      <td>31-Aug-05</td>\n",
       "      <td>$15,456.00</td>\n",
       "      <td>$0.00</td>\n",
       "      <td>$0.00</td>\n",
       "      <td>$10,000.00</td>\n",
       "      <td>$5,000.00</td>\n",
       "    </tr>\n",
       "  </tbody>\n",
       "</table>\n",
       "<p>5 rows × 26 columns</p>\n",
       "</div>"
      ],
      "text/plain": [
       "        LoanNr_ChkDgt                            Name         City State  \\\n",
       "192615     2362105004                 NORM'S TRUCKING      LACONIA    NH   \n",
       "610721     6068553004               A TO Z AUTOMOTIVE  WEST SENECA    NY   \n",
       "251037     2765544005                    ARPI SERVICE  NORTH HILLS    CA   \n",
       "371681     3601755003         Albany Aqua Ducks, Inc.       ALBANY    NY   \n",
       "841893     9024854009  JEFFREY D JOHN & COMPANY AN AC        SELMA    CA   \n",
       "\n",
       "          Zip                          Bank BankState   NAICS ApprovalDate  \\\n",
       "192615   3246      CITIZENS BANK NATL ASSOC        RI  484121    29-Mar-07   \n",
       "610721  14227  KEYBANK NATIONAL ASSOCIATION        NY  811113    22-Nov-93   \n",
       "251037  91343    FIRST PRIVATE BANK & TRUST        CA  811412     5-Feb-99   \n",
       "371681  12201  KEYBANK NATIONAL ASSOCIATION        OH  487210    28-Aug-09   \n",
       "841893  93662    MUFG UNION BANK NATL ASSOC        CA  541211     4-Aug-05   \n",
       "\n",
       "       ApprovalFY  ...  UrbanRural  RevLineCr  LowDoc  ChgOffDate  \\\n",
       "192615       2007  ...           1          N       N   14-May-10   \n",
       "610721       1994  ...           0          N       N         NaN   \n",
       "251037       1999  ...           0          0       Y         NaN   \n",
       "371681       2009  ...           1          N       N         NaN   \n",
       "841893       2005  ...           1          Y       N         NaN   \n",
       "\n",
       "        DisbursementDate  DisbursementGross  BalanceGross ChgOffPrinGr  \\\n",
       "192615         30-Apr-07        $14,000.00         $0.00   $13,060.00    \n",
       "610721         30-Apr-94        $47,600.00         $0.00        $0.00    \n",
       "251037         31-Jan-00        $50,000.00         $0.00        $0.00    \n",
       "371681          1-Sep-09        $35,000.00         $0.00        $0.00    \n",
       "841893         31-Aug-05        $15,456.00         $0.00        $0.00    \n",
       "\n",
       "             GrAppv     SBA_Appv  \n",
       "192615  $14,000.00    $7,000.00   \n",
       "610721  $47,600.00   $42,840.00   \n",
       "251037  $50,000.00   $40,000.00   \n",
       "371681  $35,000.00   $35,000.00   \n",
       "841893  $10,000.00    $5,000.00   \n",
       "\n",
       "[5 rows x 26 columns]"
      ]
     },
     "metadata": {},
     "output_type": "display_data"
    },
    {
     "name": "stdout",
     "output_type": "stream",
     "text": [
      "\n",
      "Columns details:\n"
     ]
    },
    {
     "data": {
      "text/html": [
       "<div>\n",
       "<style scoped>\n",
       "    .dataframe tbody tr th:only-of-type {\n",
       "        vertical-align: middle;\n",
       "    }\n",
       "\n",
       "    .dataframe tbody tr th {\n",
       "        vertical-align: top;\n",
       "    }\n",
       "\n",
       "    .dataframe thead th {\n",
       "        text-align: right;\n",
       "    }\n",
       "</style>\n",
       "<table border=\"1\" class=\"dataframe\">\n",
       "  <thead>\n",
       "    <tr style=\"text-align: right;\">\n",
       "      <th></th>\n",
       "      <th>Column</th>\n",
       "      <th>Count</th>\n",
       "      <th>Null count</th>\n",
       "      <th>Num unique</th>\n",
       "      <th>Type</th>\n",
       "    </tr>\n",
       "  </thead>\n",
       "  <tbody>\n",
       "    <tr>\n",
       "      <th>0</th>\n",
       "      <td>LoanNr_ChkDgt</td>\n",
       "      <td>807450</td>\n",
       "      <td>0</td>\n",
       "      <td>807450</td>\n",
       "      <td>int64</td>\n",
       "    </tr>\n",
       "    <tr>\n",
       "      <th>1</th>\n",
       "      <td>Name</td>\n",
       "      <td>807437</td>\n",
       "      <td>13</td>\n",
       "      <td>707545</td>\n",
       "      <td>object</td>\n",
       "    </tr>\n",
       "    <tr>\n",
       "      <th>2</th>\n",
       "      <td>City</td>\n",
       "      <td>807422</td>\n",
       "      <td>28</td>\n",
       "      <td>31266</td>\n",
       "      <td>object</td>\n",
       "    </tr>\n",
       "    <tr>\n",
       "      <th>3</th>\n",
       "      <td>State</td>\n",
       "      <td>807437</td>\n",
       "      <td>13</td>\n",
       "      <td>51</td>\n",
       "      <td>object</td>\n",
       "    </tr>\n",
       "    <tr>\n",
       "      <th>4</th>\n",
       "      <td>Zip</td>\n",
       "      <td>807450</td>\n",
       "      <td>0</td>\n",
       "      <td>32747</td>\n",
       "      <td>int64</td>\n",
       "    </tr>\n",
       "    <tr>\n",
       "      <th>5</th>\n",
       "      <td>Bank</td>\n",
       "      <td>806082</td>\n",
       "      <td>1368</td>\n",
       "      <td>5697</td>\n",
       "      <td>object</td>\n",
       "    </tr>\n",
       "    <tr>\n",
       "      <th>6</th>\n",
       "      <td>BankState</td>\n",
       "      <td>806075</td>\n",
       "      <td>1375</td>\n",
       "      <td>56</td>\n",
       "      <td>object</td>\n",
       "    </tr>\n",
       "    <tr>\n",
       "      <th>7</th>\n",
       "      <td>NAICS</td>\n",
       "      <td>807450</td>\n",
       "      <td>0</td>\n",
       "      <td>1306</td>\n",
       "      <td>int64</td>\n",
       "    </tr>\n",
       "    <tr>\n",
       "      <th>8</th>\n",
       "      <td>ApprovalDate</td>\n",
       "      <td>807450</td>\n",
       "      <td>0</td>\n",
       "      <td>9740</td>\n",
       "      <td>object</td>\n",
       "    </tr>\n",
       "    <tr>\n",
       "      <th>9</th>\n",
       "      <td>ApprovalFY</td>\n",
       "      <td>807450</td>\n",
       "      <td>0</td>\n",
       "      <td>65</td>\n",
       "      <td>object</td>\n",
       "    </tr>\n",
       "    <tr>\n",
       "      <th>10</th>\n",
       "      <td>Term</td>\n",
       "      <td>807450</td>\n",
       "      <td>0</td>\n",
       "      <td>408</td>\n",
       "      <td>int64</td>\n",
       "    </tr>\n",
       "    <tr>\n",
       "      <th>11</th>\n",
       "      <td>NoEmp</td>\n",
       "      <td>807450</td>\n",
       "      <td>0</td>\n",
       "      <td>573</td>\n",
       "      <td>int64</td>\n",
       "    </tr>\n",
       "    <tr>\n",
       "      <th>12</th>\n",
       "      <td>NewExist</td>\n",
       "      <td>807330</td>\n",
       "      <td>120</td>\n",
       "      <td>3</td>\n",
       "      <td>float64</td>\n",
       "    </tr>\n",
       "    <tr>\n",
       "      <th>13</th>\n",
       "      <td>CreateJob</td>\n",
       "      <td>807450</td>\n",
       "      <td>0</td>\n",
       "      <td>230</td>\n",
       "      <td>int64</td>\n",
       "    </tr>\n",
       "    <tr>\n",
       "      <th>14</th>\n",
       "      <td>RetainedJob</td>\n",
       "      <td>807450</td>\n",
       "      <td>0</td>\n",
       "      <td>349</td>\n",
       "      <td>int64</td>\n",
       "    </tr>\n",
       "    <tr>\n",
       "      <th>15</th>\n",
       "      <td>FranchiseCode</td>\n",
       "      <td>807450</td>\n",
       "      <td>0</td>\n",
       "      <td>2667</td>\n",
       "      <td>int64</td>\n",
       "    </tr>\n",
       "    <tr>\n",
       "      <th>16</th>\n",
       "      <td>UrbanRural</td>\n",
       "      <td>807450</td>\n",
       "      <td>0</td>\n",
       "      <td>3</td>\n",
       "      <td>int64</td>\n",
       "    </tr>\n",
       "    <tr>\n",
       "      <th>17</th>\n",
       "      <td>RevLineCr</td>\n",
       "      <td>803376</td>\n",
       "      <td>4074</td>\n",
       "      <td>17</td>\n",
       "      <td>object</td>\n",
       "    </tr>\n",
       "    <tr>\n",
       "      <th>18</th>\n",
       "      <td>LowDoc</td>\n",
       "      <td>805148</td>\n",
       "      <td>2302</td>\n",
       "      <td>7</td>\n",
       "      <td>object</td>\n",
       "    </tr>\n",
       "    <tr>\n",
       "      <th>19</th>\n",
       "      <td>ChgOffDate</td>\n",
       "      <td>146204</td>\n",
       "      <td>661246</td>\n",
       "      <td>6358</td>\n",
       "      <td>object</td>\n",
       "    </tr>\n",
       "    <tr>\n",
       "      <th>20</th>\n",
       "      <td>DisbursementDate</td>\n",
       "      <td>805472</td>\n",
       "      <td>1978</td>\n",
       "      <td>8201</td>\n",
       "      <td>object</td>\n",
       "    </tr>\n",
       "    <tr>\n",
       "      <th>21</th>\n",
       "      <td>DisbursementGross</td>\n",
       "      <td>807450</td>\n",
       "      <td>0</td>\n",
       "      <td>110085</td>\n",
       "      <td>object</td>\n",
       "    </tr>\n",
       "    <tr>\n",
       "      <th>22</th>\n",
       "      <td>BalanceGross</td>\n",
       "      <td>807450</td>\n",
       "      <td>0</td>\n",
       "      <td>13</td>\n",
       "      <td>object</td>\n",
       "    </tr>\n",
       "    <tr>\n",
       "      <th>23</th>\n",
       "      <td>ChgOffPrinGr</td>\n",
       "      <td>807450</td>\n",
       "      <td>0</td>\n",
       "      <td>77779</td>\n",
       "      <td>object</td>\n",
       "    </tr>\n",
       "    <tr>\n",
       "      <th>24</th>\n",
       "      <td>GrAppv</td>\n",
       "      <td>807450</td>\n",
       "      <td>0</td>\n",
       "      <td>20694</td>\n",
       "      <td>object</td>\n",
       "    </tr>\n",
       "    <tr>\n",
       "      <th>25</th>\n",
       "      <td>SBA_Appv</td>\n",
       "      <td>807450</td>\n",
       "      <td>0</td>\n",
       "      <td>35925</td>\n",
       "      <td>object</td>\n",
       "    </tr>\n",
       "  </tbody>\n",
       "</table>\n",
       "</div>"
      ],
      "text/plain": [
       "               Column   Count  Null count  Num unique     Type\n",
       "0       LoanNr_ChkDgt  807450           0      807450    int64\n",
       "1                Name  807437          13      707545   object\n",
       "2                City  807422          28       31266   object\n",
       "3               State  807437          13          51   object\n",
       "4                 Zip  807450           0       32747    int64\n",
       "5                Bank  806082        1368        5697   object\n",
       "6           BankState  806075        1375          56   object\n",
       "7               NAICS  807450           0        1306    int64\n",
       "8        ApprovalDate  807450           0        9740   object\n",
       "9          ApprovalFY  807450           0          65   object\n",
       "10               Term  807450           0         408    int64\n",
       "11              NoEmp  807450           0         573    int64\n",
       "12           NewExist  807330         120           3  float64\n",
       "13          CreateJob  807450           0         230    int64\n",
       "14        RetainedJob  807450           0         349    int64\n",
       "15      FranchiseCode  807450           0        2667    int64\n",
       "16         UrbanRural  807450           0           3    int64\n",
       "17          RevLineCr  803376        4074          17   object\n",
       "18             LowDoc  805148        2302           7   object\n",
       "19         ChgOffDate  146204      661246        6358   object\n",
       "20   DisbursementDate  805472        1978        8201   object\n",
       "21  DisbursementGross  807450           0      110085   object\n",
       "22       BalanceGross  807450           0          13   object\n",
       "23       ChgOffPrinGr  807450           0       77779   object\n",
       "24             GrAppv  807450           0       20694   object\n",
       "25           SBA_Appv  807450           0       35925   object"
      ]
     },
     "metadata": {},
     "output_type": "display_data"
    }
   ],
   "source": [
    "print('DataFrame head:')\n",
    "display(x_train.head())\n",
    "print()\n",
    "\n",
    "print('Columns details:')\n",
    "display(get_df_info(x_train))"
   ]
  },
  {
   "cell_type": "markdown",
   "id": "928de89c-7db3-4ce4-96c6-6badf4041edc",
   "metadata": {},
   "source": [
    "### DisbursementGross, GrAppv, SBA_Appv (số tiền giải ngân, số tiền phê duyệt, số tiền SBA bảo lãnh)\n",
    "\n",
    "* Dữ liệu dưới dạng chuỗi (ví dụ: $10,000.00) cần được chuyển thành float.\n",
    "* Các phân phối đều lệch phải. Thực hiện biến đổi log, qua biểu đồ trực quan hoá có thể thấy các khoản vay PIF có số tiền lớn hơn khoản vay CHGOFF.\n",
    "* Nhìn biểu đồ phân tán có thể thấy 3 biến này có quan hệ tuyến tính rõ với nhau. Do đó ta chỉ chọn 1 trong 3 biến để đưa vào huấn luyện."
   ]
  },
  {
   "cell_type": "code",
   "execution_count": 4,
   "id": "57a33dcb-aa3a-406c-889a-bb89e1fc3d01",
   "metadata": {
    "tags": []
   },
   "outputs": [
    {
     "data": {
      "image/png": "[encoded data removed]",
      "text/plain": [
       "<Figure size 1080x288 with 3 Axes>"
      ]
     },
     "metadata": {
      "needs_background": "light"
     },
     "output_type": "display_data"
    },
    {
     "data": {
      "image/png": "[encoded data removed]",
      "text/plain": [
       "<Figure size 1080x288 with 3 Axes>"
      ]
     },
     "metadata": {
      "needs_background": "light"
     },
     "output_type": "display_data"
    },
    {
     "data": {
      "image/png": "[encoded data removed]",
      "text/plain": [
       "<Figure size 1080x288 with 3 Axes>"
      ]
     },
     "metadata": {
      "needs_background": "light"
     },
     "output_type": "display_data"
    },
    {
     "data": {
      "image/png": "[encoded data removed]",
      "text/plain": [
       "<Figure size 432x288 with 1 Axes>"
      ]
     },
     "metadata": {
      "needs_background": "light"
     },
     "output_type": "display_data"
    },
    {
     "data": {
      "image/png": "[encoded data removed]",
      "text/plain": [
       "<Figure size 432x288 with 1 Axes>"
      ]
     },
     "metadata": {
      "needs_background": "light"
     },
     "output_type": "display_data"
    },
    {
     "data": {
      "image/png": "[encoded data removed]",
      "text/plain": [
       "<Figure size 432x288 with 1 Axes>"
      ]
     },
     "metadata": {
      "needs_background": "light"
     },
     "output_type": "display_data"
    }
   ],
   "source": [
    "cols = ['DisbursementGross', 'GrAppv', 'SBA_Appv']\n",
    "\n",
    "amounts = amount_value(x_train[cols])\n",
    "log_transformer = FunctionTransformer(lambda x: np.log(x))\n",
    "transformed_amounts = pd.DataFrame(log_transformer.fit_transform(amounts),\n",
    "                                   index=amounts.index,\n",
    "                                   columns=cols)\n",
    "\n",
    "for col in cols:\n",
    "    plot_hist_and_boxplot(amounts[col],\n",
    "                          transformed_amounts[col],\n",
    "                          y_train,\n",
    "                          LABELS)\n",
    "plt.show()\n",
    "\n",
    "pairs = [('DisbursementGross', 'GrAppv'),\n",
    "         ('DisbursementGross', 'SBA_Appv'),\n",
    "         ('GrAppv', 'SBA_Appv')]\n",
    "\n",
    "corr_mat = transformed_amounts.corr()\n",
    "\n",
    "for f1, f2 in pairs:\n",
    "    plt.scatter(transformed_amounts[f1],\n",
    "                transformed_amounts[f2],\n",
    "                s=10.0,\n",
    "                alpha=0.5)\n",
    "    plt.title(f'{f2} (transformed) by {f1} (transformed) - R2: {corr_mat.loc[f1, f2]:.3f}')\n",
    "    plt.xlabel(f1)\n",
    "    plt.ylabel(f2)\n",
    "    plt.show()"
   ]
  },
  {
   "cell_type": "markdown",
   "id": "ea6c032d-0273-4436-83f3-f1d1dce916bf",
   "metadata": {},
   "source": [
    "### SBA_Appv_portion (tỷ lệ bảo lãnh của SBA)\n",
    "\n",
    "Khi loại bỏ GrAppv và SBA_Appv và thay thế bằng tỷ lệ SBA_Appv / GrAppv thì biến mới này có khả năng giải thích kết quả CHGOFF / PIF. Lý lẽ là khi SBA đánh giá khoản vay có khả năng trả được nợ thì mới chấp nhận tỷ lệ bảo lãnh cao và ngược lại."
   ]
  },
  {
   "cell_type": "code",
   "execution_count": 6,
   "id": "6379bea9-7ae2-4128-b3e6-659f2a9547d5",
   "metadata": {
    "tags": []
   },
   "outputs": [
    {
     "data": {
      "image/png": "[encoded data removed]",
      "text/plain": [
       "<Figure size 432x288 with 1 Axes>"
      ]
     },
     "metadata": {
      "needs_background": "light"
     },
     "output_type": "display_data"
    }
   ],
   "source": [
    "sba_ratio = amounts['SBA_Appv'] / amounts['GrAppv']\n",
    "sba_ratio.name = 'SBA_Appv_Ratio'\n",
    "plot_box(sba_ratio, y_train, LABELS)\n",
    "plt.show()"
   ]
  },
  {
   "cell_type": "markdown",
   "id": "44c26a05-8915-4eab-9387-d3a97d61cc73",
   "metadata": {},
   "source": [
    "### BalanceGross, ChgOffPrinGr (Dư nợ, Dư nợ không trả được)\n",
    "\n",
    "* Với mục tiêu xác định có trả được nợ hay không chỉ cần căn cứ vào MIS_Status và có thể bỏ qua ChgOffPrinGr.\n",
    "* Phần lớn BalanceGross bằng 0 do KH đã trả hết nợ hoặc chuyển thành nợ không trả được do đó cũng có thể bỏ qua."
   ]
  },
  {
   "cell_type": "code",
   "execution_count": 7,
   "id": "bf8577c6-11a3-48e1-b39b-919af29a682b",
   "metadata": {
    "tags": []
   },
   "outputs": [
    {
     "name": "stdout",
     "output_type": "stream",
     "text": [
      "BalanceGross counts:\n"
     ]
    },
    {
     "data": {
      "text/plain": [
       "$0.00           807438\n",
       "$96,908.00           1\n",
       "$84,617.00           1\n",
       "$43,127.00           1\n",
       "$9,111.00            1\n",
       "$12,750.00           1\n",
       "$41,509.00           1\n",
       "$37,100.00           1\n",
       "$25,000.00           1\n",
       "$996,262.00          1\n",
       "$600.00              1\n",
       "$827,875.00          1\n",
       "$395,476.00          1\n",
       "Name: BalanceGross, dtype: int64"
      ]
     },
     "execution_count": 7,
     "metadata": {},
     "output_type": "execute_result"
    }
   ],
   "source": [
    "print('BalanceGross counts:')\n",
    "x_train['BalanceGross'].value_counts()"
   ]
  },
  {
   "cell_type": "markdown",
   "id": "bce18ef8-8d43-46fd-b4b2-d6ea8fb6f16b",
   "metadata": {},
   "source": [
    "### DisbursementDate (ngày giải ngân)\n",
    "\n",
    "* Dataset bao gồm dữ liệu giải ngân từ 1987 đến năm 2014. Định dạng dưới dạng chuỗi (ví dụ 3-Jun-89) cần được chuyển đổi thành datetime.\n",
    "* Có một số ngày giải ngân trước 1987 và sau 2014. Do số lượng là ít so với số lượng quan sát nên ta có thể bỏ qua không cần làm sạch.\n",
    "* Có gần 2.000 trường hợp thiếu dữ liệu trước khi huấn luyện có thể sử dụng ngày phê duyệt (ApprovalDate) để thay thế."
   ]
  },
  {
   "cell_type": "code",
   "execution_count": 5,
   "id": "9eb75073-fd27-4c80-98a3-27e0dbce2d30",
   "metadata": {
    "tags": []
   },
   "outputs": [
    {
     "name": "stdout",
     "output_type": "stream",
     "text": [
      "Converted DisbursementDate:\n"
     ]
    },
    {
     "data": {
      "text/plain": [
       "54648    1948-09-17\n",
       "49244    1966-08-16\n",
       "697801   1968-03-19\n",
       "732056   1968-11-22\n",
       "726149   1969-05-22\n",
       "            ...    \n",
       "669507   2014-06-30\n",
       "498326   2014-07-05\n",
       "402166   2014-07-30\n",
       "709337   2014-12-31\n",
       "379815   2020-04-14\n",
       "Name: DisbursementDate, Length: 805472, dtype: datetime64[ns]"
      ]
     },
     "execution_count": 5,
     "metadata": {},
     "output_type": "execute_result"
    }
   ],
   "source": [
    "disburse_dates = date_value(x_train[['DisbursementDate']], max_year=2020)\n",
    "disburse_dates = disburse_dates['DisbursementDate']\n",
    "print('Converted DisbursementDate:')\n",
    "disburse_dates.dropna().sort_values()"
   ]
  },
  {
   "cell_type": "markdown",
   "id": "0d89172b-5282-4959-bdee-569298067979",
   "metadata": {
    "tags": []
   },
   "source": [
    "### Term (kỳ hạn)\n",
    "\n",
    "* Kỳ hạn vay không bị thiếu dữ liệu. Tuy nhiên có khoảng 700 trường hợp có kỳ hạn bằng 0 có thể gán giá trị mode.\n",
    "* Để tăng tính giải thích cho mô hình, sử dụng phương pháp Decision Tree để tìm giá trị kỳ hạn phân tách tốt nhất cho kết quả PIF/ CHGOFF. Kết quả cho thấy các khoản vay từ 60 tháng trở lên có tỷ lệ CHGOFF thấp hơn các khoản vay kỳ hạn dưới 60 tháng."
   ]
  },
  {
   "cell_type": "code",
   "execution_count": 9,
   "id": "7fbfd71c-62b8-4b8f-a5ec-6fa313a3827b",
   "metadata": {
    "tags": []
   },
   "outputs": [
    {
     "name": "stdout",
     "output_type": "stream",
     "text": [
      "Zero Term counts:\n"
     ]
    },
    {
     "data": {
      "text/plain": [
       "False    806727\n",
       "True        723\n",
       "Name: Term, dtype: int64"
      ]
     },
     "metadata": {},
     "output_type": "display_data"
    },
    {
     "data": {
      "image/png": "[encoded data removed]",
      "text/plain": [
       "<Figure size 432x288 with 1 Axes>"
      ]
     },
     "metadata": {
      "needs_background": "light"
     },
     "output_type": "display_data"
    },
    {
     "data": {
      "image/png": "[encoded data removed]",
      "text/plain": [
       "<Figure size 432x288 with 1 Axes>"
      ]
     },
     "metadata": {
      "needs_background": "light"
     },
     "output_type": "display_data"
    },
    {
     "name": "stdout",
     "output_type": "stream",
     "text": [
      "\n",
      "Term seperator: 59.5\n"
     ]
    },
    {
     "data": {
      "image/png": "[encoded data removed]",
      "text/plain": [
       "<Figure size 1152x720 with 1 Axes>"
      ]
     },
     "metadata": {
      "needs_background": "light"
     },
     "output_type": "display_data"
    },
    {
     "data": {
      "image/png": "[encoded data removed]",
      "text/plain": [
       "<Figure size 432x288 with 1 Axes>"
      ]
     },
     "metadata": {
      "needs_background": "light"
     },
     "output_type": "display_data"
    }
   ],
   "source": [
    "terms = x_train['Term']\n",
    "print('Zero Term counts:')\n",
    "cond = (terms==0)\n",
    "display(cond.value_counts())\n",
    "\n",
    "model = DecisionTreeClassifier(criterion='entropy', max_depth=3)\n",
    "x = terms[~cond].to_numpy().reshape(-1, 1)\n",
    "y = LabelEncoder().fit(LABELS).transform(y_train[~cond])\n",
    "\n",
    "plt.hist(terms, bins=20)\n",
    "plt.title('Terms distribution')\n",
    "plt.ylabel('Count')\n",
    "plt.xlabel('Month')\n",
    "plt.show()\n",
    "\n",
    "plot_box(x_train['Term'], y_train, LABELS)\n",
    "plt.show()\n",
    "\n",
    "model.fit(x, y)\n",
    "TERM_SEP = model.tree_.threshold[0]\n",
    "print()\n",
    "print('Term seperator:', TERM_SEP)\n",
    "plt.figure(figsize=(16, 10))\n",
    "plot_tree(model)\n",
    "plt.show()\n",
    "\n",
    "mapping = {True: f'<={TERM_SEP}', False: f'>{TERM_SEP}'}\n",
    "\n",
    "counts = pd.DataFrame(y_train[~cond]).pivot_table(index=y_train[~cond],\n",
    "                                                  columns=(terms[~cond] <= TERM_SEP).map(mapping),\n",
    "                                                  values=y_train.name,\n",
    "                                                  aggfunc='count')\n",
    "portions = counts / counts.sum()\n",
    "plot_stacked_bars(portions)\n",
    "plt.show()"
   ]
  },
  {
   "cell_type": "markdown",
   "id": "4c05d749-ab01-4c4a-a844-b4a42b103de9",
   "metadata": {
    "tags": []
   },
   "source": [
    "### Recession (suy thoái kinh tế)\n",
    "\n",
    "* Các khoản vay có trải qua giai đoạn suy thoái kinh tế (tháng 12/2007 đến tháng 6/2009) có tỷ lệ CHGOFF cao hơn các giai đoạn khác. Đây là biến được tạo ra để đưa vào huấn luyện (https://en.wikipedia.org/wiki/Great_Recession)\n",
    "* Điều kiện xác định khoản vay trải qua giai đoạn suy thoái kinh tế:\n",
    "    + Ngày hết hạn từ 01/12/2007\n",
    "    + Ngày hết hạn đến 30/06/2009\n",
    "    + Trong đó Ngày hết hạn = ngày bắt đầu + kỳ hạn"
   ]
  },
  {
   "cell_type": "code",
   "execution_count": 10,
   "id": "8a8ffa45-8859-49e6-84a1-825ed8008e97",
   "metadata": {
    "tags": []
   },
   "outputs": [
    {
     "name": "stderr",
     "output_type": "stream",
     "text": [
      "/home/sonhn/learning/datascience/pyenv/lib/python3.9/site-packages/pandas/core/arrays/datetimelike.py:1187: PerformanceWarning: Adding/subtracting object-dtype array to DatetimeArray not vectorized\n",
      "  warnings.warn(\n"
     ]
    },
    {
     "data": {
      "image/png": "[encoded data removed]",
      "text/plain": [
       "<Figure size 432x288 with 1 Axes>"
      ]
     },
     "metadata": {
      "needs_background": "light"
     },
     "output_type": "display_data"
    }
   ],
   "source": [
    "recession = mature_between(disburse_dates,\n",
    "                           x_train['Term'],\n",
    "                           '2007-12-01',\n",
    "                           '2009-06-30')\n",
    "recession.name = 'Recession'\n",
    "\n",
    "counts = x_train.pivot_table(index=y_train,\n",
    "                             columns=recession,\n",
    "                             values='LoanNr_ChkDgt',\n",
    "                             aggfunc='count')\n",
    "\n",
    "portions = counts / counts.sum()\n",
    "plot_stacked_bars(portions)"
   ]
  },
  {
   "cell_type": "markdown",
   "id": "c07278c1-9fa0-43bd-8054-9d0ec45a9ecd",
   "metadata": {
    "tags": []
   },
   "source": [
    "### City, State, Zip (thành phố, bang, zip code)\n",
    "\n",
    "* Số bang = 51 phù hợp (50 bang + Washington DC), số thành phố, Zip code có hơn 30.000 quan sát.\n",
    "* Với 13 trường hợp thiếu dữ liệu có thể suy luận từ mã Zip. Ở đây sử dụng REST API từ [app.zipcodebase.com](app.zipcodebase.com). Các trường hợp còn lại sử dụng 2 ký tự cuối của City.\n",
    "* Các biến này đều thể hiện địa điểm của Khách hàng. Để giảm số lượng nhóm ta sẽ chọn bang (State) để đưa vào huấn luyện.\n",
    "* Luận điểm ở đây: Mỗi bang ở nước Mỹ có 1 hệ thống pháp luật, môi trường kinh doanh, cơ cấu kinh tế khác nhau do đó có thể có tỷ lệ CHGOFF khác nhau. Ta có thể kiểm chứng qua việc vẽ biểu đồ trực quan hoá.\n",
    "* Biến đưa vào huấn luyện:\n",
    "    1. Bằng cách sử dụng phân cụm KMeans ta có thể chia các bang thành 5 nhóm (rất thấp, thấp, trung bình, cao, rất cao) theo tỷ lệ CHGOFF trong giai đoạn KHÔNG suy thoái. Đây là mức cơ sở ảnh hưởng tới kết quả đầu ra khi chưa tính tới yếu tố suy thoái.\n",
    "    2. Vì phần lớn các bang đều có tỷ lệ CHGOFF tăng trong thời kỳ suy thoái. Tuy nhiên mức độ tăng là khác nhau giữa các bang (Như các bang CO, OR, OH tăng mạnh). Do đó ta có thể đưa vào mô hình thêm thuộc tính: tỷ lệ CHGOFF tăng trong giai đoạn suy thoái (rất thấp, thấp, trung bình, cao, rất cao). Việc chia nhóm cũng được thực hiện bằng phân cụm Kmeans. Sau khi mã hoá one-hot, các cột này sẽ được nhân với biến suy thoái (Recession) vì vậy khi khoản vay không trong giai đoạn suy thoái thì giá trị các cột này sẽ bằng 0."
   ]
  },
  {
   "cell_type": "code",
   "execution_count": 11,
   "id": "017872fb-d3c9-4d65-81c7-c31012809c48",
   "metadata": {
    "tags": []
   },
   "outputs": [
    {
     "name": "stdout",
     "output_type": "stream",
     "text": [
      "Missing State:\n"
     ]
    },
    {
     "data": {
      "text/html": [
       "<div>\n",
       "<style scoped>\n",
       "    .dataframe tbody tr th:only-of-type {\n",
       "        vertical-align: middle;\n",
       "    }\n",
       "\n",
       "    .dataframe tbody tr th {\n",
       "        vertical-align: top;\n",
       "    }\n",
       "\n",
       "    .dataframe thead th {\n",
       "        text-align: right;\n",
       "    }\n",
       "</style>\n",
       "<table border=\"1\" class=\"dataframe\">\n",
       "  <thead>\n",
       "    <tr style=\"text-align: right;\">\n",
       "      <th></th>\n",
       "      <th>City</th>\n",
       "      <th>Zip</th>\n",
       "      <th>State</th>\n",
       "    </tr>\n",
       "  </thead>\n",
       "  <tbody>\n",
       "    <tr>\n",
       "      <th>351072</th>\n",
       "      <td>1542,TABUK,SAUDI ARABIA</td>\n",
       "      <td>79925</td>\n",
       "      <td>NaN</td>\n",
       "    </tr>\n",
       "    <tr>\n",
       "      <th>885335</th>\n",
       "      <td>A452638533</td>\n",
       "      <td>76645</td>\n",
       "      <td>NaN</td>\n",
       "    </tr>\n",
       "    <tr>\n",
       "      <th>306274</th>\n",
       "      <td>BOX 267, APO  AP</td>\n",
       "      <td>96205</td>\n",
       "      <td>NaN</td>\n",
       "    </tr>\n",
       "    <tr>\n",
       "      <th>264664</th>\n",
       "      <td>CAMERON PARK</td>\n",
       "      <td>95682</td>\n",
       "      <td>NaN</td>\n",
       "    </tr>\n",
       "    <tr>\n",
       "      <th>379174</th>\n",
       "      <td>SALT LAKE CITY</td>\n",
       "      <td>84124</td>\n",
       "      <td>NaN</td>\n",
       "    </tr>\n",
       "    <tr>\n",
       "      <th>367007</th>\n",
       "      <td>SOMERSET</td>\n",
       "      <td>54025</td>\n",
       "      <td>NaN</td>\n",
       "    </tr>\n",
       "    <tr>\n",
       "      <th>869948</th>\n",
       "      <td>A452638533</td>\n",
       "      <td>75236</td>\n",
       "      <td>NaN</td>\n",
       "    </tr>\n",
       "    <tr>\n",
       "      <th>366139</th>\n",
       "      <td>PALM BEACH GARDENS</td>\n",
       "      <td>33410</td>\n",
       "      <td>NaN</td>\n",
       "    </tr>\n",
       "    <tr>\n",
       "      <th>385418</th>\n",
       "      <td>LAKE OZARK</td>\n",
       "      <td>65049</td>\n",
       "      <td>NaN</td>\n",
       "    </tr>\n",
       "    <tr>\n",
       "      <th>366158</th>\n",
       "      <td>CASCO</td>\n",
       "      <td>54205</td>\n",
       "      <td>NaN</td>\n",
       "    </tr>\n",
       "    <tr>\n",
       "      <th>871847</th>\n",
       "      <td>A452638533</td>\n",
       "      <td>76052</td>\n",
       "      <td>NaN</td>\n",
       "    </tr>\n",
       "    <tr>\n",
       "      <th>49244</th>\n",
       "      <td>JOHNSTOWN       NY</td>\n",
       "      <td>0</td>\n",
       "      <td>NaN</td>\n",
       "    </tr>\n",
       "    <tr>\n",
       "      <th>328526</th>\n",
       "      <td>WICHITA</td>\n",
       "      <td>67219</td>\n",
       "      <td>NaN</td>\n",
       "    </tr>\n",
       "  </tbody>\n",
       "</table>\n",
       "</div>"
      ],
      "text/plain": [
       "                           City    Zip State\n",
       "351072  1542,TABUK,SAUDI ARABIA  79925   NaN\n",
       "885335               A452638533  76645   NaN\n",
       "306274         BOX 267, APO  AP  96205   NaN\n",
       "264664             CAMERON PARK  95682   NaN\n",
       "379174           SALT LAKE CITY  84124   NaN\n",
       "367007                 SOMERSET  54025   NaN\n",
       "869948               A452638533  75236   NaN\n",
       "366139       PALM BEACH GARDENS  33410   NaN\n",
       "385418               LAKE OZARK  65049   NaN\n",
       "366158                    CASCO  54205   NaN\n",
       "871847               A452638533  76052   NaN\n",
       "49244        JOHNSTOWN       NY      0   NaN\n",
       "328526                  WICHITA  67219   NaN"
      ]
     },
     "metadata": {},
     "output_type": "display_data"
    },
    {
     "name": "stdout",
     "output_type": "stream",
     "text": [
      "Find State from Zip:\n"
     ]
    },
    {
     "ename": "ConnectionError",
     "evalue": "HTTPSConnectionPool(host='app.zipcodebase.com', port=443): Max retries exceeded with url: /api/v1/search?codes=79925%2C76645%2C96205%2C95682%2C84124%2C54025%2C75236%2C33410%2C65049%2C54205%2C76052%2C0%2C67219&country=US (Caused by NewConnectionError('<urllib3.connection.HTTPSConnection object at 0x7f3d88e44e20>: Failed to establish a new connection: [Errno -3] Temporary failure in name resolution'))",
     "output_type": "error",
     "traceback": [
      "\u001b[0;31m---------------------------------------------------------------------------\u001b[0m",
      "\u001b[0;31mgaierror\u001b[0m                                  Traceback (most recent call last)",
      "\u001b[0;32m~/learning/datascience/pyenv/lib/python3.9/site-packages/urllib3/connection.py\u001b[0m in \u001b[0;36m_new_conn\u001b[0;34m(self)\u001b[0m\n\u001b[1;32m    173\u001b[0m         \u001b[0;32mtry\u001b[0m\u001b[0;34m:\u001b[0m\u001b[0;34m\u001b[0m\u001b[0;34m\u001b[0m\u001b[0m\n\u001b[0;32m--> 174\u001b[0;31m             conn = connection.create_connection(\n\u001b[0m\u001b[1;32m    175\u001b[0m                 \u001b[0;34m(\u001b[0m\u001b[0mself\u001b[0m\u001b[0;34m.\u001b[0m\u001b[0m_dns_host\u001b[0m\u001b[0;34m,\u001b[0m \u001b[0mself\u001b[0m\u001b[0;34m.\u001b[0m\u001b[0mport\u001b[0m\u001b[0;34m)\u001b[0m\u001b[0;34m,\u001b[0m \u001b[0mself\u001b[0m\u001b[0;34m.\u001b[0m\u001b[0mtimeout\u001b[0m\u001b[0;34m,\u001b[0m \u001b[0;34m**\u001b[0m\u001b[0mextra_kw\u001b[0m\u001b[0;34m\u001b[0m\u001b[0;34m\u001b[0m\u001b[0m\n",
      "\u001b[0;32m~/learning/datascience/pyenv/lib/python3.9/site-packages/urllib3/util/connection.py\u001b[0m in \u001b[0;36mcreate_connection\u001b[0;34m(address, timeout, source_address, socket_options)\u001b[0m\n\u001b[1;32m     72\u001b[0m \u001b[0;34m\u001b[0m\u001b[0m\n\u001b[0;32m---> 73\u001b[0;31m     \u001b[0;32mfor\u001b[0m \u001b[0mres\u001b[0m \u001b[0;32min\u001b[0m \u001b[0msocket\u001b[0m\u001b[0;34m.\u001b[0m\u001b[0mgetaddrinfo\u001b[0m\u001b[0;34m(\u001b[0m\u001b[0mhost\u001b[0m\u001b[0;34m,\u001b[0m \u001b[0mport\u001b[0m\u001b[0;34m,\u001b[0m \u001b[0mfamily\u001b[0m\u001b[0;34m,\u001b[0m \u001b[0msocket\u001b[0m\u001b[0;34m.\u001b[0m\u001b[0mSOCK_STREAM\u001b[0m\u001b[0;34m)\u001b[0m\u001b[0;34m:\u001b[0m\u001b[0;34m\u001b[0m\u001b[0;34m\u001b[0m\u001b[0m\n\u001b[0m\u001b[1;32m     74\u001b[0m         \u001b[0maf\u001b[0m\u001b[0;34m,\u001b[0m \u001b[0msocktype\u001b[0m\u001b[0;34m,\u001b[0m \u001b[0mproto\u001b[0m\u001b[0;34m,\u001b[0m \u001b[0mcanonname\u001b[0m\u001b[0;34m,\u001b[0m \u001b[0msa\u001b[0m \u001b[0;34m=\u001b[0m \u001b[0mres\u001b[0m\u001b[0;34m\u001b[0m\u001b[0;34m\u001b[0m\u001b[0m\n",
      "\u001b[0;32m/usr/lib/python3.9/socket.py\u001b[0m in \u001b[0;36mgetaddrinfo\u001b[0;34m(host, port, family, type, proto, flags)\u001b[0m\n\u001b[1;32m    952\u001b[0m     \u001b[0maddrlist\u001b[0m \u001b[0;34m=\u001b[0m \u001b[0;34m[\u001b[0m\u001b[0;34m]\u001b[0m\u001b[0;34m\u001b[0m\u001b[0;34m\u001b[0m\u001b[0m\n\u001b[0;32m--> 953\u001b[0;31m     \u001b[0;32mfor\u001b[0m \u001b[0mres\u001b[0m \u001b[0;32min\u001b[0m \u001b[0m_socket\u001b[0m\u001b[0;34m.\u001b[0m\u001b[0mgetaddrinfo\u001b[0m\u001b[0;34m(\u001b[0m\u001b[0mhost\u001b[0m\u001b[0;34m,\u001b[0m \u001b[0mport\u001b[0m\u001b[0;34m,\u001b[0m \u001b[0mfamily\u001b[0m\u001b[0;34m,\u001b[0m \u001b[0mtype\u001b[0m\u001b[0;34m,\u001b[0m \u001b[0mproto\u001b[0m\u001b[0;34m,\u001b[0m \u001b[0mflags\u001b[0m\u001b[0;34m)\u001b[0m\u001b[0;34m:\u001b[0m\u001b[0;34m\u001b[0m\u001b[0;34m\u001b[0m\u001b[0m\n\u001b[0m\u001b[1;32m    954\u001b[0m         \u001b[0maf\u001b[0m\u001b[0;34m,\u001b[0m \u001b[0msocktype\u001b[0m\u001b[0;34m,\u001b[0m \u001b[0mproto\u001b[0m\u001b[0;34m,\u001b[0m \u001b[0mcanonname\u001b[0m\u001b[0;34m,\u001b[0m \u001b[0msa\u001b[0m \u001b[0;34m=\u001b[0m \u001b[0mres\u001b[0m\u001b[0;34m\u001b[0m\u001b[0;34m\u001b[0m\u001b[0m\n",
      "\u001b[0;31mgaierror\u001b[0m: [Errno -3] Temporary failure in name resolution",
      "\nDuring handling of the above exception, another exception occurred:\n",
      "\u001b[0;31mNewConnectionError\u001b[0m                        Traceback (most recent call last)",
      "\u001b[0;32m~/learning/datascience/pyenv/lib/python3.9/site-packages/urllib3/connectionpool.py\u001b[0m in \u001b[0;36murlopen\u001b[0;34m(self, method, url, body, headers, retries, redirect, assert_same_host, timeout, pool_timeout, release_conn, chunked, body_pos, **response_kw)\u001b[0m\n\u001b[1;32m    698\u001b[0m             \u001b[0;31m# Make the request on the httplib connection object.\u001b[0m\u001b[0;34m\u001b[0m\u001b[0;34m\u001b[0m\u001b[0;34m\u001b[0m\u001b[0m\n\u001b[0;32m--> 699\u001b[0;31m             httplib_response = self._make_request(\n\u001b[0m\u001b[1;32m    700\u001b[0m                 \u001b[0mconn\u001b[0m\u001b[0;34m,\u001b[0m\u001b[0;34m\u001b[0m\u001b[0;34m\u001b[0m\u001b[0m\n",
      "\u001b[0;32m~/learning/datascience/pyenv/lib/python3.9/site-packages/urllib3/connectionpool.py\u001b[0m in \u001b[0;36m_make_request\u001b[0;34m(self, conn, method, url, timeout, chunked, **httplib_request_kw)\u001b[0m\n\u001b[1;32m    381\u001b[0m         \u001b[0;32mtry\u001b[0m\u001b[0;34m:\u001b[0m\u001b[0;34m\u001b[0m\u001b[0;34m\u001b[0m\u001b[0m\n\u001b[0;32m--> 382\u001b[0;31m             \u001b[0mself\u001b[0m\u001b[0;34m.\u001b[0m\u001b[0m_validate_conn\u001b[0m\u001b[0;34m(\u001b[0m\u001b[0mconn\u001b[0m\u001b[0;34m)\u001b[0m\u001b[0;34m\u001b[0m\u001b[0;34m\u001b[0m\u001b[0m\n\u001b[0m\u001b[1;32m    383\u001b[0m         \u001b[0;32mexcept\u001b[0m \u001b[0;34m(\u001b[0m\u001b[0mSocketTimeout\u001b[0m\u001b[0;34m,\u001b[0m \u001b[0mBaseSSLError\u001b[0m\u001b[0;34m)\u001b[0m \u001b[0;32mas\u001b[0m \u001b[0me\u001b[0m\u001b[0;34m:\u001b[0m\u001b[0;34m\u001b[0m\u001b[0;34m\u001b[0m\u001b[0m\n",
      "\u001b[0;32m~/learning/datascience/pyenv/lib/python3.9/site-packages/urllib3/connectionpool.py\u001b[0m in \u001b[0;36m_validate_conn\u001b[0;34m(self, conn)\u001b[0m\n\u001b[1;32m   1009\u001b[0m         \u001b[0;32mif\u001b[0m \u001b[0;32mnot\u001b[0m \u001b[0mgetattr\u001b[0m\u001b[0;34m(\u001b[0m\u001b[0mconn\u001b[0m\u001b[0;34m,\u001b[0m \u001b[0;34m\"sock\"\u001b[0m\u001b[0;34m,\u001b[0m \u001b[0;32mNone\u001b[0m\u001b[0;34m)\u001b[0m\u001b[0;34m:\u001b[0m  \u001b[0;31m# AppEngine might not have  `.sock`\u001b[0m\u001b[0;34m\u001b[0m\u001b[0;34m\u001b[0m\u001b[0m\n\u001b[0;32m-> 1010\u001b[0;31m             \u001b[0mconn\u001b[0m\u001b[0;34m.\u001b[0m\u001b[0mconnect\u001b[0m\u001b[0;34m(\u001b[0m\u001b[0;34m)\u001b[0m\u001b[0;34m\u001b[0m\u001b[0;34m\u001b[0m\u001b[0m\n\u001b[0m\u001b[1;32m   1011\u001b[0m \u001b[0;34m\u001b[0m\u001b[0m\n",
      "\u001b[0;32m~/learning/datascience/pyenv/lib/python3.9/site-packages/urllib3/connection.py\u001b[0m in \u001b[0;36mconnect\u001b[0;34m(self)\u001b[0m\n\u001b[1;32m    357\u001b[0m         \u001b[0;31m# Add certificate verification\u001b[0m\u001b[0;34m\u001b[0m\u001b[0;34m\u001b[0m\u001b[0;34m\u001b[0m\u001b[0m\n\u001b[0;32m--> 358\u001b[0;31m         \u001b[0mconn\u001b[0m \u001b[0;34m=\u001b[0m \u001b[0mself\u001b[0m\u001b[0;34m.\u001b[0m\u001b[0m_new_conn\u001b[0m\u001b[0;34m(\u001b[0m\u001b[0;34m)\u001b[0m\u001b[0;34m\u001b[0m\u001b[0;34m\u001b[0m\u001b[0m\n\u001b[0m\u001b[1;32m    359\u001b[0m         \u001b[0mhostname\u001b[0m \u001b[0;34m=\u001b[0m \u001b[0mself\u001b[0m\u001b[0;34m.\u001b[0m\u001b[0mhost\u001b[0m\u001b[0;34m\u001b[0m\u001b[0;34m\u001b[0m\u001b[0m\n",
      "\u001b[0;32m~/learning/datascience/pyenv/lib/python3.9/site-packages/urllib3/connection.py\u001b[0m in \u001b[0;36m_new_conn\u001b[0;34m(self)\u001b[0m\n\u001b[1;32m    185\u001b[0m         \u001b[0;32mexcept\u001b[0m \u001b[0mSocketError\u001b[0m \u001b[0;32mas\u001b[0m \u001b[0me\u001b[0m\u001b[0;34m:\u001b[0m\u001b[0;34m\u001b[0m\u001b[0;34m\u001b[0m\u001b[0m\n\u001b[0;32m--> 186\u001b[0;31m             raise NewConnectionError(\n\u001b[0m\u001b[1;32m    187\u001b[0m                 \u001b[0mself\u001b[0m\u001b[0;34m,\u001b[0m \u001b[0;34m\"Failed to establish a new connection: %s\"\u001b[0m \u001b[0;34m%\u001b[0m \u001b[0me\u001b[0m\u001b[0;34m\u001b[0m\u001b[0;34m\u001b[0m\u001b[0m\n",
      "\u001b[0;31mNewConnectionError\u001b[0m: <urllib3.connection.HTTPSConnection object at 0x7f3d88e44e20>: Failed to establish a new connection: [Errno -3] Temporary failure in name resolution",
      "\nDuring handling of the above exception, another exception occurred:\n",
      "\u001b[0;31mMaxRetryError\u001b[0m                             Traceback (most recent call last)",
      "\u001b[0;32m~/learning/datascience/pyenv/lib/python3.9/site-packages/requests/adapters.py\u001b[0m in \u001b[0;36msend\u001b[0;34m(self, request, stream, timeout, verify, cert, proxies)\u001b[0m\n\u001b[1;32m    438\u001b[0m             \u001b[0;32mif\u001b[0m \u001b[0;32mnot\u001b[0m \u001b[0mchunked\u001b[0m\u001b[0;34m:\u001b[0m\u001b[0;34m\u001b[0m\u001b[0;34m\u001b[0m\u001b[0m\n\u001b[0;32m--> 439\u001b[0;31m                 resp = conn.urlopen(\n\u001b[0m\u001b[1;32m    440\u001b[0m                     \u001b[0mmethod\u001b[0m\u001b[0;34m=\u001b[0m\u001b[0mrequest\u001b[0m\u001b[0;34m.\u001b[0m\u001b[0mmethod\u001b[0m\u001b[0;34m,\u001b[0m\u001b[0;34m\u001b[0m\u001b[0;34m\u001b[0m\u001b[0m\n",
      "\u001b[0;32m~/learning/datascience/pyenv/lib/python3.9/site-packages/urllib3/connectionpool.py\u001b[0m in \u001b[0;36murlopen\u001b[0;34m(self, method, url, body, headers, retries, redirect, assert_same_host, timeout, pool_timeout, release_conn, chunked, body_pos, **response_kw)\u001b[0m\n\u001b[1;32m    754\u001b[0m \u001b[0;34m\u001b[0m\u001b[0m\n\u001b[0;32m--> 755\u001b[0;31m             retries = retries.increment(\n\u001b[0m\u001b[1;32m    756\u001b[0m                 \u001b[0mmethod\u001b[0m\u001b[0;34m,\u001b[0m \u001b[0murl\u001b[0m\u001b[0;34m,\u001b[0m \u001b[0merror\u001b[0m\u001b[0;34m=\u001b[0m\u001b[0me\u001b[0m\u001b[0;34m,\u001b[0m \u001b[0m_pool\u001b[0m\u001b[0;34m=\u001b[0m\u001b[0mself\u001b[0m\u001b[0;34m,\u001b[0m \u001b[0m_stacktrace\u001b[0m\u001b[0;34m=\u001b[0m\u001b[0msys\u001b[0m\u001b[0;34m.\u001b[0m\u001b[0mexc_info\u001b[0m\u001b[0;34m(\u001b[0m\u001b[0;34m)\u001b[0m\u001b[0;34m[\u001b[0m\u001b[0;36m2\u001b[0m\u001b[0;34m]\u001b[0m\u001b[0;34m\u001b[0m\u001b[0;34m\u001b[0m\u001b[0m\n",
      "\u001b[0;32m~/learning/datascience/pyenv/lib/python3.9/site-packages/urllib3/util/retry.py\u001b[0m in \u001b[0;36mincrement\u001b[0;34m(self, method, url, response, error, _pool, _stacktrace)\u001b[0m\n\u001b[1;32m    573\u001b[0m         \u001b[0;32mif\u001b[0m \u001b[0mnew_retry\u001b[0m\u001b[0;34m.\u001b[0m\u001b[0mis_exhausted\u001b[0m\u001b[0;34m(\u001b[0m\u001b[0;34m)\u001b[0m\u001b[0;34m:\u001b[0m\u001b[0;34m\u001b[0m\u001b[0;34m\u001b[0m\u001b[0m\n\u001b[0;32m--> 574\u001b[0;31m             \u001b[0;32mraise\u001b[0m \u001b[0mMaxRetryError\u001b[0m\u001b[0;34m(\u001b[0m\u001b[0m_pool\u001b[0m\u001b[0;34m,\u001b[0m \u001b[0murl\u001b[0m\u001b[0;34m,\u001b[0m \u001b[0merror\u001b[0m \u001b[0;32mor\u001b[0m \u001b[0mResponseError\u001b[0m\u001b[0;34m(\u001b[0m\u001b[0mcause\u001b[0m\u001b[0;34m)\u001b[0m\u001b[0;34m)\u001b[0m\u001b[0;34m\u001b[0m\u001b[0;34m\u001b[0m\u001b[0m\n\u001b[0m\u001b[1;32m    575\u001b[0m \u001b[0;34m\u001b[0m\u001b[0m\n",
      "\u001b[0;31mMaxRetryError\u001b[0m: HTTPSConnectionPool(host='app.zipcodebase.com', port=443): Max retries exceeded with url: /api/v1/search?codes=79925%2C76645%2C96205%2C95682%2C84124%2C54025%2C75236%2C33410%2C65049%2C54205%2C76052%2C0%2C67219&country=US (Caused by NewConnectionError('<urllib3.connection.HTTPSConnection object at 0x7f3d88e44e20>: Failed to establish a new connection: [Errno -3] Temporary failure in name resolution'))",
      "\nDuring handling of the above exception, another exception occurred:\n",
      "\u001b[0;31mConnectionError\u001b[0m                           Traceback (most recent call last)",
      "\u001b[0;32m/tmp/ipykernel_6513/597999988.py\u001b[0m in \u001b[0;36m<module>\u001b[0;34m\u001b[0m\n\u001b[1;32m      7\u001b[0m \u001b[0mzips\u001b[0m \u001b[0;34m=\u001b[0m \u001b[0mx_train\u001b[0m\u001b[0;34m.\u001b[0m\u001b[0mloc\u001b[0m\u001b[0;34m[\u001b[0m\u001b[0mcond\u001b[0m\u001b[0;34m,\u001b[0m \u001b[0;34m'Zip'\u001b[0m\u001b[0;34m]\u001b[0m\u001b[0;34m\u001b[0m\u001b[0;34m\u001b[0m\u001b[0m\n\u001b[1;32m      8\u001b[0m \u001b[0mprint\u001b[0m\u001b[0;34m(\u001b[0m\u001b[0;34m'Find State from Zip:'\u001b[0m\u001b[0;34m)\u001b[0m\u001b[0;34m\u001b[0m\u001b[0;34m\u001b[0m\u001b[0m\n\u001b[0;32m----> 9\u001b[0;31m \u001b[0mzip_mapping\u001b[0m \u001b[0;34m=\u001b[0m \u001b[0mzip_to_state\u001b[0m\u001b[0;34m(\u001b[0m\u001b[0mzips\u001b[0m\u001b[0;34m,\u001b[0m \u001b[0mAPI_KEY\u001b[0m\u001b[0;34m)\u001b[0m\u001b[0;34m\u001b[0m\u001b[0;34m\u001b[0m\u001b[0m\n\u001b[0m\u001b[1;32m     10\u001b[0m \u001b[0mprint\u001b[0m\u001b[0;34m(\u001b[0m\u001b[0;34m'Result:'\u001b[0m\u001b[0;34m,\u001b[0m \u001b[0mzip_mapping\u001b[0m\u001b[0;34m)\u001b[0m\u001b[0;34m\u001b[0m\u001b[0;34m\u001b[0m\u001b[0m\n\u001b[1;32m     11\u001b[0m \u001b[0;34m\u001b[0m\u001b[0m\n",
      "\u001b[0;32m~/learning/datascience/dsp305x/utils.py\u001b[0m in \u001b[0;36mzip_to_state\u001b[0;34m(zips, apikey)\u001b[0m\n\u001b[1;32m    338\u001b[0m     '''\n\u001b[1;32m    339\u001b[0m     \u001b[0mzips\u001b[0m \u001b[0;34m=\u001b[0m \u001b[0;34m','\u001b[0m\u001b[0;34m.\u001b[0m\u001b[0mjoin\u001b[0m\u001b[0;34m(\u001b[0m\u001b[0;34m[\u001b[0m\u001b[0mstr\u001b[0m\u001b[0;34m(\u001b[0m\u001b[0mz\u001b[0m\u001b[0;34m)\u001b[0m \u001b[0;32mfor\u001b[0m \u001b[0mz\u001b[0m \u001b[0;32min\u001b[0m \u001b[0mzips\u001b[0m\u001b[0;34m]\u001b[0m\u001b[0;34m)\u001b[0m\u001b[0;34m\u001b[0m\u001b[0;34m\u001b[0m\u001b[0m\n\u001b[0;32m--> 340\u001b[0;31m     response = requests.get(r'https://app.zipcodebase.com/api/v1/search',\n\u001b[0m\u001b[1;32m    341\u001b[0m                             \u001b[0mparams\u001b[0m\u001b[0;34m=\u001b[0m\u001b[0;34m{\u001b[0m\u001b[0;34m'codes'\u001b[0m\u001b[0;34m:\u001b[0m \u001b[0mzips\u001b[0m\u001b[0;34m,\u001b[0m \u001b[0;34m'country'\u001b[0m\u001b[0;34m:\u001b[0m \u001b[0;34m'US'\u001b[0m\u001b[0;34m}\u001b[0m\u001b[0;34m,\u001b[0m\u001b[0;34m\u001b[0m\u001b[0;34m\u001b[0m\u001b[0m\n\u001b[1;32m    342\u001b[0m                             headers={'apikey': apikey})\n",
      "\u001b[0;32m~/learning/datascience/pyenv/lib/python3.9/site-packages/requests/api.py\u001b[0m in \u001b[0;36mget\u001b[0;34m(url, params, **kwargs)\u001b[0m\n\u001b[1;32m     73\u001b[0m     \"\"\"\n\u001b[1;32m     74\u001b[0m \u001b[0;34m\u001b[0m\u001b[0m\n\u001b[0;32m---> 75\u001b[0;31m     \u001b[0;32mreturn\u001b[0m \u001b[0mrequest\u001b[0m\u001b[0;34m(\u001b[0m\u001b[0;34m'get'\u001b[0m\u001b[0;34m,\u001b[0m \u001b[0murl\u001b[0m\u001b[0;34m,\u001b[0m \u001b[0mparams\u001b[0m\u001b[0;34m=\u001b[0m\u001b[0mparams\u001b[0m\u001b[0;34m,\u001b[0m \u001b[0;34m**\u001b[0m\u001b[0mkwargs\u001b[0m\u001b[0;34m)\u001b[0m\u001b[0;34m\u001b[0m\u001b[0;34m\u001b[0m\u001b[0m\n\u001b[0m\u001b[1;32m     76\u001b[0m \u001b[0;34m\u001b[0m\u001b[0m\n\u001b[1;32m     77\u001b[0m \u001b[0;34m\u001b[0m\u001b[0m\n",
      "\u001b[0;32m~/learning/datascience/pyenv/lib/python3.9/site-packages/requests/api.py\u001b[0m in \u001b[0;36mrequest\u001b[0;34m(method, url, **kwargs)\u001b[0m\n\u001b[1;32m     59\u001b[0m     \u001b[0;31m# cases, and look like a memory leak in others.\u001b[0m\u001b[0;34m\u001b[0m\u001b[0;34m\u001b[0m\u001b[0;34m\u001b[0m\u001b[0m\n\u001b[1;32m     60\u001b[0m     \u001b[0;32mwith\u001b[0m \u001b[0msessions\u001b[0m\u001b[0;34m.\u001b[0m\u001b[0mSession\u001b[0m\u001b[0;34m(\u001b[0m\u001b[0;34m)\u001b[0m \u001b[0;32mas\u001b[0m \u001b[0msession\u001b[0m\u001b[0;34m:\u001b[0m\u001b[0;34m\u001b[0m\u001b[0;34m\u001b[0m\u001b[0m\n\u001b[0;32m---> 61\u001b[0;31m         \u001b[0;32mreturn\u001b[0m \u001b[0msession\u001b[0m\u001b[0;34m.\u001b[0m\u001b[0mrequest\u001b[0m\u001b[0;34m(\u001b[0m\u001b[0mmethod\u001b[0m\u001b[0;34m=\u001b[0m\u001b[0mmethod\u001b[0m\u001b[0;34m,\u001b[0m \u001b[0murl\u001b[0m\u001b[0;34m=\u001b[0m\u001b[0murl\u001b[0m\u001b[0;34m,\u001b[0m \u001b[0;34m**\u001b[0m\u001b[0mkwargs\u001b[0m\u001b[0;34m)\u001b[0m\u001b[0;34m\u001b[0m\u001b[0;34m\u001b[0m\u001b[0m\n\u001b[0m\u001b[1;32m     62\u001b[0m \u001b[0;34m\u001b[0m\u001b[0m\n\u001b[1;32m     63\u001b[0m \u001b[0;34m\u001b[0m\u001b[0m\n",
      "\u001b[0;32m~/learning/datascience/pyenv/lib/python3.9/site-packages/requests/sessions.py\u001b[0m in \u001b[0;36mrequest\u001b[0;34m(self, method, url, params, data, headers, cookies, files, auth, timeout, allow_redirects, proxies, hooks, stream, verify, cert, json)\u001b[0m\n\u001b[1;32m    540\u001b[0m         }\n\u001b[1;32m    541\u001b[0m         \u001b[0msend_kwargs\u001b[0m\u001b[0;34m.\u001b[0m\u001b[0mupdate\u001b[0m\u001b[0;34m(\u001b[0m\u001b[0msettings\u001b[0m\u001b[0;34m)\u001b[0m\u001b[0;34m\u001b[0m\u001b[0;34m\u001b[0m\u001b[0m\n\u001b[0;32m--> 542\u001b[0;31m         \u001b[0mresp\u001b[0m \u001b[0;34m=\u001b[0m \u001b[0mself\u001b[0m\u001b[0;34m.\u001b[0m\u001b[0msend\u001b[0m\u001b[0;34m(\u001b[0m\u001b[0mprep\u001b[0m\u001b[0;34m,\u001b[0m \u001b[0;34m**\u001b[0m\u001b[0msend_kwargs\u001b[0m\u001b[0;34m)\u001b[0m\u001b[0;34m\u001b[0m\u001b[0;34m\u001b[0m\u001b[0m\n\u001b[0m\u001b[1;32m    543\u001b[0m \u001b[0;34m\u001b[0m\u001b[0m\n\u001b[1;32m    544\u001b[0m         \u001b[0;32mreturn\u001b[0m \u001b[0mresp\u001b[0m\u001b[0;34m\u001b[0m\u001b[0;34m\u001b[0m\u001b[0m\n",
      "\u001b[0;32m~/learning/datascience/pyenv/lib/python3.9/site-packages/requests/sessions.py\u001b[0m in \u001b[0;36msend\u001b[0;34m(self, request, **kwargs)\u001b[0m\n\u001b[1;32m    653\u001b[0m \u001b[0;34m\u001b[0m\u001b[0m\n\u001b[1;32m    654\u001b[0m         \u001b[0;31m# Send the request\u001b[0m\u001b[0;34m\u001b[0m\u001b[0;34m\u001b[0m\u001b[0;34m\u001b[0m\u001b[0m\n\u001b[0;32m--> 655\u001b[0;31m         \u001b[0mr\u001b[0m \u001b[0;34m=\u001b[0m \u001b[0madapter\u001b[0m\u001b[0;34m.\u001b[0m\u001b[0msend\u001b[0m\u001b[0;34m(\u001b[0m\u001b[0mrequest\u001b[0m\u001b[0;34m,\u001b[0m \u001b[0;34m**\u001b[0m\u001b[0mkwargs\u001b[0m\u001b[0;34m)\u001b[0m\u001b[0;34m\u001b[0m\u001b[0;34m\u001b[0m\u001b[0m\n\u001b[0m\u001b[1;32m    656\u001b[0m \u001b[0;34m\u001b[0m\u001b[0m\n\u001b[1;32m    657\u001b[0m         \u001b[0;31m# Total elapsed time of the request (approximately)\u001b[0m\u001b[0;34m\u001b[0m\u001b[0;34m\u001b[0m\u001b[0;34m\u001b[0m\u001b[0m\n",
      "\u001b[0;32m~/learning/datascience/pyenv/lib/python3.9/site-packages/requests/adapters.py\u001b[0m in \u001b[0;36msend\u001b[0;34m(self, request, stream, timeout, verify, cert, proxies)\u001b[0m\n\u001b[1;32m    514\u001b[0m                 \u001b[0;32mraise\u001b[0m \u001b[0mSSLError\u001b[0m\u001b[0;34m(\u001b[0m\u001b[0me\u001b[0m\u001b[0;34m,\u001b[0m \u001b[0mrequest\u001b[0m\u001b[0;34m=\u001b[0m\u001b[0mrequest\u001b[0m\u001b[0;34m)\u001b[0m\u001b[0;34m\u001b[0m\u001b[0;34m\u001b[0m\u001b[0m\n\u001b[1;32m    515\u001b[0m \u001b[0;34m\u001b[0m\u001b[0m\n\u001b[0;32m--> 516\u001b[0;31m             \u001b[0;32mraise\u001b[0m \u001b[0mConnectionError\u001b[0m\u001b[0;34m(\u001b[0m\u001b[0me\u001b[0m\u001b[0;34m,\u001b[0m \u001b[0mrequest\u001b[0m\u001b[0;34m=\u001b[0m\u001b[0mrequest\u001b[0m\u001b[0;34m)\u001b[0m\u001b[0;34m\u001b[0m\u001b[0;34m\u001b[0m\u001b[0m\n\u001b[0m\u001b[1;32m    517\u001b[0m \u001b[0;34m\u001b[0m\u001b[0m\n\u001b[1;32m    518\u001b[0m         \u001b[0;32mexcept\u001b[0m \u001b[0mClosedPoolError\u001b[0m \u001b[0;32mas\u001b[0m \u001b[0me\u001b[0m\u001b[0;34m:\u001b[0m\u001b[0;34m\u001b[0m\u001b[0;34m\u001b[0m\u001b[0m\n",
      "\u001b[0;31mConnectionError\u001b[0m: HTTPSConnectionPool(host='app.zipcodebase.com', port=443): Max retries exceeded with url: /api/v1/search?codes=79925%2C76645%2C96205%2C95682%2C84124%2C54025%2C75236%2C33410%2C65049%2C54205%2C76052%2C0%2C67219&country=US (Caused by NewConnectionError('<urllib3.connection.HTTPSConnection object at 0x7f3d88e44e20>: Failed to establish a new connection: [Errno -3] Temporary failure in name resolution'))"
     ]
    }
   ],
   "source": [
    "API_KEY = '545ab510-8aa0-11ec-ad0d-8929d7c50b49'\n",
    "\n",
    "cond = x_train['State'].isna()\n",
    "print('Missing State:')\n",
    "display(x_train.loc[cond, ['City', 'Zip', 'State']])\n",
    "\n",
    "zips = x_train.loc[cond, 'Zip']\n",
    "print('Find State from Zip:')\n",
    "zip_mapping = zip_to_state(zips, API_KEY)\n",
    "print('Result:', zip_mapping)\n",
    "\n",
    "def state_imputer(x, zip_mapping):\n",
    "    states = x['State'].copy()\n",
    "    cond = states.isna()\n",
    "    states[cond] = x.loc[cond, 'Zip'].replace(zip_mapping)\n",
    "    cond = states.isin([0, ''])\n",
    "    states[cond] = x.loc[cond, 'City'].str.slice(-2)\n",
    "    return states\n",
    "\n",
    "x = pd.DataFrame({'State': state_imputer(x_train, zip_mapping),\n",
    "                  'Recession': recession})\n",
    "\n",
    "def plot_states_data(feature, x, y):\n",
    "    recession = x['Recession']\n",
    "    state_rate = target_rate_by_feature(x.loc[~recession, feature],\n",
    "                                        y_train[~recession])\n",
    "    state_rate = state_rate[POSITIVE]\n",
    "    state_recession_rate = target_rate_by_feature(x.loc[recession, feature],\n",
    "                                                  y_train[recession])\n",
    "    state_recession_rate = state_recession_rate[POSITIVE]\n",
    "\n",
    "    # Note same scale\n",
    "    vmin = min(state_rate.min(), state_recession_rate.min())\n",
    "    vmax = max(state_rate.max(), state_recession_rate.max())\n",
    "\n",
    "    plot_geospartial(state_rate,\n",
    "                     (12, 8),\n",
    "                     cmap='OrRd',\n",
    "                     title=f'{POSITIVE} rate by {feature} (no Recession)',\n",
    "                     vmin=vmin,\n",
    "                     vmax=vmax)\n",
    "\n",
    "    plot_geospartial(state_recession_rate,\n",
    "                     (12, 8),\n",
    "                     cmap='OrRd',\n",
    "                     title=f'{POSITIVE} rate by {feature} (Recession)',\n",
    "                     vmin=vmin,\n",
    "                     vmax=vmax)\n",
    "\n",
    "    state_increase = (state_recession_rate - state_rate) / state_rate\n",
    "    state_increase = state_increase.fillna(0)\n",
    "    plot_geospartial(state_increase,\n",
    "                     (12, 8),\n",
    "                     cmap='OrRd',\n",
    "                     title=f'{POSITIVE} rate increasement with Recession by {feature}')\n",
    "\n",
    "    plt.show()\n",
    "    return state_rate, state_recession_rate, state_increase\n",
    "\n",
    "state_rate, _, state_increase = plot_states_data('State', x, y_train)\n",
    "\n",
    "# Finding how to group States\n",
    "model = KMeans(n_clusters=5)\n",
    "\n",
    "def get_mapping(data, feature):\n",
    "    return {str(cluster): info[feature] for cluster, info in data.items()}\n",
    "\n",
    "def get_inversed_mapping(data):\n",
    "    return {categ: cluster for cluster, group in data.items() for categ in group}\n",
    "\n",
    "CLUSTER_STATE = get_mapping(find_clusters(model, state_rate), 'State')\n",
    "STATE_CLUSTER = get_inversed_mapping(CLUSTER_STATE)\n",
    "print('State clusters:')\n",
    "print(CLUSTER_STATE)\n",
    "print()\n",
    "CLUSTER_STATE_INCREASE = get_mapping(find_clusters(model, state_increase), 'State')\n",
    "STATE_CLUSTER_INCREASE = get_inversed_mapping(CLUSTER_STATE_INCREASE)\n",
    "print(f'State clusters by {POSITIVE} rate increase:')\n",
    "print(CLUSTER_STATE_INCREASE)"
   ]
  },
  {
   "cell_type": "markdown",
   "id": "62c175bd-6827-4b0c-9df0-3dff9f2a7846",
   "metadata": {},
   "source": [
    "### Bank, BankState (ngân hàng, bang của ngân hàng)\n",
    "\n",
    "* Có 56 kiểu giá trị do tại cột này liệt kê cả các lãnh thổ không phải là bang như: Guam, Puerto Rico, Vigin Island...\n",
    "* Tỷ lệ CHGOFF giữa các BankState cũng có sự khác biệt\n",
    "* Thực hiện feature engineering như biến State\n",
    "* Các trường hợp thiếu dữ liệu có thể gán bằng State"
   ]
  },
  {
   "cell_type": "code",
   "execution_count": null,
   "id": "4b968ab9-d92b-48f1-b05f-74e0be4e794c",
   "metadata": {
    "tags": []
   },
   "outputs": [],
   "source": [
    "territories = set(x_train['BankState'].unique()) - set(x_train['State'].unique())\n",
    "print('BankState territories:', territories)\n",
    "\n",
    "x = pd.DataFrame({'BankState': x_train['BankState'],\n",
    "                  'Recession': recession})\n",
    "\n",
    "state_rate, _, state_increase = plot_states_data('BankState', x, y)\n",
    "\n",
    "BANK_STATE_CLUSTERS = find_clusters(model, state_rate)\n",
    "print('BankState clusters:')\n",
    "print(BANK_STATE_CLUSTERS)\n",
    "print()\n",
    "BANKSTATE_INCREASE_CLUSTER = find_clusters(model, state_increase)\n",
    "print(f'BankState clusters by {POSITIVE} rate increase:')\n",
    "print(BANKSTATE_INCREASE_CLUSTER)"
   ]
  },
  {
   "cell_type": "markdown",
   "id": "09d270d9-a71d-4457-ba8b-4fea506ff4b9",
   "metadata": {
    "tags": []
   },
   "source": [
    "### NAICS (mã ngành)\n",
    "\n",
    "* Có hơn 180.000 trường hợp thiếu dữ liệu mã ngành (=0).\n",
    "* 2 ký tự đầu cột này được code từ 11 - 92 cho mỗi ngành, tổng cộng 24 loại theo bảng tham số naics.csv.\n",
    "* Thực hiện nhóm các ngành thành nhóm ngành (ví dụ 31, 32, 33 cùng nhóm Manufacturing).\n",
    "* Các nhóm ngành khác nhau có mức độ rủi ro khác nhau có tỷ lệ CHGOFF sẽ khác nhau.\n",
    "* Bằng cách sử dụng phân cụm KMeans ta có thể chia các nhóm ngành thành 5 nhóm (rất thấp, thấp, trung bình, cao, rất cao) theo tỷ lệ CHGOFF trong giai đoạn không suy thoái.\n",
    "* Hầu hết các nhóm ngành đều có tỷ lệ CHGOFF tăng trong thời kỳ suy thoái. Tuy nhiên mức độ tăng là khác nhau giữa các ngành (ví dụ Public Administration có tỷ lệ CGHOFF cao hơn hẳn các nhóm khác). Do đó ta có thể đưa vào mô hình thêm thuộc tính: tỷ lệ CHGOFF tăng trong giai đoạn suy thoái (thấp, trung bình, cao). Việc chia nhóm cũng được thực hiện bằng phân cụm Kmeans."
   ]
  },
  {
   "cell_type": "code",
   "execution_count": null,
   "id": "9a801f69-648d-404b-bf4b-abe69487fe1c",
   "metadata": {
    "tags": []
   },
   "outputs": [],
   "source": [
    "# Get NAICS mapping\n",
    "naics_map_df = pd.read_csv('data/naics.csv', index_col=0)\n",
    "NAICS_CODES = naics_map_df['IndustryCode']\n",
    "print('NAICS mapping:')\n",
    "display(naics_map_df.head(10))\n",
    "\n",
    "INDUSTRY_DESC = naics_map_df.groupby('IndustryCode').agg('first').iloc[:, 0]\n",
    "\n",
    "# Plot industries\n",
    "x = x_train['NAICS'].map(lambda x: int(str(x)[:2])).map(NAICS_CODES)\n",
    "x.name = 'Industry'\n",
    "\n",
    "industry = target_rate_by_feature(x[~recession],\n",
    "                                  y_train[~recession])\n",
    "industry = industry[POSITIVE]\n",
    "\n",
    "industry_recession = target_rate_by_feature(x[recession],\n",
    "                                            y_train[recession])\n",
    "industry_recession = industry_recession[POSITIVE]\n",
    "\n",
    "industry_df = pd.concat([industry,\n",
    "                         industry_recession],\n",
    "                        axis='columns')\n",
    "industry_df.index = industry_df.index.astype(np.int64).map(INDUSTRY_DESC)\n",
    "industry_df.columns = ['No recession', 'Recession']\n",
    "industry_df = industry_df.sort_values('No recession')\n",
    "y = np.arange(industry_df.shape[0])\n",
    "plt.figure(figsize=(8, 16))\n",
    "plt.barh(y - 0.2, industry_df['No recession'], height=0.4)\n",
    "plt.barh(y + 0.2, industry_df['Recession'], height=0.4)\n",
    "plt.yticks(y, industry_df.index)\n",
    "plt.title(f'{POSITIVE} rate by NAICS')\n",
    "plt.legend(industry_df.columns)\n",
    "plt.show()\n",
    "\n",
    "# Find industry clusters\n",
    "model = KMeans(n_clusters=5)\n",
    "CLUSTER_INDUSTRY = get_mapping(find_clusters(model, industry), 'Industry')\n",
    "INDUSTRY_CLUSTER = get_inversed_mapping(CLUSTER_INDUSTRY)\n",
    "print('Industry clusters:')\n",
    "print(CLUSTER_INDUSTRY)\n",
    "\n",
    "print()\n",
    "industry_increase = (industry_recession - industry) / industry\n",
    "CLUSTER_INDUSTRY_INCREASE = get_mapping(find_clusters(model, industry_increase), 'Industry')\n",
    "INDUSTRY_CLUSTER_INCREASE = get_inversed_mapping(CLUSTER_INDUSTRY_INCREASE)\n",
    "print('Industry clusters by recession increase:')\n",
    "print(CLUSTER_INDUSTRY_INCREASE)"
   ]
  },
  {
   "cell_type": "markdown",
   "id": "0f7eb232-6512-4d99-b087-70f29cc30bbf",
   "metadata": {},
   "source": [
    "### NewExist (Khách hàng là doanh nghiệp mới)"
   ]
  },
  {
   "cell_type": "markdown",
   "id": "4a60a50f-b3d8-4000-aedc-4d4a2b81117b",
   "metadata": {},
   "source": [
    "* Định nghĩa Khách hàng mới:\n",
    "    * Khách hàng thành lập trên 2 năm: Giá trị 1\n",
    "    * Khách hàng thành lập từ 2 năm trở xuống: Giá trị 2\n",
    "    * Thiếu dữ liệu: Giá trị 0\n",
    "* Qua quan sát biểu đồ thì biến này không có ảnh hưởng nhiều tới kết quả.\n",
    "* Có khoảng 900 trường hợp thiếu dữ liệu có thể gán bằng 1 (giá trị mode)"
   ]
  },
  {
   "cell_type": "code",
   "execution_count": null,
   "id": "b8347160-c5fd-456c-8881-d974f41c1eb5",
   "metadata": {
    "tags": []
   },
   "outputs": [],
   "source": [
    "print('NewExist counts:')\n",
    "display(x_train['NewExist'].value_counts(dropna=False))\n",
    "\n",
    "new_exist = x_train['NewExist'].fillna(0)\n",
    "cond = (new_exist != 0)\n",
    "counts = pd.DataFrame(y_train[cond]).pivot_table(index=y_train[cond],\n",
    "                                                 columns=new_exist[cond],\n",
    "                                                 values=y_train.name,\n",
    "                                                 aggfunc='count')\n",
    "portions = counts / counts.sum()\n",
    "plot_stacked_bars(portions)\n",
    "plt.show()"
   ]
  },
  {
   "cell_type": "markdown",
   "id": "f65124f1-9b76-430e-a4e8-b23d4dc3b062",
   "metadata": {},
   "source": [
    "### NoEmp (Số lao động)\n",
    "\n",
    "Phân phối lệch phải. Thực hiện biến đổi Yeo-Johnson, qua biểu đồ trực quan hoá có thể thấy các khoản vay PIF thì Khách hàng có nhiều lao động hơn khoản vay CHGOFF (Quy mô lớn hơn thì có khả năng trả nợ tốt hơn)."
   ]
  },
  {
   "cell_type": "code",
   "execution_count": null,
   "id": "0dd41df7-a094-44e5-b1be-4775ddcffc91",
   "metadata": {
    "tags": []
   },
   "outputs": [],
   "source": [
    "transformer = PowerTransformer(method='yeo-johnson', standardize=False)\n",
    "\n",
    "transformed_amounts = pd.DataFrame(transformer.fit_transform(x_train[['NoEmp']]),\n",
    "                                   index=x_train.index,\n",
    "                                   columns=['NoEmp'])\n",
    "\n",
    "plot_hist_and_boxplot(x_train['NoEmp'],\n",
    "                      transformed_amounts.iloc[:, 0],\n",
    "                      y_train,\n",
    "                      LABELS)"
   ]
  },
  {
   "cell_type": "markdown",
   "id": "f769e6a6-2c32-459f-8344-2429f92b9e67",
   "metadata": {},
   "source": [
    "### FranchiseCode (Nhượng quyền)\n",
    "\n",
    "* Các giá trị:\n",
    "    * 0, 1: Không nhượng quyền\n",
    "    * Các giá trị khác: Có nhượng quyền\n",
    "* Qua quan sát biểu đồ thì biến này không có ảnh hưởng nhiều tới kết quả."
   ]
  },
  {
   "cell_type": "code",
   "execution_count": null,
   "id": "8a2c5560-317e-4ae7-b174-6dd022620742",
   "metadata": {
    "tags": []
   },
   "outputs": [],
   "source": [
    "franchise = x_train['FranchiseCode']\n",
    "print('FranchiseCode counts:')\n",
    "display(franchise.value_counts())\n",
    "\n",
    "franchise = (franchise > 1)\n",
    "counts = pd.DataFrame(y_train).pivot_table(index=y_train,\n",
    "                                           columns=franchise,\n",
    "                                           values=y_train.name,\n",
    "                                           aggfunc='count')\n",
    "portions = counts / counts.sum()\n",
    "plot_stacked_bars(portions)\n",
    "plt.show()"
   ]
  },
  {
   "cell_type": "markdown",
   "id": "ca85a131-6751-4467-a2ea-52f4020c1e8e",
   "metadata": {},
   "source": [
    "### UrbanRural (Đô thị, nông thôn)\n",
    "\n",
    "* Các giá trị:\n",
    "    * 1: Đô thị\n",
    "    * 2: Nông thôn\n",
    "    * 0: Không xác định\n",
    "* Số lượng quan sát không xác định (0) là lớn (khoảng 290.000) do đó ta loại trừ biến này trong quá trình huấn luyện"
   ]
  },
  {
   "cell_type": "code",
   "execution_count": null,
   "id": "da444acf-d0bf-4c64-b2b4-7d889b49f200",
   "metadata": {
    "tags": []
   },
   "outputs": [],
   "source": [
    "urban_rural = x_train['UrbanRural']\n",
    "print('UrbanRural counts:')\n",
    "display(urban_rural.value_counts())\n",
    "cond = (urban_rural>0)\n",
    "\n",
    "counts = pd.DataFrame(y_train[cond]).pivot_table(index=y_train[cond],\n",
    "                                                 columns=urban_rural[cond],\n",
    "                                                 values=y_train.name,\n",
    "                                                 aggfunc='count')\n",
    "portions = counts / counts.sum()\n",
    "plot_stacked_bars(portions)\n",
    "plt.show()"
   ]
  },
  {
   "cell_type": "markdown",
   "id": "4588769f-741d-449f-b917-506074ec95ad",
   "metadata": {},
   "source": [
    "### RevLineCr (Vay tuần hoàn)\n",
    "\n",
    "* Các giá trị:\n",
    "    * Y: Có\n",
    "    * N: Không\n",
    "    * Khác: Lỗi, thiếu dữ liệu\n",
    "* Số lượng quan sát lỗi, thiếu dữ liệu là lớn (khoảng 250.000) do đó ta loại trừ biến này trong quá trình huấn luyện"
   ]
  },
  {
   "cell_type": "code",
   "execution_count": null,
   "id": "f30d99f2-5afb-4b24-8292-535cc32681c8",
   "metadata": {
    "tags": []
   },
   "outputs": [],
   "source": [
    "rev_line_cr = x_train['RevLineCr']\n",
    "print('RevLineCr counts:')\n",
    "display(rev_line_cr.value_counts(dropna=False))\n",
    "cond = rev_line_cr.isin(['Y', 'N'])\n",
    "\n",
    "counts = pd.DataFrame(y_train[cond]).pivot_table(index=y_train[cond],\n",
    "                                                 columns=rev_line_cr[cond],\n",
    "                                                 values=y_train.name,\n",
    "                                                 aggfunc='count')\n",
    "portions = counts / counts.sum()\n",
    "plot_stacked_bars(portions)\n",
    "plt.show()"
   ]
  },
  {
   "cell_type": "markdown",
   "id": "f2ee9ba8-08e6-4c44-8682-ac14a18ecf04",
   "metadata": {},
   "source": [
    "### LowDoc (Vay ít hồ sơ)\n",
    "\n",
    "* Các giá trị:\n",
    "    * Y: Có\n",
    "    * N: Không\n",
    "    * Khác: Lỗi, thiếu dữ liệu\n",
    "* Các trường hợp lỗi, thiếu dữ liệu có thể gán bằng giá trị mode.\n",
    "* Các trường hợp vay LowDoc có tỷ lệ CHGOFF thấp hơn vay thông thường."
   ]
  },
  {
   "cell_type": "code",
   "execution_count": 13,
   "id": "5cca7f5c-b7bd-4393-9891-33d43eb1de4a",
   "metadata": {
    "tags": []
   },
   "outputs": [
    {
     "name": "stdout",
     "output_type": "stream",
     "text": [
      "LowDoc counts:\n"
     ]
    },
    {
     "data": {
      "text/plain": [
       "N      702809\n",
       "Y       99266\n",
       "NaN      2302\n",
       "0        1353\n",
       "C         681\n",
       "S         526\n",
       "A         444\n",
       "R          69\n",
       "Name: LowDoc, dtype: int64"
      ]
     },
     "metadata": {},
     "output_type": "display_data"
    },
    {
     "data": {
      "image/png": "[encoded data removed]",
      "text/plain": [
       "<Figure size 432x288 with 1 Axes>"
      ]
     },
     "metadata": {
      "needs_background": "light"
     },
     "output_type": "display_data"
    }
   ],
   "source": [
    "low_doc = x_train['LowDoc']\n",
    "print('LowDoc counts:')\n",
    "display(low_doc.value_counts(dropna=False))\n",
    "cond = low_doc.isin(['Y', 'N'])\n",
    "\n",
    "counts = pd.DataFrame(y_train[cond]).pivot_table(index=y_train[cond],\n",
    "                                                 columns=low_doc[cond],\n",
    "                                                 values=y_train.name,\n",
    "                                                 aggfunc='count')\n",
    "portions = counts / counts.sum()\n",
    "plot_stacked_bars(portions)\n",
    "plt.show()"
   ]
  },
  {
   "cell_type": "markdown",
   "id": "6075904b-58a3-4336-8a1f-cc596e478e6a",
   "metadata": {},
   "source": [
    "# Chuẩn bị dữ liệu"
   ]
  },
  {
   "cell_type": "markdown",
   "id": "0a340c90-1cf3-4a6e-9742-97fe715015a0",
   "metadata": {},
   "source": [
    "## Xây dựng pipeline"
   ]
  },
  {
   "cell_type": "code",
   "execution_count": null,
   "id": "5ff1057f-a5b3-4e99-9878-3309df9f4107",
   "metadata": {},
   "outputs": [],
   "source": [
    "from sklearn.compose import ColumnTransformer\n",
    "from sklearn.preprocessing import FunctionTransformer\n",
    "from sklearn.pipeline import Pipeline\n",
    "\n",
    "def amount_transform_func(x):\n",
    "    x = amount_value(x)\n",
    "    #x['DisbursementGross'] = np.log(x['DisbursementGross'])\n",
    "    x['SBA_Appv_portion'] = x['SBA_Appv'] / x ['GrAppv']\n",
    "    return x[['DisbursementGross', 'SBA_Appv_portion']]"
   ]
  },
  {
   "cell_type": "code",
   "execution_count": null,
   "id": "c56d0ae6-67c2-4468-8698-7c0fccac95a8",
   "metadata": {},
   "outputs": [],
   "source": [
    "def date_transform_func(x):\n",
    "    x = x.copy()\n",
    "    cond = x['DisbursementDate'].isna()\n",
    "    x.loc[cond, 'DisbursementDate'] = x.loc[cond, 'ApprovalDate']\n",
    "    x[['DisbursementDate']] = date_value(x[['DisbursementDate']], max_year=2020)\n",
    "    cond = x['Term'].isna()\n",
    "    x.loc[cond, 'Term'] = x['Term'].mode()\n",
    "    x['Recession'] = mature_between(x['DisbursementDate'],\n",
    "                                    x['Term'],\n",
    "                                    '2007-12-01',\n",
    "                                    '2009-06-30')\n",
    "    #x['Term'] = x['Term'] > TERM_SEP\n",
    "    return x[['Term', 'Recession']].astype(np.int64)"
   ]
  },
  {
   "cell_type": "code",
   "execution_count": null,
   "id": "298bad09-c1f1-4960-a2ec-64a31b334883",
   "metadata": {},
   "outputs": [],
   "source": [
    "def state_transformer_func(x):\n",
    "    states = x['State'] \n",
    "    cond = states.isna()\n",
    "    zips = x.loc[cond, 'Zip']\n",
    "    if len(zips) > 0:\n",
    "        zip_mapping = zip_to_state(zips, API_KEY)\n",
    "        states = state_imputer(x, zip_mapping)\n",
    "    df = pd.DataFrame({'State': states.replace(STATE_CLUSTER),\n",
    "                       'StateInc': states.replace(STATE_CLUSTER_INCREASE)})\n",
    "    return df"
   ]
  },
  {
   "cell_type": "code",
   "execution_count": null,
   "id": "f7fb3c5a-ad42-4347-b331-7063d84290a7",
   "metadata": {},
   "outputs": [],
   "source": [
    "def industry_transformer_func(x):\n",
    "    industry = x['NAICS'].map(lambda x: int(str(x)[:2])).map(NAICS_CODES)\n",
    "    industry.name = 'Industry'\n",
    "\n",
    "    df = pd.DataFrame({'Industry': industry.replace(INDUSTRY_CLUSTER),\n",
    "                       'IndustryInc': industry.replace(INDUSTRY_CLUSTER_INCREASE)})\n",
    "    return df"
   ]
  },
  {
   "cell_type": "code",
   "execution_count": 12,
   "id": "8660e1ea-64d2-4a64-a00a-9766c00557d0",
   "metadata": {},
   "outputs": [],
   "source": [
    "def lowdoc_transformer_func(x):\n",
    "    x = x.copy()\n",
    "    cond = x['LowDoc'].isna()\n",
    "    x.loc[cond, 'LowDoc'] = x['LowDoc'].mode()\n",
    "    x['LowDoc'] = (x['LowDoc'] == 'Y').astype(np.int64)\n",
    "    return x[['LowDoc']]"
   ]
  },
  {
   "cell_type": "code",
   "execution_count": 13,
   "id": "de7bb18e-93c9-444e-8a66-91ed5e8124a2",
   "metadata": {},
   "outputs": [
    {
     "ename": "NameError",
     "evalue": "name 'amount_transform_func' is not defined",
     "output_type": "error",
     "traceback": [
      "\u001b[0;31m---------------------------------------------------------------------------\u001b[0m",
      "\u001b[0;31mNameError\u001b[0m                                 Traceback (most recent call last)",
      "\u001b[0;32m/tmp/ipykernel_6513/3842432165.py\u001b[0m in \u001b[0;36m<module>\u001b[0;34m\u001b[0m\n\u001b[1;32m      1\u001b[0m stage1 = ColumnTransformer([\n\u001b[0;32m----> 2\u001b[0;31m     \u001b[0;34m(\u001b[0m\u001b[0;34m'amount_transform'\u001b[0m\u001b[0;34m,\u001b[0m \u001b[0mFunctionTransformer\u001b[0m\u001b[0;34m(\u001b[0m\u001b[0mamount_transform_func\u001b[0m\u001b[0;34m)\u001b[0m\u001b[0;34m,\u001b[0m \u001b[0;34m[\u001b[0m\u001b[0;34m'DisbursementGross'\u001b[0m\u001b[0;34m,\u001b[0m \u001b[0;34m'SBA_Appv'\u001b[0m\u001b[0;34m,\u001b[0m \u001b[0;34m'GrAppv'\u001b[0m\u001b[0;34m]\u001b[0m\u001b[0;34m)\u001b[0m\u001b[0;34m,\u001b[0m\u001b[0;34m\u001b[0m\u001b[0;34m\u001b[0m\u001b[0m\n\u001b[0m\u001b[1;32m      3\u001b[0m     \u001b[0;34m(\u001b[0m\u001b[0;34m'date_transform_func'\u001b[0m\u001b[0;34m,\u001b[0m \u001b[0mFunctionTransformer\u001b[0m\u001b[0;34m(\u001b[0m\u001b[0mdate_transform_func\u001b[0m\u001b[0;34m)\u001b[0m\u001b[0;34m,\u001b[0m \u001b[0;34m[\u001b[0m\u001b[0;34m'DisbursementDate'\u001b[0m\u001b[0;34m,\u001b[0m \u001b[0;34m'ApprovalDate'\u001b[0m\u001b[0;34m,\u001b[0m \u001b[0;34m'Term'\u001b[0m\u001b[0;34m]\u001b[0m\u001b[0;34m)\u001b[0m\u001b[0;34m,\u001b[0m\u001b[0;34m\u001b[0m\u001b[0;34m\u001b[0m\u001b[0m\n\u001b[1;32m      4\u001b[0m     \u001b[0;34m(\u001b[0m\u001b[0;34m'state_transformer'\u001b[0m\u001b[0;34m,\u001b[0m \u001b[0mFunctionTransformer\u001b[0m\u001b[0;34m(\u001b[0m\u001b[0mstate_transformer_func\u001b[0m\u001b[0;34m)\u001b[0m\u001b[0;34m,\u001b[0m \u001b[0;34m[\u001b[0m\u001b[0;34m'State'\u001b[0m\u001b[0;34m,\u001b[0m \u001b[0;34m'City'\u001b[0m\u001b[0;34m,\u001b[0m \u001b[0;34m'Zip'\u001b[0m\u001b[0;34m]\u001b[0m\u001b[0;34m)\u001b[0m\u001b[0;34m,\u001b[0m\u001b[0;34m\u001b[0m\u001b[0;34m\u001b[0m\u001b[0m\n\u001b[1;32m      5\u001b[0m     \u001b[0;34m(\u001b[0m\u001b[0;34m'industry_transformer'\u001b[0m\u001b[0;34m,\u001b[0m \u001b[0mFunctionTransformer\u001b[0m\u001b[0;34m(\u001b[0m\u001b[0mindustry_transformer_func\u001b[0m\u001b[0;34m)\u001b[0m\u001b[0;34m,\u001b[0m \u001b[0;34m[\u001b[0m\u001b[0;34m'NAICS'\u001b[0m\u001b[0;34m]\u001b[0m\u001b[0;34m)\u001b[0m\u001b[0;34m,\u001b[0m\u001b[0;34m\u001b[0m\u001b[0;34m\u001b[0m\u001b[0m\n",
      "\u001b[0;31mNameError\u001b[0m: name 'amount_transform_func' is not defined"
     ]
    }
   ],
   "source": [
    "stage1 = ColumnTransformer([\n",
    "    ('amount_transform', FunctionTransformer(amount_transform_func), ['DisbursementGross', 'SBA_Appv', 'GrAppv']),\n",
    "    ('date_transform_func', FunctionTransformer(date_transform_func), ['DisbursementDate', 'ApprovalDate', 'Term']),\n",
    "    ('state_transformer', FunctionTransformer(state_transformer_func), ['State', 'City', 'Zip']),\n",
    "    ('industry_transformer', FunctionTransformer(industry_transformer_func), ['NAICS']),\n",
    "    ('lowdoc_transformer', FunctionTransformer(lowdoc_transformer_func), ['LowDoc']),\n",
    "])\n",
    "\n",
    "stage2 = ColumnTransformer([\n",
    "        ('scaler', MinMaxScaler(), [0, 2]),\n",
    "        ('encode_state', OneHotEncoder(), [-5, -4]),\n",
    "        ('encode_industry', OneHotEncoder(), [-3, -2]),\n",
    "    ],\n",
    "    remainder='passthrough'\n",
    ")\n",
    "\n",
    "x_pipeline = Pipeline([\n",
    "    ('stage1', stage1),\n",
    "    ('stage2', stage2)\n",
    "])\n",
    "\n",
    "x_train_processed = x_pipeline.fit_transform(x_train)"
   ]
  },
  {
   "cell_type": "code",
   "execution_count": 50,
   "id": "dfe0aacf-3776-484c-a30a-55792ab5d41f",
   "metadata": {},
   "outputs": [
    {
     "data": {
      "text/plain": [
       "(807450, 25)"
      ]
     },
     "execution_count": 50,
     "metadata": {},
     "output_type": "execute_result"
    }
   ],
   "source": [
    "x_train_processed.shape"
   ]
  },
  {
   "cell_type": "code",
   "execution_count": 25,
   "id": "7335e7fa-dc14-434a-8c13-71bae3a63089",
   "metadata": {},
   "outputs": [],
   "source": [
    "y_pipeline = FunctionTransformer(lambda x: (x==POSITIVE).astype(np.int64))\n",
    "y_train_processed = y_pipeline.fit_transform(y_train)"
   ]
  },
  {
   "cell_type": "code",
   "execution_count": null,
   "id": "95f373e3-916b-4507-9b28-f1b46657b6cc",
   "metadata": {},
   "outputs": [],
   "source": [
    "y_train_processed"
   ]
  },
  {
   "cell_type": "code",
   "execution_count": 55,
   "id": "95de373c-f4cd-4579-8f87-d8ddf2349423",
   "metadata": {},
   "outputs": [],
   "source": [
    "from sklearn.linear_model import LogisticRegression"
   ]
  },
  {
   "cell_type": "code",
   "execution_count": 101,
   "id": "a9e83432-2416-4855-a834-31bf474111b0",
   "metadata": {},
   "outputs": [],
   "source": [
    "model = LogisticRegression(random_state=11, class_weight=CLASS_WEIGHT)"
   ]
  },
  {
   "cell_type": "code",
   "execution_count": 102,
   "id": "6325abb4-f21d-4b31-96dd-7c9fc36c1f77",
   "metadata": {},
   "outputs": [
    {
     "data": {
      "text/plain": [
       "LogisticRegression(class_weight={0: 1.213028507559551, 1: 5.694207415974387},\n",
       "                   random_state=11)"
      ]
     },
     "execution_count": 102,
     "metadata": {},
     "output_type": "execute_result"
    }
   ],
   "source": [
    "model.fit(x_train_processed, y_train_processed)"
   ]
  },
  {
   "cell_type": "code",
   "execution_count": 103,
   "id": "f3572084-c387-48ce-a766-adcb5d0b10dd",
   "metadata": {},
   "outputs": [
    {
     "data": {
      "text/plain": [
       "0.7018453154994118"
      ]
     },
     "execution_count": 103,
     "metadata": {},
     "output_type": "execute_result"
    }
   ],
   "source": [
    "model.score(x_train_processed, y_train_processed)"
   ]
  },
  {
   "cell_type": "code",
   "execution_count": 75,
   "id": "7d7b7d0e-e409-4c86-817c-cac97b1d26cc",
   "metadata": {},
   "outputs": [
    {
     "data": {
      "text/plain": [
       "(89717, 26)"
      ]
     },
     "execution_count": 75,
     "metadata": {},
     "output_type": "execute_result"
    }
   ],
   "source": [
    "x_test.shape"
   ]
  },
  {
   "cell_type": "code",
   "execution_count": 76,
   "id": "b4103a09-e695-43b7-bc90-863d8a3c1f0d",
   "metadata": {},
   "outputs": [
    {
     "data": {
      "text/plain": [
       "(807450, 26)"
      ]
     },
     "execution_count": 76,
     "metadata": {},
     "output_type": "execute_result"
    }
   ],
   "source": [
    "x_train.shape"
   ]
  },
  {
   "cell_type": "code",
   "execution_count": 100,
   "id": "7f650755-2087-47ee-aa01-2fc95aa899e5",
   "metadata": {},
   "outputs": [
    {
     "name": "stderr",
     "output_type": "stream",
     "text": [
      "/home/sonhn/learning/datascience/pyenv/lib/python3.9/site-packages/pandas/core/arrays/datetimelike.py:1187: PerformanceWarning: Adding/subtracting object-dtype array to DatetimeArray not vectorized\n",
      "  warnings.warn(\n"
     ]
    }
   ],
   "source": [
    "x_test_processed = x_pipeline.transform(x_test)\n",
    "y_test_processed = y_pipeline.transform(y_test)"
   ]
  },
  {
   "cell_type": "code",
   "execution_count": 91,
   "id": "cee672e8-c005-42ea-b955-a2d2fff1f9cb",
   "metadata": {},
   "outputs": [
    {
     "data": {
      "text/plain": [
       "0.8434076039100727"
      ]
     },
     "execution_count": 91,
     "metadata": {},
     "output_type": "execute_result"
    }
   ],
   "source": [
    "model.score(x_test_processed, y_test_processed)"
   ]
  },
  {
   "cell_type": "code",
   "execution_count": 60,
   "id": "17b72cff-f7a7-4db9-a990-d6e70eed597c",
   "metadata": {},
   "outputs": [],
   "source": [
    "from sklearn.metrics import classification_report"
   ]
  },
  {
   "cell_type": "code",
   "execution_count": 105,
   "id": "f4b44587-5e6b-4fac-9cac-f89603a66c25",
   "metadata": {},
   "outputs": [],
   "source": [
    "yhat = model.predict(x_test_processed)"
   ]
  },
  {
   "cell_type": "code",
   "execution_count": 106,
   "id": "fc3076d9-cc95-438f-b7da-070f8c728d5f",
   "metadata": {},
   "outputs": [
    {
     "name": "stdout",
     "output_type": "stream",
     "text": [
      "              precision    recall  f1-score   support\n",
      "\n",
      "           0       0.95      0.68      0.79     73961\n",
      "           1       0.35      0.82      0.49     15756\n",
      "\n",
      "    accuracy                           0.70     89717\n",
      "   macro avg       0.65      0.75      0.64     89717\n",
      "weighted avg       0.84      0.70      0.74     89717\n",
      "\n"
     ]
    }
   ],
   "source": [
    "print(classification_report(y_test_processed, yhat))"
   ]
  },
  {
   "cell_type": "code",
   "execution_count": null,
   "id": "bab334b9-bd6a-40e7-95e7-7668f0ad007e",
   "metadata": {},
   "outputs": [],
   "source": []
  }
 ],
 "metadata": {
  "kernelspec": {
   "display_name": "Python 3 (ipykernel)",
   "language": "python",
   "name": "python3"
  },
  "language_info": {
   "codemirror_mode": {
    "name": "ipython",
    "version": 3
   },
   "file_extension": ".py",
   "mimetype": "text/x-python",
   "name": "python",
   "nbconvert_exporter": "python",
   "pygments_lexer": "ipython3",
   "version": "3.9.2"
  },
  "toc-autonumbering": true,
  "toc-showcode": false
 },
 "nbformat": 4,
 "nbformat_minor": 5
}
