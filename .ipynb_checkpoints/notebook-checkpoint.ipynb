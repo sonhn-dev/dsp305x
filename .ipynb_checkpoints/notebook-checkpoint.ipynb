{
 "cells": [
  {
   "cell_type": "markdown",
   "id": "ff6b6831-f330-4c54-9260-fb69353518f8",
   "metadata": {},
   "source": [
    "# Giới thiệu đề tài\n",
    "\n",
    "Một khoản vay có nên được phê duyệt hay không? Các ngân hàng có thể đánh giá rủi ro của một đơn xin vay mới được không?\n",
    "\n",
    "Với một bộ dữ liệu khoản vay của Cơ quan quản lý doanh nghiệp nhỏ Hoa Kỳ (U.S. Small Business Administration - SBA) được cung cấp, hãy đưa ra lời khuyên cho ngân hàng để ra quyết định nêu trên."
   ]
  },
  {
   "cell_type": "markdown",
   "id": "497f0152-8286-4c1a-af03-8e8e5c885f08",
   "metadata": {},
   "source": [
    "# Làm rõ yêu cầu\n",
    "\n",
    "* Mục đích: Bản chất của hoạt động cho vay là dựa trên sự tin tưởng về việc Khách hàng sẽ hoàn trả tiền vay. Trường hợp Khách hàng không trả được nợ sẽ dẫn đến thiệt hại về vốn cho ngân hàng. Một trong các mục đích của ngân hàng là hạn chế các thiệt hại này thông qua nhận diện các Khách hàng xấu để từ chối cho vay. Bên cạnh đó ngân hàng cũng muốn tối đa hoá dư nợ cho vay (quy mô cho vay) từ đó tăng thu nhập từ lãi vay. Điều đó cũng đòi hỏi ngân hàng không từ chối những Khách hàng có nhiều khả năng là Khách hàng tốt.\n",
    "\n",
    "* Mục tiêu: Để đạt được mục đích đề ra ta cần phải dự đoán được liệu Khách hàng có trả được nợ hay không trong tương lai. Trường hợp kết quả dự đoán là \"trả được nợ\" thì ngân hàng có thể quyết định cho Khách hàng đó vay. Ngược lại nếu kết quả dự đoán là \"không trả được nợ\" thì để bảo toàn vốn ngân hàng có thể thông báo từ chối cho vay."
   ]
  },
  {
   "cell_type": "markdown",
   "id": "3c40b097-0205-4473-9fba-d40eacf4e8b4",
   "metadata": {},
   "source": [
    "# Xác định cách tiếp cận giải quyết vấn đề\n",
    "\n",
    "* Có thể thấy bài toán này là một bài toán phân loại với kết quả đầu ra dưới dạng nhị phân (trả được nợ/ không trả được nợ).\n",
    "\n",
    "* Để xây dựng được mô hình dự đoán như yêu cầu, ta có thể sử dụng các phương pháp học có giám sát để huấn luyện mô hình trên dữ liệu đã có sẵn sau đó sử dụng mô hình để dự đoán cho các quan sát mới.\n",
    "\n",
    "* Một trong lựa chọn có thể sử dụng là hồi quy Logistic. Trong nghiên cứu, đây sẽ là mô hình cơ sở để so sánh với các mô hình khác phức tạp hơn. Điểm mạnh của phương pháp này: Ít phức tạp, dễ giải thích, xác định được hướng, mức độ ảnh hưởng của thuộc tính đầu vào lên kết quả.\n",
    "\n",
    "* Xây dựng mô hình nâng cao: Sử dụng các phương pháp Gradient Boosting, Random Forest, mạng neuron... để xây dựng mô hình khớp tốt hơn so với hồi quy Logistic. Qua việc đánh giá hiệu suất của các mô hình trên tập dữ liệu kiểm tra để chọn ra mô hình tối ưu."
   ]
  },
  {
   "cell_type": "markdown",
   "id": "4bdee7c7-591c-4c3c-bf44-7f3afeb7e291",
   "metadata": {},
   "source": [
    "# Xác định các yêu cầu đối với dữ liệu\n",
    "\n",
    "Với các phương pháp đã lựa chọn, nguồn dữ liệu đầu vào cần đáp ứng các yêu cầu sau:\n",
    "\n",
    "* Dữ liệu đầu vào là dữ liệu có cấu trúc (bảng gồm hàng và cột);\n",
    "* Đối tượng cần đánh giá là từng khoản vay do đó mỗi một dòng trong bảng sẽ là một khoản vay đã được cho vay trong một giai đoạn nào đó;\n",
    "* Mỗi một khoản vay cần được dán nhãn trả được nợ/ không trả được nợ;\n",
    "* Để thực hiện các phương pháp nâng cao (Gradient Boosting, Random Forest, mạng neuron...) dữ liệu cần có số lượng quan sát đủ lớn để tránh tình trạng quá khớp và kết quả đầu ra thiếu tính khái quát."
   ]
  },
  {
   "cell_type": "markdown",
   "id": "a83d9fa4-0d89-4eed-9314-85d0fc52f96c",
   "metadata": {},
   "source": [
    "# Thu thập dữ liệu\n",
    "\n",
    "* Nguồn dữ liệu được tải về từ https://www.kaggle.com/mirbektoktogaraev/should-this-loan-be-approved-or-denied\n",
    "* Bảng dữ liệu chính nằm trên file SBAnational.csv, ta sẽ sử dụng thư viện Pandas để load dữ liệu vào đối tượng DataFrame để tiện cho việc phân tích ở các bước sau.\n",
    "* Tiến hành tách tập huấn luyện và kiểm tra. Do số lượng quan sát đủ lớn nên ta có thể chọn tỷ lệ tập huấn luyện trên tập kiểm tra là 90% / 10%."
   ]
  },
  {
   "cell_type": "code",
   "execution_count": null,
   "id": "e5be08bd-d3ca-459b-9d11-a56326b5b02e",
   "metadata": {
    "jupyter": {
     "source_hidden": true
    },
    "tags": []
   },
   "outputs": [],
   "source": [
    "# Linux command\n",
    "!mkdir data\n",
    "!wget -q -P data https://www.tandfonline.com/doi/suppl/10.1080/10691898.2018.1434342/suppl_file/ujse_a_1434342_sm1547.zip\n",
    "!cd data && unzip ujse_a_1434342_sm1547.zip\n",
    "!ls data/"
   ]
  },
  {
   "cell_type": "code",
   "execution_count": 1,
   "id": "64686809-b14f-4478-9529-96606a6356ef",
   "metadata": {
    "tags": []
   },
   "outputs": [
    {
     "name": "stderr",
     "output_type": "stream",
     "text": [
      "C:\\Users\\sonhn\\AppData\\Local\\Temp/ipykernel_526120/649632535.py:3: DtypeWarning: Columns (9) have mixed types.Specify dtype option on import or set low_memory=False.\n",
      "  x_train, x_test, y_train, y_test = load_data('data/SBAnational.csv',\n"
     ]
    },
    {
     "name": "stdout",
     "output_type": "stream",
     "text": [
      "Data loaded!\n",
      "x train shape: (807450, 26)\n",
      "x test shape: (89717, 26)\n",
      "y train shape: (807450,)\n",
      "y test shape: (807450,)\n"
     ]
    }
   ],
   "source": [
    "from utils import load_data\n",
    "\n",
    "x_train, x_test, y_train, y_test = load_data('data/SBAnational.csv',\n",
    "                                             train_size=0.9,\n",
    "                                             random_state=13)\n",
    "\n",
    "print('Data loaded!')\n",
    "print('x train shape:', x_train.shape)\n",
    "print('x test shape:', x_test.shape)\n",
    "print('y train shape:', y_train.shape)\n",
    "print('y test shape:', y_train.shape)"
   ]
  },
  {
   "cell_type": "markdown",
   "id": "df1abdef-96fc-49dc-9f94-036e8e9da5af",
   "metadata": {},
   "source": [
    "# Hiểu dữ liệu"
   ]
  },
  {
   "cell_type": "code",
   "execution_count": 2,
   "id": "f6783e4e-8ace-475a-898e-a457d282ed02",
   "metadata": {
    "tags": []
   },
   "outputs": [],
   "source": [
    "# Import necessary packages\n",
    "import pandas as pd\n",
    "import numpy as np\n",
    "\n",
    "from sklearn.preprocessing import PowerTransformer\n",
    "from sklearn.compose import ColumnTransformer\n",
    "from sklearn.pipeline import Pipeline\n",
    "\n",
    "%matplotlib inline\n",
    "import matplotlib.pyplot as plt\n",
    "\n",
    "from IPython.display import display\n",
    "\n",
    "from utils import date_value"
   ]
  },
  {
   "cell_type": "markdown",
   "id": "58db147b-e135-4161-9a19-5fc039ceccaf",
   "metadata": {},
   "source": [
    "## Biến mục tiêu\n",
    "\n",
    "* Biến mục tiêu có phân phối không đều. Để khắc phục, trong quá trình huấn luyện ta sẽ đưa vào trọng số (class weight).\n",
    "* Biến mục tiêu đang được mã thành 2 loại:\n",
    "    - PIF = 'Paid in full' (Trả được nợ)\n",
    "    - CHGOFF = 'Charged off' (Không trả được nợ)\n",
    "* Tại bước chuẩn bị dữ liệu các loại này sẽ được chuyển thành mã 0 và 1 tương ứng."
   ]
  },
  {
   "cell_type": "code",
   "execution_count": 17,
   "id": "f26ad0c4-7a48-463b-855e-b69f049277a9",
   "metadata": {
    "jupyter": {
     "source_hidden": true
    },
    "tags": []
   },
   "outputs": [
    {
     "data": {
      "image/png": "[encoded data removed]",
      "text/plain": [
       "<Figure size 432x288 with 1 Axes>"
      ]
     },
     "metadata": {},
     "output_type": "display_data"
    }
   ],
   "source": [
    "counts = y_train.value_counts()\n",
    "plt.pie(counts,\n",
    "        startangle=90,\n",
    "        autopct='%.2f%%')\n",
    "\n",
    "plt.title('Distribution of target')\n",
    "plt.legend(counts.index)\n",
    "plt.show()"
   ]
  },
  {
   "cell_type": "markdown",
   "id": "a8a0fb7a-9db6-4262-acee-e02772639d9f",
   "metadata": {
    "tags": []
   },
   "source": [
    "## Biến giải thích\n",
    "\n",
    "Cùng xem qua dữ liệu:"
   ]
  },
  {
   "cell_type": "code",
   "execution_count": 18,
   "id": "53279d03-5c7f-48d7-be0f-de79650babca",
   "metadata": {
    "jupyter": {
     "source_hidden": true
    },
    "tags": []
   },
   "outputs": [
    {
     "data": {
      "text/html": [
       "<div>\n",
       "<style scoped>\n",
       "    .dataframe tbody tr th:only-of-type {\n",
       "        vertical-align: middle;\n",
       "    }\n",
       "\n",
       "    .dataframe tbody tr th {\n",
       "        vertical-align: top;\n",
       "    }\n",
       "\n",
       "    .dataframe thead th {\n",
       "        text-align: right;\n",
       "    }\n",
       "</style>\n",
       "<table border=\"1\" class=\"dataframe\">\n",
       "  <thead>\n",
       "    <tr style=\"text-align: right;\">\n",
       "      <th></th>\n",
       "      <th>LoanNr_ChkDgt</th>\n",
       "      <th>Name</th>\n",
       "      <th>City</th>\n",
       "      <th>State</th>\n",
       "      <th>Zip</th>\n",
       "      <th>Bank</th>\n",
       "      <th>BankState</th>\n",
       "      <th>NAICS</th>\n",
       "      <th>ApprovalDate</th>\n",
       "      <th>ApprovalFY</th>\n",
       "      <th>...</th>\n",
       "      <th>UrbanRural</th>\n",
       "      <th>RevLineCr</th>\n",
       "      <th>LowDoc</th>\n",
       "      <th>ChgOffDate</th>\n",
       "      <th>DisbursementDate</th>\n",
       "      <th>DisbursementGross</th>\n",
       "      <th>BalanceGross</th>\n",
       "      <th>ChgOffPrinGr</th>\n",
       "      <th>GrAppv</th>\n",
       "      <th>SBA_Appv</th>\n",
       "    </tr>\n",
       "  </thead>\n",
       "  <tbody>\n",
       "    <tr>\n",
       "      <th>192615</th>\n",
       "      <td>2362105004</td>\n",
       "      <td>NORM'S TRUCKING</td>\n",
       "      <td>LACONIA</td>\n",
       "      <td>NH</td>\n",
       "      <td>3246</td>\n",
       "      <td>CITIZENS BANK NATL ASSOC</td>\n",
       "      <td>RI</td>\n",
       "      <td>484121</td>\n",
       "      <td>29-Mar-07</td>\n",
       "      <td>2007</td>\n",
       "      <td>...</td>\n",
       "      <td>1</td>\n",
       "      <td>N</td>\n",
       "      <td>N</td>\n",
       "      <td>14-May-10</td>\n",
       "      <td>30-Apr-07</td>\n",
       "      <td>$14,000.00</td>\n",
       "      <td>$0.00</td>\n",
       "      <td>$13,060.00</td>\n",
       "      <td>$14,000.00</td>\n",
       "      <td>$7,000.00</td>\n",
       "    </tr>\n",
       "    <tr>\n",
       "      <th>610721</th>\n",
       "      <td>6068553004</td>\n",
       "      <td>A TO Z AUTOMOTIVE</td>\n",
       "      <td>WEST SENECA</td>\n",
       "      <td>NY</td>\n",
       "      <td>14227</td>\n",
       "      <td>KEYBANK NATIONAL ASSOCIATION</td>\n",
       "      <td>NY</td>\n",
       "      <td>811113</td>\n",
       "      <td>22-Nov-93</td>\n",
       "      <td>1994</td>\n",
       "      <td>...</td>\n",
       "      <td>0</td>\n",
       "      <td>N</td>\n",
       "      <td>N</td>\n",
       "      <td>NaN</td>\n",
       "      <td>30-Apr-94</td>\n",
       "      <td>$47,600.00</td>\n",
       "      <td>$0.00</td>\n",
       "      <td>$0.00</td>\n",
       "      <td>$47,600.00</td>\n",
       "      <td>$42,840.00</td>\n",
       "    </tr>\n",
       "    <tr>\n",
       "      <th>251037</th>\n",
       "      <td>2765544005</td>\n",
       "      <td>ARPI SERVICE</td>\n",
       "      <td>NORTH HILLS</td>\n",
       "      <td>CA</td>\n",
       "      <td>91343</td>\n",
       "      <td>FIRST PRIVATE BANK &amp; TRUST</td>\n",
       "      <td>CA</td>\n",
       "      <td>811412</td>\n",
       "      <td>5-Feb-99</td>\n",
       "      <td>1999</td>\n",
       "      <td>...</td>\n",
       "      <td>0</td>\n",
       "      <td>0</td>\n",
       "      <td>Y</td>\n",
       "      <td>NaN</td>\n",
       "      <td>31-Jan-00</td>\n",
       "      <td>$50,000.00</td>\n",
       "      <td>$0.00</td>\n",
       "      <td>$0.00</td>\n",
       "      <td>$50,000.00</td>\n",
       "      <td>$40,000.00</td>\n",
       "    </tr>\n",
       "    <tr>\n",
       "      <th>371681</th>\n",
       "      <td>3601755003</td>\n",
       "      <td>Albany Aqua Ducks, Inc.</td>\n",
       "      <td>ALBANY</td>\n",
       "      <td>NY</td>\n",
       "      <td>12201</td>\n",
       "      <td>KEYBANK NATIONAL ASSOCIATION</td>\n",
       "      <td>OH</td>\n",
       "      <td>487210</td>\n",
       "      <td>28-Aug-09</td>\n",
       "      <td>2009</td>\n",
       "      <td>...</td>\n",
       "      <td>1</td>\n",
       "      <td>N</td>\n",
       "      <td>N</td>\n",
       "      <td>NaN</td>\n",
       "      <td>1-Sep-09</td>\n",
       "      <td>$35,000.00</td>\n",
       "      <td>$0.00</td>\n",
       "      <td>$0.00</td>\n",
       "      <td>$35,000.00</td>\n",
       "      <td>$35,000.00</td>\n",
       "    </tr>\n",
       "    <tr>\n",
       "      <th>841893</th>\n",
       "      <td>9024854009</td>\n",
       "      <td>JEFFREY D JOHN &amp; COMPANY AN AC</td>\n",
       "      <td>SELMA</td>\n",
       "      <td>CA</td>\n",
       "      <td>93662</td>\n",
       "      <td>MUFG UNION BANK NATL ASSOC</td>\n",
       "      <td>CA</td>\n",
       "      <td>541211</td>\n",
       "      <td>4-Aug-05</td>\n",
       "      <td>2005</td>\n",
       "      <td>...</td>\n",
       "      <td>1</td>\n",
       "      <td>Y</td>\n",
       "      <td>N</td>\n",
       "      <td>NaN</td>\n",
       "      <td>31-Aug-05</td>\n",
       "      <td>$15,456.00</td>\n",
       "      <td>$0.00</td>\n",
       "      <td>$0.00</td>\n",
       "      <td>$10,000.00</td>\n",
       "      <td>$5,000.00</td>\n",
       "    </tr>\n",
       "  </tbody>\n",
       "</table>\n",
       "<p>5 rows × 26 columns</p>\n",
       "</div>"
      ],
      "text/plain": [
       "        LoanNr_ChkDgt                            Name         City State  \\\n",
       "192615     2362105004                 NORM'S TRUCKING      LACONIA    NH   \n",
       "610721     6068553004               A TO Z AUTOMOTIVE  WEST SENECA    NY   \n",
       "251037     2765544005                    ARPI SERVICE  NORTH HILLS    CA   \n",
       "371681     3601755003         Albany Aqua Ducks, Inc.       ALBANY    NY   \n",
       "841893     9024854009  JEFFREY D JOHN & COMPANY AN AC        SELMA    CA   \n",
       "\n",
       "          Zip                          Bank BankState   NAICS ApprovalDate  \\\n",
       "192615   3246      CITIZENS BANK NATL ASSOC        RI  484121    29-Mar-07   \n",
       "610721  14227  KEYBANK NATIONAL ASSOCIATION        NY  811113    22-Nov-93   \n",
       "251037  91343    FIRST PRIVATE BANK & TRUST        CA  811412     5-Feb-99   \n",
       "371681  12201  KEYBANK NATIONAL ASSOCIATION        OH  487210    28-Aug-09   \n",
       "841893  93662    MUFG UNION BANK NATL ASSOC        CA  541211     4-Aug-05   \n",
       "\n",
       "       ApprovalFY  ...  UrbanRural  RevLineCr  LowDoc  ChgOffDate  \\\n",
       "192615       2007  ...           1          N       N   14-May-10   \n",
       "610721       1994  ...           0          N       N         NaN   \n",
       "251037       1999  ...           0          0       Y         NaN   \n",
       "371681       2009  ...           1          N       N         NaN   \n",
       "841893       2005  ...           1          Y       N         NaN   \n",
       "\n",
       "        DisbursementDate  DisbursementGross  BalanceGross ChgOffPrinGr  \\\n",
       "192615         30-Apr-07        $14,000.00         $0.00   $13,060.00    \n",
       "610721         30-Apr-94        $47,600.00         $0.00        $0.00    \n",
       "251037         31-Jan-00        $50,000.00         $0.00        $0.00    \n",
       "371681          1-Sep-09        $35,000.00         $0.00        $0.00    \n",
       "841893         31-Aug-05        $15,456.00         $0.00        $0.00    \n",
       "\n",
       "             GrAppv     SBA_Appv  \n",
       "192615  $14,000.00    $7,000.00   \n",
       "610721  $47,600.00   $42,840.00   \n",
       "251037  $50,000.00   $40,000.00   \n",
       "371681  $35,000.00   $35,000.00   \n",
       "841893  $10,000.00    $5,000.00   \n",
       "\n",
       "[5 rows x 26 columns]"
      ]
     },
     "execution_count": 18,
     "metadata": {},
     "output_type": "execute_result"
    }
   ],
   "source": [
    "x_train.head()"
   ]
  },
  {
   "cell_type": "code",
   "execution_count": 19,
   "id": "6103e581",
   "metadata": {
    "jupyter": {
     "source_hidden": true
    },
    "tags": []
   },
   "outputs": [
    {
     "data": {
      "text/html": [
       "<div>\n",
       "<style scoped>\n",
       "    .dataframe tbody tr th:only-of-type {\n",
       "        vertical-align: middle;\n",
       "    }\n",
       "\n",
       "    .dataframe tbody tr th {\n",
       "        vertical-align: top;\n",
       "    }\n",
       "\n",
       "    .dataframe thead th {\n",
       "        text-align: right;\n",
       "    }\n",
       "</style>\n",
       "<table border=\"1\" class=\"dataframe\">\n",
       "  <thead>\n",
       "    <tr style=\"text-align: right;\">\n",
       "      <th></th>\n",
       "      <th>Column</th>\n",
       "      <th>Count</th>\n",
       "      <th>Null count</th>\n",
       "      <th>Num unique</th>\n",
       "      <th>Type</th>\n",
       "    </tr>\n",
       "  </thead>\n",
       "  <tbody>\n",
       "    <tr>\n",
       "      <th>0</th>\n",
       "      <td>LoanNr_ChkDgt</td>\n",
       "      <td>807450</td>\n",
       "      <td>0</td>\n",
       "      <td>807450</td>\n",
       "      <td>int64</td>\n",
       "    </tr>\n",
       "    <tr>\n",
       "      <th>1</th>\n",
       "      <td>Name</td>\n",
       "      <td>807437</td>\n",
       "      <td>13</td>\n",
       "      <td>707545</td>\n",
       "      <td>object</td>\n",
       "    </tr>\n",
       "    <tr>\n",
       "      <th>2</th>\n",
       "      <td>City</td>\n",
       "      <td>807422</td>\n",
       "      <td>28</td>\n",
       "      <td>31266</td>\n",
       "      <td>object</td>\n",
       "    </tr>\n",
       "    <tr>\n",
       "      <th>3</th>\n",
       "      <td>State</td>\n",
       "      <td>807437</td>\n",
       "      <td>13</td>\n",
       "      <td>51</td>\n",
       "      <td>object</td>\n",
       "    </tr>\n",
       "    <tr>\n",
       "      <th>4</th>\n",
       "      <td>Zip</td>\n",
       "      <td>807450</td>\n",
       "      <td>0</td>\n",
       "      <td>32747</td>\n",
       "      <td>int64</td>\n",
       "    </tr>\n",
       "    <tr>\n",
       "      <th>5</th>\n",
       "      <td>Bank</td>\n",
       "      <td>806082</td>\n",
       "      <td>1368</td>\n",
       "      <td>5697</td>\n",
       "      <td>object</td>\n",
       "    </tr>\n",
       "    <tr>\n",
       "      <th>6</th>\n",
       "      <td>BankState</td>\n",
       "      <td>806075</td>\n",
       "      <td>1375</td>\n",
       "      <td>56</td>\n",
       "      <td>object</td>\n",
       "    </tr>\n",
       "    <tr>\n",
       "      <th>7</th>\n",
       "      <td>NAICS</td>\n",
       "      <td>807450</td>\n",
       "      <td>0</td>\n",
       "      <td>1306</td>\n",
       "      <td>int64</td>\n",
       "    </tr>\n",
       "    <tr>\n",
       "      <th>8</th>\n",
       "      <td>ApprovalDate</td>\n",
       "      <td>807450</td>\n",
       "      <td>0</td>\n",
       "      <td>9740</td>\n",
       "      <td>object</td>\n",
       "    </tr>\n",
       "    <tr>\n",
       "      <th>9</th>\n",
       "      <td>ApprovalFY</td>\n",
       "      <td>807450</td>\n",
       "      <td>0</td>\n",
       "      <td>65</td>\n",
       "      <td>object</td>\n",
       "    </tr>\n",
       "    <tr>\n",
       "      <th>10</th>\n",
       "      <td>Term</td>\n",
       "      <td>807450</td>\n",
       "      <td>0</td>\n",
       "      <td>408</td>\n",
       "      <td>int64</td>\n",
       "    </tr>\n",
       "    <tr>\n",
       "      <th>11</th>\n",
       "      <td>NoEmp</td>\n",
       "      <td>807450</td>\n",
       "      <td>0</td>\n",
       "      <td>573</td>\n",
       "      <td>int64</td>\n",
       "    </tr>\n",
       "    <tr>\n",
       "      <th>12</th>\n",
       "      <td>NewExist</td>\n",
       "      <td>807330</td>\n",
       "      <td>120</td>\n",
       "      <td>3</td>\n",
       "      <td>float64</td>\n",
       "    </tr>\n",
       "    <tr>\n",
       "      <th>13</th>\n",
       "      <td>CreateJob</td>\n",
       "      <td>807450</td>\n",
       "      <td>0</td>\n",
       "      <td>230</td>\n",
       "      <td>int64</td>\n",
       "    </tr>\n",
       "    <tr>\n",
       "      <th>14</th>\n",
       "      <td>RetainedJob</td>\n",
       "      <td>807450</td>\n",
       "      <td>0</td>\n",
       "      <td>349</td>\n",
       "      <td>int64</td>\n",
       "    </tr>\n",
       "    <tr>\n",
       "      <th>15</th>\n",
       "      <td>FranchiseCode</td>\n",
       "      <td>807450</td>\n",
       "      <td>0</td>\n",
       "      <td>2667</td>\n",
       "      <td>int64</td>\n",
       "    </tr>\n",
       "    <tr>\n",
       "      <th>16</th>\n",
       "      <td>UrbanRural</td>\n",
       "      <td>807450</td>\n",
       "      <td>0</td>\n",
       "      <td>3</td>\n",
       "      <td>int64</td>\n",
       "    </tr>\n",
       "    <tr>\n",
       "      <th>17</th>\n",
       "      <td>RevLineCr</td>\n",
       "      <td>803376</td>\n",
       "      <td>4074</td>\n",
       "      <td>17</td>\n",
       "      <td>object</td>\n",
       "    </tr>\n",
       "    <tr>\n",
       "      <th>18</th>\n",
       "      <td>LowDoc</td>\n",
       "      <td>805148</td>\n",
       "      <td>2302</td>\n",
       "      <td>7</td>\n",
       "      <td>object</td>\n",
       "    </tr>\n",
       "    <tr>\n",
       "      <th>19</th>\n",
       "      <td>ChgOffDate</td>\n",
       "      <td>146204</td>\n",
       "      <td>661246</td>\n",
       "      <td>6358</td>\n",
       "      <td>object</td>\n",
       "    </tr>\n",
       "    <tr>\n",
       "      <th>20</th>\n",
       "      <td>DisbursementDate</td>\n",
       "      <td>805472</td>\n",
       "      <td>1978</td>\n",
       "      <td>8201</td>\n",
       "      <td>object</td>\n",
       "    </tr>\n",
       "    <tr>\n",
       "      <th>21</th>\n",
       "      <td>DisbursementGross</td>\n",
       "      <td>807450</td>\n",
       "      <td>0</td>\n",
       "      <td>110085</td>\n",
       "      <td>object</td>\n",
       "    </tr>\n",
       "    <tr>\n",
       "      <th>22</th>\n",
       "      <td>BalanceGross</td>\n",
       "      <td>807450</td>\n",
       "      <td>0</td>\n",
       "      <td>13</td>\n",
       "      <td>object</td>\n",
       "    </tr>\n",
       "    <tr>\n",
       "      <th>23</th>\n",
       "      <td>ChgOffPrinGr</td>\n",
       "      <td>807450</td>\n",
       "      <td>0</td>\n",
       "      <td>77779</td>\n",
       "      <td>object</td>\n",
       "    </tr>\n",
       "    <tr>\n",
       "      <th>24</th>\n",
       "      <td>GrAppv</td>\n",
       "      <td>807450</td>\n",
       "      <td>0</td>\n",
       "      <td>20694</td>\n",
       "      <td>object</td>\n",
       "    </tr>\n",
       "    <tr>\n",
       "      <th>25</th>\n",
       "      <td>SBA_Appv</td>\n",
       "      <td>807450</td>\n",
       "      <td>0</td>\n",
       "      <td>35925</td>\n",
       "      <td>object</td>\n",
       "    </tr>\n",
       "  </tbody>\n",
       "</table>\n",
       "</div>"
      ],
      "text/plain": [
       "               Column   Count  Null count  Num unique     Type\n",
       "0       LoanNr_ChkDgt  807450           0      807450    int64\n",
       "1                Name  807437          13      707545   object\n",
       "2                City  807422          28       31266   object\n",
       "3               State  807437          13          51   object\n",
       "4                 Zip  807450           0       32747    int64\n",
       "5                Bank  806082        1368        5697   object\n",
       "6           BankState  806075        1375          56   object\n",
       "7               NAICS  807450           0        1306    int64\n",
       "8        ApprovalDate  807450           0        9740   object\n",
       "9          ApprovalFY  807450           0          65   object\n",
       "10               Term  807450           0         408    int64\n",
       "11              NoEmp  807450           0         573    int64\n",
       "12           NewExist  807330         120           3  float64\n",
       "13          CreateJob  807450           0         230    int64\n",
       "14        RetainedJob  807450           0         349    int64\n",
       "15      FranchiseCode  807450           0        2667    int64\n",
       "16         UrbanRural  807450           0           3    int64\n",
       "17          RevLineCr  803376        4074          17   object\n",
       "18             LowDoc  805148        2302           7   object\n",
       "19         ChgOffDate  146204      661246        6358   object\n",
       "20   DisbursementDate  805472        1978        8201   object\n",
       "21  DisbursementGross  807450           0      110085   object\n",
       "22       BalanceGross  807450           0          13   object\n",
       "23       ChgOffPrinGr  807450           0       77779   object\n",
       "24             GrAppv  807450           0       20694   object\n",
       "25           SBA_Appv  807450           0       35925   object"
      ]
     },
     "metadata": {},
     "output_type": "display_data"
    }
   ],
   "source": [
    "get_df_info(x_train)"
   ]
  },
  {
   "cell_type": "markdown",
   "id": "928de89c-7db3-4ce4-96c6-6badf4041edc",
   "metadata": {},
   "source": [
    "### DisbursementGross, GrAppv, SBA_Appv (số tiền giải ngân, số tiền phê duyệt, số tiền SBA bảo lãnh)\n",
    "\n",
    "* Dữ liệu dưới dạng chuỗi (ví dụ: $10,000.00) cần được chuyển thành float.\n",
    "* Các phân phối đều lệch phải. Thực hiện biến đổi Box-Cox, qua biểu đồ trực quan hoá có thể thấy các khoản vay PIF có số tiền lớn hơn khoản vay CHGOFF.\n",
    "* Nhìn biểu đồ phân tán có thể thấy 3 biến này có quan hệ tuyến tính rõ với nhau. Nếu đưa cả 3 biến vào tính toán sẽ dẫn đến vấn đề do collinearity. Để khắc phục, ta có thể thử 2 phương án:\n",
    "    1. Áp dụng PCA để tạo thuộc tính mới đưa vào huấn luyện. Phương án này có hạn chế là giảm khả năng giải thích của mô hình (thuộc tính không có ý nghĩa giải thích)\n",
    "    2. Loại bỏ bớt biến"
   ]
  },
  {
   "cell_type": "code",
   "execution_count": 21,
   "id": "a43ea1c0-4cc3-4581-ba7a-e2971cfde1b5",
   "metadata": {
    "jupyter": {
     "source_hidden": true
    },
    "tags": []
   },
   "outputs": [
    {
     "data": {
      "image/png": "[encoded data removed]",
      "text/plain": [
       "<Figure size 1080x288 with 3 Axes>"
      ]
     },
     "metadata": {
      "needs_background": "light"
     },
     "output_type": "display_data"
    },
    {
     "data": {
      "image/png": "[encoded data removed]",
      "text/plain": [
       "<Figure size 1080x288 with 3 Axes>"
      ]
     },
     "metadata": {
      "needs_background": "light"
     },
     "output_type": "display_data"
    },
    {
     "data": {
      "image/png": "[encoded data removed]",
      "text/plain": [
       "<Figure size 1080x288 with 3 Axes>"
      ]
     },
     "metadata": {
      "needs_background": "light"
     },
     "output_type": "display_data"
    }
   ],
   "source": [
    "cols = ['DisbursementGross', 'GrAppv', 'SBA_Appv']\n",
    "\n",
    "str_to_amt_transformer = FunctionTransformer(amount_value)\n",
    "box_cox_transformer = PowerTransformer(method='box-cox', standardize=False)\n",
    "\n",
    "original_amount = str_to_amt_transformer.fit_transform(x_train[cols])\n",
    "amount_transformed = pd.DataFrame(box_cox_transformer.fit_transform(original_amount),\n",
    "                                  index=original_amount.index,\n",
    "                                  columns=cols)\n",
    "\n",
    "for feature in cols:\n",
    "    plot_hist_and_box_plot(original_amount,\n",
    "                           amount_transformed,\n",
    "                           y_train,\n",
    "                           feature)\n",
    "\n",
    "plt.show()"
   ]
  },
  {
   "cell_type": "code",
   "execution_count": 4,
   "id": "14fa0232-6837-4cfd-b069-413054ec33d1",
   "metadata": {
    "jupyter": {
     "source_hidden": true
    },
    "tags": []
   },
   "outputs": [
    {
     "data": {
      "text/html": [
       "<div>\n",
       "<style scoped>\n",
       "    .dataframe tbody tr th:only-of-type {\n",
       "        vertical-align: middle;\n",
       "    }\n",
       "\n",
       "    .dataframe tbody tr th {\n",
       "        vertical-align: top;\n",
       "    }\n",
       "\n",
       "    .dataframe thead th {\n",
       "        text-align: right;\n",
       "    }\n",
       "</style>\n",
       "<table border=\"1\" class=\"dataframe\">\n",
       "  <thead>\n",
       "    <tr style=\"text-align: right;\">\n",
       "      <th></th>\n",
       "      <th>DisbursementGross</th>\n",
       "      <th>GrAppv</th>\n",
       "      <th>SBA_Appv</th>\n",
       "    </tr>\n",
       "  </thead>\n",
       "  <tbody>\n",
       "    <tr>\n",
       "      <th>DisbursementGross</th>\n",
       "      <td>1.000000</td>\n",
       "      <td>0.968940</td>\n",
       "      <td>0.940864</td>\n",
       "    </tr>\n",
       "    <tr>\n",
       "      <th>GrAppv</th>\n",
       "      <td>0.968940</td>\n",
       "      <td>1.000000</td>\n",
       "      <td>0.986551</td>\n",
       "    </tr>\n",
       "    <tr>\n",
       "      <th>SBA_Appv</th>\n",
       "      <td>0.940864</td>\n",
       "      <td>0.986551</td>\n",
       "      <td>1.000000</td>\n",
       "    </tr>\n",
       "  </tbody>\n",
       "</table>\n",
       "</div>"
      ],
      "text/plain": [
       "                   DisbursementGross    GrAppv  SBA_Appv\n",
       "DisbursementGross           1.000000  0.968940  0.940864\n",
       "GrAppv                      0.968940  1.000000  0.986551\n",
       "SBA_Appv                    0.940864  0.986551  1.000000"
      ]
     },
     "metadata": {},
     "output_type": "display_data"
    },
    {
     "data": {
      "image/png": "[encoded data removed]",
      "text/plain": [
       "<Figure size 432x288 with 1 Axes>"
      ]
     },
     "metadata": {
      "needs_background": "light"
     },
     "output_type": "display_data"
    },
    {
     "data": {
      "image/png": "[encoded data removed]",
      "text/plain": [
       "<Figure size 432x288 with 1 Axes>"
      ]
     },
     "metadata": {
      "needs_background": "light"
     },
     "output_type": "display_data"
    },
    {
     "data": {
      "image/png": "[encoded data removed]",
      "text/plain": [
       "<Figure size 432x288 with 1 Axes>"
      ]
     },
     "metadata": {
      "needs_background": "light"
     },
     "output_type": "display_data"
    }
   ],
   "source": [
    "pairs = [('DisbursementGross', 'GrAppv'),\n",
    "         ('DisbursementGross', 'SBA_Appv'),\n",
    "         ('GrAppv', 'SBA_Appv')]\n",
    "\n",
    "corr_mat = amount_transformed.corr()\n",
    "display(corr_mat)\n",
    "\n",
    "for f1, f2 in pairs:\n",
    "    plt.scatter(amount_transformed[f1], amount_transformed[f2])\n",
    "    plt.title(f'{f1} vs {f2} - R2: {corr_mat.loc[f1, f2]}')\n",
    "    plt.xlabel(f1)\n",
    "    plt.ylabel(f2)\n",
    "    plt.show()"
   ]
  },
  {
   "cell_type": "markdown",
   "id": "ea6c032d-0273-4436-83f3-f1d1dce916bf",
   "metadata": {},
   "source": [
    "### SBA_Appv_portion (tỷ lệ bảo lãnh của SBA)\n",
    "\n",
    "Khi loại bỏ GrAppv và SBA_Appv và thay thế bằng tỷ lệ SBA_Appv / GrAppv thì biến mới này có khả năng giải thích kết quả CHGOFF / PIF. Lý lẽ là khi SBA đánh giá khoản vay có khả năng trả được nợ thì mới chấp nhận tỷ lệ bảo lãnh cao và ngược lại. Đây là cách tiếp cận được sử dụng thay vì phương pháp PCA trên 3 biến DisbursementGross, GrAppv, SBA_Appv."
   ]
  },
  {
   "cell_type": "code",
   "execution_count": 23,
   "id": "6379bea9-7ae2-4128-b3e6-659f2a9547d5",
   "metadata": {
    "jupyter": {
     "source_hidden": true
    },
    "tags": []
   },
   "outputs": [
    {
     "data": {
      "image/png": "[encoded data removed]",
      "text/plain": [
       "<Figure size 432x288 with 1 Axes>"
      ]
     },
     "metadata": {
      "needs_background": "light"
     },
     "output_type": "display_data"
    }
   ],
   "source": [
    "sba_appv_portion = original_amount['SBA_Appv'] / original_amount['GrAppv']\n",
    "\n",
    "cond = (y_train=='P I F')\n",
    "plt.boxplot([sba_appv_portion[cond],\n",
    "             sba_appv_portion[~cond]],\n",
    "            labels=['PIF', 'CHGOFF'])\n",
    "plt.title('CHGOFF rate by SBA_Appv_Portion')\n",
    "plt.show()"
   ]
  },
  {
   "cell_type": "markdown",
   "id": "44c26a05-8915-4eab-9387-d3a97d61cc73",
   "metadata": {},
   "source": [
    "### BalanceGross, ChgOffPrinGr (Dư nợ, Dư nợ không trả được)\n",
    "\n",
    "* Với mục tiêu xác định có trả được nợ hay không chỉ cần căn cứ vào MIS_Status và có thể bỏ qua ChgOffPrinGr.\n",
    "* Phần lớn BalanceGross bằng 0 do KH đã trả hết nợ hoặc chuyển thành nợ không trả được do đó cũng có thể bỏ qua."
   ]
  },
  {
   "cell_type": "code",
   "execution_count": 27,
   "id": "bf8577c6-11a3-48e1-b39b-919af29a682b",
   "metadata": {},
   "outputs": [
    {
     "data": {
      "text/plain": [
       "$0.00           807438\n",
       "$96,908.00           1\n",
       "$84,617.00           1\n",
       "$43,127.00           1\n",
       "$9,111.00            1\n",
       "$12,750.00           1\n",
       "$41,509.00           1\n",
       "$37,100.00           1\n",
       "$25,000.00           1\n",
       "$996,262.00          1\n",
       "$600.00              1\n",
       "$827,875.00          1\n",
       "$395,476.00          1\n",
       "Name: BalanceGross, dtype: int64"
      ]
     },
     "execution_count": 27,
     "metadata": {},
     "output_type": "execute_result"
    }
   ],
   "source": [
    "x_train['BalanceGross'].value_counts()"
   ]
  },
  {
   "cell_type": "markdown",
   "id": "bce18ef8-8d43-46fd-b4b2-d6ea8fb6f16b",
   "metadata": {},
   "source": [
    "### DisbursementDate (ngày giải ngân)\n",
    "\n",
    "* Dataset bao gồm dữ liệu giải ngân từ 1987 đến năm 2014. Định dạng dưới dạng 3-Jun-89 (lưu ý là năm 1989 không phải 2089).\n",
    "* Có quan sát có ngày giải ngân sai sót (trước 1987 và sau 2014). Do số lượng là ít so với số lượng quan sát nên ta có thể bỏ qua không cần làm sạch.\n",
    "* Có gần 2.000 trường hợp thiếu dữ liệu có thể sử dụng ngày phê duyệt (ApprovalDate) để thay thế."
   ]
  },
  {
   "cell_type": "code",
   "execution_count": 3,
   "id": "5e999f17-b6fa-42f6-b596-ef2732b5f548",
   "metadata": {},
   "outputs": [
    {
     "ename": "TypeError",
     "evalue": "ufunc 'isnan' not supported for the input types, and the inputs could not be safely coerced to any supported types according to the casting rule ''safe''",
     "output_type": "error",
     "traceback": [
      "\u001b[1;31m---------------------------------------------------------------------------\u001b[0m",
      "\u001b[1;31mTypeError\u001b[0m                                 Traceback (most recent call last)",
      "\u001b[1;32m~\\AppData\\Local\\Temp/ipykernel_526120/3833223567.py\u001b[0m in \u001b[0;36m<module>\u001b[1;34m\u001b[0m\n\u001b[1;32m----> 1\u001b[1;33m \u001b[0mdate_df\u001b[0m \u001b[1;33m=\u001b[0m \u001b[0mdate_value\u001b[0m\u001b[1;33m(\u001b[0m\u001b[0mx_train\u001b[0m\u001b[1;33m[\u001b[0m\u001b[1;33m[\u001b[0m\u001b[1;34m'DisbursementDate'\u001b[0m\u001b[1;33m,\u001b[0m \u001b[1;34m'ApprovalDate'\u001b[0m\u001b[1;33m,\u001b[0m \u001b[1;34m'ChgOffDate'\u001b[0m\u001b[1;33m]\u001b[0m\u001b[1;33m]\u001b[0m\u001b[1;33m,\u001b[0m \u001b[0mmax_year\u001b[0m\u001b[1;33m=\u001b[0m\u001b[1;36m2020\u001b[0m\u001b[1;33m)\u001b[0m\u001b[1;33m\u001b[0m\u001b[1;33m\u001b[0m\u001b[0m\n\u001b[0m\u001b[0;32m      2\u001b[0m \u001b[0mdate_df\u001b[0m\u001b[1;33m[\u001b[0m\u001b[1;34m'DisbursementDate'\u001b[0m\u001b[1;33m]\u001b[0m\u001b[1;33m.\u001b[0m\u001b[0msort_values\u001b[0m\u001b[1;33m(\u001b[0m\u001b[1;33m)\u001b[0m\u001b[1;33m\u001b[0m\u001b[1;33m\u001b[0m\u001b[0m\n",
      "\u001b[1;32mD:\\Dev\\dsp305x\\dsp305x\\utils.py\u001b[0m in \u001b[0;36mdate_value\u001b[1;34m(date_strings, errors, max_year)\u001b[0m\n\u001b[0;32m    128\u001b[0m                 \u001b[0mresult\u001b[0m \u001b[1;33m=\u001b[0m \u001b[1;34m'0'\u001b[0m \u001b[1;33m+\u001b[0m \u001b[0mresult\u001b[0m\u001b[1;33m\u001b[0m\u001b[1;33m\u001b[0m\u001b[0m\n\u001b[0;32m    129\u001b[0m         \u001b[1;32mreturn\u001b[0m \u001b[0mresult\u001b[0m\u001b[1;33m\u001b[0m\u001b[1;33m\u001b[0m\u001b[0m\n\u001b[1;32m--> 130\u001b[1;33m     result = date_strings.applymap(transform).apply(\n\u001b[0m\u001b[0;32m    131\u001b[0m         \u001b[1;32mlambda\u001b[0m \u001b[0mx\u001b[0m\u001b[1;33m:\u001b[0m \u001b[0mpd\u001b[0m\u001b[1;33m.\u001b[0m\u001b[0mto_datetime\u001b[0m\u001b[1;33m(\u001b[0m\u001b[0mx\u001b[0m\u001b[1;33m,\u001b[0m \u001b[0mformat\u001b[0m\u001b[1;33m=\u001b[0m\u001b[1;34m'%d-%b-%Y'\u001b[0m\u001b[1;33m,\u001b[0m \u001b[0merrors\u001b[0m\u001b[1;33m=\u001b[0m\u001b[0merrors\u001b[0m\u001b[1;33m)\u001b[0m\u001b[1;33m\u001b[0m\u001b[1;33m\u001b[0m\u001b[0m\n\u001b[0;32m    132\u001b[0m     )\n",
      "\u001b[1;32md:\\dev\\dsp305x\\lib\\site-packages\\pandas\\core\\frame.py\u001b[0m in \u001b[0;36mapplymap\u001b[1;34m(self, func, na_action, **kwargs)\u001b[0m\n\u001b[0;32m   8823\u001b[0m             \u001b[1;32mreturn\u001b[0m \u001b[0mlib\u001b[0m\u001b[1;33m.\u001b[0m\u001b[0mmap_infer\u001b[0m\u001b[1;33m(\u001b[0m\u001b[0mx\u001b[0m\u001b[1;33m.\u001b[0m\u001b[0mastype\u001b[0m\u001b[1;33m(\u001b[0m\u001b[0mobject\u001b[0m\u001b[1;33m)\u001b[0m\u001b[1;33m.\u001b[0m\u001b[0m_values\u001b[0m\u001b[1;33m,\u001b[0m \u001b[0mfunc\u001b[0m\u001b[1;33m,\u001b[0m \u001b[0mignore_na\u001b[0m\u001b[1;33m=\u001b[0m\u001b[0mignore_na\u001b[0m\u001b[1;33m)\u001b[0m\u001b[1;33m\u001b[0m\u001b[1;33m\u001b[0m\u001b[0m\n\u001b[0;32m   8824\u001b[0m \u001b[1;33m\u001b[0m\u001b[0m\n\u001b[1;32m-> 8825\u001b[1;33m         \u001b[1;32mreturn\u001b[0m \u001b[0mself\u001b[0m\u001b[1;33m.\u001b[0m\u001b[0mapply\u001b[0m\u001b[1;33m(\u001b[0m\u001b[0minfer\u001b[0m\u001b[1;33m)\u001b[0m\u001b[1;33m.\u001b[0m\u001b[0m__finalize__\u001b[0m\u001b[1;33m(\u001b[0m\u001b[0mself\u001b[0m\u001b[1;33m,\u001b[0m \u001b[1;34m\"applymap\"\u001b[0m\u001b[1;33m)\u001b[0m\u001b[1;33m\u001b[0m\u001b[1;33m\u001b[0m\u001b[0m\n\u001b[0m\u001b[0;32m   8826\u001b[0m \u001b[1;33m\u001b[0m\u001b[0m\n\u001b[0;32m   8827\u001b[0m     \u001b[1;31m# ----------------------------------------------------------------------\u001b[0m\u001b[1;33m\u001b[0m\u001b[1;33m\u001b[0m\u001b[1;33m\u001b[0m\u001b[0m\n",
      "\u001b[1;32md:\\dev\\dsp305x\\lib\\site-packages\\pandas\\core\\frame.py\u001b[0m in \u001b[0;36mapply\u001b[1;34m(self, func, axis, raw, result_type, args, **kwargs)\u001b[0m\n\u001b[0;32m   8738\u001b[0m             \u001b[0mkwargs\u001b[0m\u001b[1;33m=\u001b[0m\u001b[0mkwargs\u001b[0m\u001b[1;33m,\u001b[0m\u001b[1;33m\u001b[0m\u001b[1;33m\u001b[0m\u001b[0m\n\u001b[0;32m   8739\u001b[0m         )\n\u001b[1;32m-> 8740\u001b[1;33m         \u001b[1;32mreturn\u001b[0m \u001b[0mop\u001b[0m\u001b[1;33m.\u001b[0m\u001b[0mapply\u001b[0m\u001b[1;33m(\u001b[0m\u001b[1;33m)\u001b[0m\u001b[1;33m\u001b[0m\u001b[1;33m\u001b[0m\u001b[0m\n\u001b[0m\u001b[0;32m   8741\u001b[0m \u001b[1;33m\u001b[0m\u001b[0m\n\u001b[0;32m   8742\u001b[0m     def applymap(\n",
      "\u001b[1;32md:\\dev\\dsp305x\\lib\\site-packages\\pandas\\core\\apply.py\u001b[0m in \u001b[0;36mapply\u001b[1;34m(self)\u001b[0m\n\u001b[0;32m    686\u001b[0m             \u001b[1;32mreturn\u001b[0m \u001b[0mself\u001b[0m\u001b[1;33m.\u001b[0m\u001b[0mapply_raw\u001b[0m\u001b[1;33m(\u001b[0m\u001b[1;33m)\u001b[0m\u001b[1;33m\u001b[0m\u001b[1;33m\u001b[0m\u001b[0m\n\u001b[0;32m    687\u001b[0m \u001b[1;33m\u001b[0m\u001b[0m\n\u001b[1;32m--> 688\u001b[1;33m         \u001b[1;32mreturn\u001b[0m \u001b[0mself\u001b[0m\u001b[1;33m.\u001b[0m\u001b[0mapply_standard\u001b[0m\u001b[1;33m(\u001b[0m\u001b[1;33m)\u001b[0m\u001b[1;33m\u001b[0m\u001b[1;33m\u001b[0m\u001b[0m\n\u001b[0m\u001b[0;32m    689\u001b[0m \u001b[1;33m\u001b[0m\u001b[0m\n\u001b[0;32m    690\u001b[0m     \u001b[1;32mdef\u001b[0m \u001b[0magg\u001b[0m\u001b[1;33m(\u001b[0m\u001b[0mself\u001b[0m\u001b[1;33m)\u001b[0m\u001b[1;33m:\u001b[0m\u001b[1;33m\u001b[0m\u001b[1;33m\u001b[0m\u001b[0m\n",
      "\u001b[1;32md:\\dev\\dsp305x\\lib\\site-packages\\pandas\\core\\apply.py\u001b[0m in \u001b[0;36mapply_standard\u001b[1;34m(self)\u001b[0m\n\u001b[0;32m    810\u001b[0m \u001b[1;33m\u001b[0m\u001b[0m\n\u001b[0;32m    811\u001b[0m     \u001b[1;32mdef\u001b[0m \u001b[0mapply_standard\u001b[0m\u001b[1;33m(\u001b[0m\u001b[0mself\u001b[0m\u001b[1;33m)\u001b[0m\u001b[1;33m:\u001b[0m\u001b[1;33m\u001b[0m\u001b[1;33m\u001b[0m\u001b[0m\n\u001b[1;32m--> 812\u001b[1;33m         \u001b[0mresults\u001b[0m\u001b[1;33m,\u001b[0m \u001b[0mres_index\u001b[0m \u001b[1;33m=\u001b[0m \u001b[0mself\u001b[0m\u001b[1;33m.\u001b[0m\u001b[0mapply_series_generator\u001b[0m\u001b[1;33m(\u001b[0m\u001b[1;33m)\u001b[0m\u001b[1;33m\u001b[0m\u001b[1;33m\u001b[0m\u001b[0m\n\u001b[0m\u001b[0;32m    813\u001b[0m \u001b[1;33m\u001b[0m\u001b[0m\n\u001b[0;32m    814\u001b[0m         \u001b[1;31m# wrap results\u001b[0m\u001b[1;33m\u001b[0m\u001b[1;33m\u001b[0m\u001b[1;33m\u001b[0m\u001b[0m\n",
      "\u001b[1;32md:\\dev\\dsp305x\\lib\\site-packages\\pandas\\core\\apply.py\u001b[0m in \u001b[0;36mapply_series_generator\u001b[1;34m(self)\u001b[0m\n\u001b[0;32m    826\u001b[0m             \u001b[1;32mfor\u001b[0m \u001b[0mi\u001b[0m\u001b[1;33m,\u001b[0m \u001b[0mv\u001b[0m \u001b[1;32min\u001b[0m \u001b[0menumerate\u001b[0m\u001b[1;33m(\u001b[0m\u001b[0mseries_gen\u001b[0m\u001b[1;33m)\u001b[0m\u001b[1;33m:\u001b[0m\u001b[1;33m\u001b[0m\u001b[1;33m\u001b[0m\u001b[0m\n\u001b[0;32m    827\u001b[0m                 \u001b[1;31m# ignore SettingWithCopy here in case the user mutates\u001b[0m\u001b[1;33m\u001b[0m\u001b[1;33m\u001b[0m\u001b[1;33m\u001b[0m\u001b[0m\n\u001b[1;32m--> 828\u001b[1;33m                 \u001b[0mresults\u001b[0m\u001b[1;33m[\u001b[0m\u001b[0mi\u001b[0m\u001b[1;33m]\u001b[0m \u001b[1;33m=\u001b[0m \u001b[0mself\u001b[0m\u001b[1;33m.\u001b[0m\u001b[0mf\u001b[0m\u001b[1;33m(\u001b[0m\u001b[0mv\u001b[0m\u001b[1;33m)\u001b[0m\u001b[1;33m\u001b[0m\u001b[1;33m\u001b[0m\u001b[0m\n\u001b[0m\u001b[0;32m    829\u001b[0m                 \u001b[1;32mif\u001b[0m \u001b[0misinstance\u001b[0m\u001b[1;33m(\u001b[0m\u001b[0mresults\u001b[0m\u001b[1;33m[\u001b[0m\u001b[0mi\u001b[0m\u001b[1;33m]\u001b[0m\u001b[1;33m,\u001b[0m \u001b[0mABCSeries\u001b[0m\u001b[1;33m)\u001b[0m\u001b[1;33m:\u001b[0m\u001b[1;33m\u001b[0m\u001b[1;33m\u001b[0m\u001b[0m\n\u001b[0;32m    830\u001b[0m                     \u001b[1;31m# If we have a view on v, we need to make a copy because\u001b[0m\u001b[1;33m\u001b[0m\u001b[1;33m\u001b[0m\u001b[1;33m\u001b[0m\u001b[0m\n",
      "\u001b[1;32md:\\dev\\dsp305x\\lib\\site-packages\\pandas\\core\\frame.py\u001b[0m in \u001b[0;36minfer\u001b[1;34m(x)\u001b[0m\n\u001b[0;32m   8821\u001b[0m             \u001b[1;32mif\u001b[0m \u001b[0mx\u001b[0m\u001b[1;33m.\u001b[0m\u001b[0mempty\u001b[0m\u001b[1;33m:\u001b[0m\u001b[1;33m\u001b[0m\u001b[1;33m\u001b[0m\u001b[0m\n\u001b[0;32m   8822\u001b[0m                 \u001b[1;32mreturn\u001b[0m \u001b[0mlib\u001b[0m\u001b[1;33m.\u001b[0m\u001b[0mmap_infer\u001b[0m\u001b[1;33m(\u001b[0m\u001b[0mx\u001b[0m\u001b[1;33m,\u001b[0m \u001b[0mfunc\u001b[0m\u001b[1;33m,\u001b[0m \u001b[0mignore_na\u001b[0m\u001b[1;33m=\u001b[0m\u001b[0mignore_na\u001b[0m\u001b[1;33m)\u001b[0m\u001b[1;33m\u001b[0m\u001b[1;33m\u001b[0m\u001b[0m\n\u001b[1;32m-> 8823\u001b[1;33m             \u001b[1;32mreturn\u001b[0m \u001b[0mlib\u001b[0m\u001b[1;33m.\u001b[0m\u001b[0mmap_infer\u001b[0m\u001b[1;33m(\u001b[0m\u001b[0mx\u001b[0m\u001b[1;33m.\u001b[0m\u001b[0mastype\u001b[0m\u001b[1;33m(\u001b[0m\u001b[0mobject\u001b[0m\u001b[1;33m)\u001b[0m\u001b[1;33m.\u001b[0m\u001b[0m_values\u001b[0m\u001b[1;33m,\u001b[0m \u001b[0mfunc\u001b[0m\u001b[1;33m,\u001b[0m \u001b[0mignore_na\u001b[0m\u001b[1;33m=\u001b[0m\u001b[0mignore_na\u001b[0m\u001b[1;33m)\u001b[0m\u001b[1;33m\u001b[0m\u001b[1;33m\u001b[0m\u001b[0m\n\u001b[0m\u001b[0;32m   8824\u001b[0m \u001b[1;33m\u001b[0m\u001b[0m\n\u001b[0;32m   8825\u001b[0m         \u001b[1;32mreturn\u001b[0m \u001b[0mself\u001b[0m\u001b[1;33m.\u001b[0m\u001b[0mapply\u001b[0m\u001b[1;33m(\u001b[0m\u001b[0minfer\u001b[0m\u001b[1;33m)\u001b[0m\u001b[1;33m.\u001b[0m\u001b[0m__finalize__\u001b[0m\u001b[1;33m(\u001b[0m\u001b[0mself\u001b[0m\u001b[1;33m,\u001b[0m \u001b[1;34m\"applymap\"\u001b[0m\u001b[1;33m)\u001b[0m\u001b[1;33m\u001b[0m\u001b[1;33m\u001b[0m\u001b[0m\n",
      "\u001b[1;32md:\\dev\\dsp305x\\lib\\site-packages\\pandas\\_libs\\lib.pyx\u001b[0m in \u001b[0;36mpandas._libs.lib.map_infer\u001b[1;34m()\u001b[0m\n",
      "\u001b[1;32mD:\\Dev\\dsp305x\\dsp305x\\utils.py\u001b[0m in \u001b[0;36mtransform\u001b[1;34m(date_string)\u001b[0m\n\u001b[0;32m    120\u001b[0m     \u001b[1;32mdef\u001b[0m \u001b[0mtransform\u001b[0m\u001b[1;33m(\u001b[0m\u001b[0mdate_string\u001b[0m\u001b[1;33m)\u001b[0m\u001b[1;33m:\u001b[0m\u001b[1;33m\u001b[0m\u001b[1;33m\u001b[0m\u001b[0m\n\u001b[0;32m    121\u001b[0m         \u001b[0mresult\u001b[0m \u001b[1;33m=\u001b[0m \u001b[0mdate_string\u001b[0m\u001b[1;33m\u001b[0m\u001b[1;33m\u001b[0m\u001b[0m\n\u001b[1;32m--> 122\u001b[1;33m         \u001b[1;32mif\u001b[0m \u001b[1;32mnot\u001b[0m \u001b[0mnp\u001b[0m\u001b[1;33m.\u001b[0m\u001b[0misnan\u001b[0m\u001b[1;33m(\u001b[0m\u001b[0mdate_string\u001b[0m\u001b[1;33m)\u001b[0m\u001b[1;33m:\u001b[0m\u001b[1;33m\u001b[0m\u001b[1;33m\u001b[0m\u001b[0m\n\u001b[0m\u001b[0;32m    123\u001b[0m             \u001b[0myear\u001b[0m \u001b[1;33m=\u001b[0m \u001b[0mint\u001b[0m\u001b[1;33m(\u001b[0m\u001b[1;34m'20'\u001b[0m \u001b[1;33m+\u001b[0m \u001b[0mdate_string\u001b[0m\u001b[1;33m[\u001b[0m\u001b[1;33m-\u001b[0m\u001b[1;36m2\u001b[0m\u001b[1;33m:\u001b[0m\u001b[1;33m]\u001b[0m\u001b[1;33m)\u001b[0m\u001b[1;33m\u001b[0m\u001b[1;33m\u001b[0m\u001b[0m\n\u001b[0;32m    124\u001b[0m             \u001b[1;32mif\u001b[0m \u001b[0myear\u001b[0m \u001b[1;33m>\u001b[0m \u001b[0mmax_year\u001b[0m\u001b[1;33m:\u001b[0m\u001b[1;33m\u001b[0m\u001b[1;33m\u001b[0m\u001b[0m\n",
      "\u001b[1;31mTypeError\u001b[0m: ufunc 'isnan' not supported for the input types, and the inputs could not be safely coerced to any supported types according to the casting rule ''safe''"
     ]
    }
   ],
   "source": [
    "date_df = date_value(x_train[['DisbursementDate', 'ApprovalDate', 'ChgOffDate']], max_year=2020)\n",
    "date_df['DisbursementDate'].sort_values()"
   ]
  },
  {
   "cell_type": "markdown",
   "id": "0d89172b-5282-4959-bdee-569298067979",
   "metadata": {},
   "source": [
    "### Term (kỳ hạn)\n",
    "\n",
    "Kỳ hạn vay không bị thiếu dữ liệu. Tuy nhiên có khoảng 700 trường hợp có kỳ hạn bằng 0. Trong đó đa số trường hợp có thể sử dụng ngày Charged off để tính kỳ hạn (kỳ hạn = ngày charged off - ngày giải ngân). Các trường hợp còn lại: gán kỳ hạn 1 tháng."
   ]
  },
  {
   "cell_type": "code",
   "execution_count": 6,
   "id": "7fbfd71c-62b8-4b8f-a5ec-6fa313a3827b",
   "metadata": {},
   "outputs": [
    {
     "name": "stdout",
     "output_type": "stream",
     "text": [
      "Number of zero term: 723\n",
      "Number of zero term with charged off date: 685\n",
      "Impute with 1 month: 38\n"
     ]
    }
   ],
   "source": [
    "zero_term_df = x_train[x_train['Term']==0]\n",
    "n_zero = zero_term_df.shape[0]\n",
    "print('Number of zero term:', n_zero)\n",
    "zero_term_with_chgoff_date_df = zero_term_df[~zero_term_df['ChgOffDate'].isna()]\n",
    "n_zero_with_chgoff = zero_term_with_chgoff_date_df.shape[0]\n",
    "print('Number of zero term with charged off date:', n_zero_with_chgoff)\n",
    "print('Impute with 1 month:', n_zero - n_zero_with_chgoff)"
   ]
  },
  {
   "cell_type": "markdown",
   "id": "4c05d749-ab01-4c4a-a844-b4a42b103de9",
   "metadata": {
    "tags": []
   },
   "source": [
    "### Recession (suy thoái kinh tế)\n",
    "\n",
    "* Các khoản vay có trải qua giai đoạn suy thoái kinh tế (tháng 12/2007 đến tháng 6/2009) có tỷ lệ CHGOFF cao hơn các giai đoạn khác. Đây là biến được tạo ra để đưa vào huấn luyện.\n",
    "* Điều kiện xác định khoản vay trải qua giai đoạn suy thoái kinh tế:\n",
    "    + Ngày giải ngân trước tháng 6/2009, và\n",
    "    + Ngày hết hạn (ngày bắt đầu + kỳ hạn) sau tháng 12/2007"
   ]
  },
  {
   "cell_type": "code",
   "execution_count": null,
   "id": "a29d89ea-dca4-4f1d-a54e-1d6ff1cfe513",
   "metadata": {},
   "outputs": [],
   "source": [
    "x_train['NoEmp'].unique()"
   ]
  },
  {
   "cell_type": "code",
   "execution_count": null,
   "id": "87dec597-bbfb-4e23-9ae7-ba4f506460a5",
   "metadata": {},
   "outputs": [],
   "source": [
    "x_train[x_train['Term']==2]"
   ]
  },
  {
   "cell_type": "code",
   "execution_count": null,
   "id": "207fcffd-f82b-4ffd-84d9-5906df06c314",
   "metadata": {},
   "outputs": [],
   "source": [
    "disburse_dates = date_value(x_train['ChgOffDate'].fillna(''), max_year=2020).dropna()\n",
    "pd.DataFrame(disburse_dates.sort_values())"
   ]
  },
  {
   "cell_type": "markdown",
   "id": "c07278c1-9fa0-43bd-8054-9d0ec45a9ecd",
   "metadata": {
    "tags": []
   },
   "source": [
    "### City, State, Zip (thành phố, bang, zip code)\n",
    "* Số bang = 51 có vẻ là giá trị đúng (50 bang + Washington DC), số  thành phố, Zip code >= 30k\n",
    "* Các biến này đều thể hiện địa điểm của Khách hàng. Để giảm số lượng nhóm ta sẽ chọn bang (State) để đưa vào huấn luyện\n",
    "* Luận điểm ở đây: Mỗi bang ở nước Mỹ có 1 hệ thống pháp luật, môi trường kinh doanh, cơ cấu kinh tế khác nhau do đó có thể có tỷ lệ CHGOFF khác nhau. Ta có thể kiểm chứng qua việc vẽ biểu đồ trực quan hoá.\n",
    "* Từ biểu đồ trực quan hoá, có thể chia các bang thành các nhóm như sau:\n",
    "0. FL, NV, IL, MI, GA, DC (tỷ lệ CHGOFF cao nhất)\n",
    "1. AZ, TN, NJ, NY\n",
    "2. CA, UT, CO, TX, LA, AR, KY, IN, SC, NC, VA, DE, NY, MD, AL\n",
    "3. Còn lại\n",
    "4. MT, ND, SD, WY, NM, VT, NH, ME, NM (tỷ lệ CHGOFF thấp nhất)\n",
    "* Một số lượng lớn Khách hàng trong tập dữ liệu tập trung ở một số bang: CA (gần 200k), TX (khoảng 60k), NY (hơn 40k)"
   ]
  },
  {
   "cell_type": "code",
   "execution_count": null,
   "id": "a4cc8faf-ad19-4f4d-a41c-47d9ca87d314",
   "metadata": {
    "tags": []
   },
   "outputs": [],
   "source": [
    "plot_geospartial(chgoff_rate_by_feature(x_train, y_train, 'State'),\n",
    "                 (22,14),\n",
    "                 cmap='OrRd',\n",
    "                 title='CHGOFF rate by State')\n",
    "plt.savefig('figure/chgoff_rate_by_state.svg')\n",
    "plt.show()"
   ]
  },
  {
   "cell_type": "code",
   "execution_count": null,
   "id": "b0e024ca-97af-4363-b624-6bdc72c3e056",
   "metadata": {
    "tags": []
   },
   "outputs": [],
   "source": [
    "plot_geospartial(x_train['State'].value_counts(),\n",
    "                 (22,14),\n",
    "                 cmap='OrRd',\n",
    "                 title='Customer number by State')\n",
    "plt.savefig('figure/cust_num_by_state.svg')\n",
    "plt.show()"
   ]
  },
  {
   "cell_type": "markdown",
   "id": "63895872-1de6-42a5-b648-0d98b54c4e84",
   "metadata": {},
   "source": [
    "### Bank, BankState (ngân hàng, bang của ngân hàng)"
   ]
  },
  {
   "cell_type": "markdown",
   "id": "c84dc19b-3486-4f71-9483-ee0eedbe6109",
   "metadata": {},
   "source": [
    "* Có 56 kiểu giá trị do tại cột này liệt kê cả các lãnh thổ không phải là bang như: Guam, Puerto Rico, Vigin Island...\n",
    "* Vì số lượng ngân hàng lớn (trên 5k) do đó ta cũng chỉ chọn bang của ngân hàng để phân tích\n",
    "* Khi đếm số lượng Khách hàng có thể thấy hiện tượng các ngân hàng cho vay ngoài bang của mình. Ví dụ:\n",
    "1. Số Khách hàng ở VA, NC thấp nhưng các ngân hàng ở 2 bang này lại cho vay nhiều khách hàng hơn\n",
    "2. Số Khách hàng ở CA cao nhưng các ngân hàng ở bang này lại cho vay ít khách hàng hơn\n",
    "* Biểu đồ trực quan hoá cho thấy các trường hợp cho vay ngoài bang có xu hướng tỷ lệ CHGOFF cao hơn là cho vay trong bang"
   ]
  },
  {
   "cell_type": "code",
   "execution_count": null,
   "id": "4b968ab9-d92b-48f1-b05f-74e0be4e794c",
   "metadata": {
    "tags": []
   },
   "outputs": [],
   "source": [
    "territories = set(x_train['BankState'].unique()) - set(x_train['State'].unique())\n",
    "print('BankState territories:', territories)"
   ]
  },
  {
   "cell_type": "code",
   "execution_count": null,
   "id": "4a80fe59-9fcb-434b-b831-6f5e3760c05a",
   "metadata": {
    "tags": []
   },
   "outputs": [],
   "source": [
    "plot_geospartial(chgoff_rate_by_feature(x_train, y_train, 'BankState'),\n",
    "                 (22,14),\n",
    "                 cmap='OrRd',\n",
    "                 title='CHGOFF rate by BankState')\n",
    "plt.savefig('figure/chgoff_rate_by_bankstate.svg')\n",
    "plt.show()"
   ]
  },
  {
   "cell_type": "code",
   "execution_count": null,
   "id": "e19a0873-b2da-4897-8f24-ce307abc8f1e",
   "metadata": {
    "tags": []
   },
   "outputs": [],
   "source": [
    "plot_geospartial(x_train['BankState'].value_counts(),\n",
    "                 (22,14),\n",
    "                 cmap='OrRd',\n",
    "                 title='Customer number by BankState')\n",
    "plt.savefig('figure/cust_num_by_bankstate.svg')\n",
    "plt.show()"
   ]
  },
  {
   "cell_type": "code",
   "execution_count": null,
   "id": "623d8031-aa63-43e4-9f57-8cdc6f796453",
   "metadata": {
    "tags": []
   },
   "outputs": [],
   "source": [
    "out_of_state_cond = x_train['State'] != x_train['BankState']\n",
    "x_State_df = pd.concat([x_train['BankState'], y_train], axis='columns')\n",
    "x_State_df['outState'] = 'in State'\n",
    "x_State_df.loc[out_of_state_cond, 'outState'] = 'out State'\n",
    "total_case = x_State_df.pivot_table(index='BankState',\n",
    "                                    columns='outState',\n",
    "                                    values='MIS_Status',\n",
    "                                    aggfunc='count',\n",
    "                                    fill_value=0.0)\n",
    "\n",
    "chgoff_cond = x_State_df['MIS_Status']=='CHGOFF'\n",
    "chgoff = x_State_df[chgoff_cond].pivot_table(index='BankState',\n",
    "                                             columns='outState',\n",
    "                                             values='MIS_Status',\n",
    "                                             aggfunc='count',\n",
    "                                             fill_value=0.0)\n",
    "\n",
    "out_State_df = chgoff.reindex_like(total_case).fillna(0.0) / total_case\n",
    "out_State_df = out_State_df.fillna(0)\n",
    "\n",
    "out_State_df.boxplot()\n",
    "plt.title('CHGOFF rate by in/out State')\n",
    "plt.show()"
   ]
  },
  {
   "cell_type": "markdown",
   "id": "09d270d9-a71d-4457-ba8b-4fea506ff4b9",
   "metadata": {},
   "source": [
    "### NAICS (mã ngành)\n",
    "* Có hơn 180k trường hợp thiếu dữ liệu mã ngành (=0)\n",
    "* 2 ký tự đầu cột này được code từ 11 - 92 cho mỗi ngành/ nhóm ngành, tổng cộng 24 loại theo bảng tham số naics.csv\n",
    "* Các ngành khác nhau có mức độ rủi ro khác nhau có tỷ lệ CHGOFF sẽ khác nhau\n",
    "* Nhóm các ngành theo tỷ lệ CHGOFF:\n",
    "0. Dưới 15%\n",
    "1. Từ 15% - Dưới 20%\n",
    "2. Từ 20% - Dưới 25%\n",
    "3. Từ 25%"
   ]
  },
  {
   "cell_type": "code",
   "execution_count": null,
   "id": "9a801f69-648d-404b-bf4b-abe69487fe1c",
   "metadata": {
    "tags": []
   },
   "outputs": [],
   "source": [
    "naics_df = pd.read_csv('data/naics.csv', index_col=0)\n",
    "print('naics.csv shape:', naics_df.shape)\n",
    "naics_df.head()"
   ]
  },
  {
   "cell_type": "code",
   "execution_count": null,
   "id": "97042654-58b4-4e86-a3c9-6f5fb79899e5",
   "metadata": {
    "tags": []
   },
   "outputs": [],
   "source": [
    "tmp = pd.concat([\n",
    "    x_train['LoanNr_ChkDgt'],\n",
    "    x_train['NAICS'].astype('str').str.slice(0,2).astype('int'),\n",
    "    y_train\n",
    "], axis='columns')\n",
    "tmp = tmp.pivot_table(index='NAICS',\n",
    "                      columns='MIS_Status',\n",
    "                      aggfunc='count',\n",
    "                      values='LoanNr_ChkDgt')\n",
    "tmp = tmp['CHGOFF'] / tmp.sum(axis='columns')\n",
    "tmp = tmp.sort_values()\n",
    "\n",
    "desc = naics_df['Description'].reindex_like(tmp)\n",
    "desc[0] = 'Missing'\n",
    "\n",
    "plt.figure(figsize=(12, 6))\n",
    "plt.barh(range(tmp.shape[0]), tmp)\n",
    "plt.yticks(range(tmp.shape[0]), desc)\n",
    "plt.title('CHGOFF rate by NAICS')\n",
    "plt.show()"
   ]
  },
  {
   "cell_type": "markdown",
   "id": "e8ed1eeb-f222-40ce-b9f9-f96179b45463",
   "metadata": {},
   "source": [
    "### ApprovalDate, ApprovalFY, DisbursementDate, Term (ngày phê duyệt, năm phê duyệt, ngày giải ngân, kỳ hạn)\n",
    "\n",
    "* Ngày giải ngân là ngày bắt đầu khoản vay và được dùng để tính ngày hết hạn (ngày hết hạn = ngày giải ngân + kỳ hạn). Do đó ta sẽ chọn biến này để huấn luyện mô hình\n",
    "* Ngày phê duyệt và ngày giải ngân không bắt buộc phải giống nhau, tuy nhiên những trường hợp ngày giải ngân thiếu dữ liệu có thể sử dụng ngày phê duyệt để thay thế\n",
    "* Suy thoái kinh tế (tháng 12/2007 - tháng 6/2009) là khoảng thời gian cần quan tâm trên cơ sở nhận định tỷ lệ CHGOFF trong giai đoạn này sẽ cao hơn các giai đoạn khác (https://en.wikipedia.org/wiki/Great_Recession)"
   ]
  },
  {
   "cell_type": "code",
   "execution_count": null,
   "id": "96aaa28e-438b-427b-b1db-e370d44733ee",
   "metadata": {},
   "outputs": [],
   "source": [
    "tmp = x_train['DisbursementDate'].copy()\n",
    "cond = tmp.isna()\n",
    "tmp[cond] = x_train.loc[cond, 'ApprovalDate']\n",
    "tmp = tmp.apply(lambda x: ('0' if len(x)==8 else '') + x)\n",
    "tmp = pd.to_datetime(tmp, format='%d-%b-%y')"
   ]
  },
  {
   "cell_type": "code",
   "execution_count": null,
   "id": "0f225318-73cd-4da6-b48a-0e2248f03cbb",
   "metadata": {},
   "outputs": [],
   "source": [
    "tmp"
   ]
  },
  {
   "cell_type": "code",
   "execution_count": null,
   "id": "1055e1e4-d6bc-4b2d-91cf-31c863ca80b6",
   "metadata": {},
   "outputs": [],
   "source": []
  }
 ],
 "metadata": {
  "kernelspec": {
   "display_name": "Python 3 (ipykernel)",
   "language": "python",
   "name": "python3"
  },
  "language_info": {
   "codemirror_mode": {
    "name": "ipython",
    "version": 3
   },
   "file_extension": ".py",
   "mimetype": "text/x-python",
   "name": "python",
   "nbconvert_exporter": "python",
   "pygments_lexer": "ipython3",
   "version": "3.8.10"
  },
  "toc-autonumbering": true,
  "toc-showcode": false
 },
 "nbformat": 4,
 "nbformat_minor": 5
}
