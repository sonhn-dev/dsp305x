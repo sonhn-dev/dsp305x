{
 "cells": [
  {
   "cell_type": "markdown",
   "id": "ff6b6831-f330-4c54-9260-fb69353518f8",
   "metadata": {},
   "source": [
    "# Giới thiệu đề tài\n",
    "\n",
    "Một khoản vay có nên được phê duyệt hay không? Các ngân hàng có thể đánh giá rủi ro của một đơn xin vay mới được không?\n",
    "\n",
    "Với một bộ dữ liệu khoản vay của Cơ quan quản lý doanh nghiệp nhỏ Hoa Kỳ (U.S. Small Business Administration - SBA) được cung cấp, hãy đưa ra lời khuyên cho ngân hàng để ra quyết định nêu trên."
   ]
  },
  {
   "cell_type": "markdown",
   "id": "497f0152-8286-4c1a-af03-8e8e5c885f08",
   "metadata": {},
   "source": [
    "# Làm rõ yêu cầu\n",
    "\n",
    "* Mục đích: Bản chất của hoạt động cho vay là dựa trên sự tin tưởng về việc Khách hàng sẽ hoàn trả tiền vay. Trường hợp Khách hàng không trả được nợ sẽ dẫn đến thiệt hại về vốn cho ngân hàng. Một trong các mục đích của ngân hàng là hạn chế các thiệt hại này thông qua nhận diện các Khách hàng xấu để từ chối cho vay. Bên cạnh đó ngân hàng cũng muốn tối đa hoá dư nợ cho vay (quy mô cho vay) từ đó tăng thu nhập từ lãi vay. Điều đó cũng đòi hỏi ngân hàng không từ chối những Khách hàng có nhiều khả năng là Khách hàng tốt.\n",
    "\n",
    "* Mục tiêu: Để đạt được mục đích đề ra ta cần phải dự đoán được liệu Khách hàng có trả được nợ hay không trong tương lai. Trường hợp kết quả dự đoán là \"trả được nợ\" thì ngân hàng có thể quyết định cho Khách hàng đó vay. Ngược lại nếu kết quả dự đoán là \"không trả được nợ\" thì để bảo toàn vốn ngân hàng có thể thông báo từ chối cho vay."
   ]
  },
  {
   "cell_type": "markdown",
   "id": "3c40b097-0205-4473-9fba-d40eacf4e8b4",
   "metadata": {},
   "source": [
    "# Xác định cách tiếp cận giải quyết vấn đề\n",
    "\n",
    "* Có thể thấy bài toán này là một bài toán phân loại với kết quả đầu ra dưới dạng nhị phân (trả được nợ/ không trả được nợ).\n",
    "\n",
    "* Để xây dựng được mô hình dự đoán như yêu cầu, ta có thể sử dụng các phương pháp học có giám sát để huấn luyện mô hình trên dữ liệu đã có sẵn sau đó sử dụng mô hình để dự đoán cho các quan sát mới.\n",
    "\n",
    "* Một trong lựa chọn có thể sử dụng là hồi quy Logistic. Trong nghiên cứu, đây sẽ là mô hình cơ sở để so sánh với các mô hình khác phức tạp hơn. Điểm mạnh của phương pháp này: Ít phức tạp, dễ giải thích, xác định được hướng, mức độ ảnh hưởng của thuộc tính đầu vào lên kết quả.\n",
    "\n",
    "* Xây dựng mô hình nâng cao: Sử dụng các phương pháp Gradient Boosting, Random Forest, mạng neuron... để xây dựng mô hình khớp tốt hơn so với hồi quy Logistic. Qua việc đánh giá hiệu suất của các mô hình trên tập dữ liệu kiểm tra để chọn ra mô hình tối ưu."
   ]
  },
  {
   "cell_type": "markdown",
   "id": "4bdee7c7-591c-4c3c-bf44-7f3afeb7e291",
   "metadata": {},
   "source": [
    "# Xác định các yêu cầu đối với dữ liệu\n",
    "\n",
    "Với các phương pháp đã lựa chọn, nguồn dữ liệu đầu vào cần đáp ứng các yêu cầu sau:\n",
    "\n",
    "* Dữ liệu đầu vào là dữ liệu có cấu trúc (bảng gồm hàng và cột);\n",
    "* Đối tượng cần đánh giá là từng khoản vay do đó mỗi một dòng trong bảng sẽ là một khoản vay đã được cho vay trong một giai đoạn nào đó;\n",
    "* Mỗi một khoản vay cần được dán nhãn trả được nợ/ không trả được nợ;\n",
    "* Để thực hiện các phương pháp nâng cao (Gradient Boosting, Random Forest, mạng neuron...) dữ liệu cần có số lượng quan sát đủ lớn để tránh tình trạng quá khớp và kết quả đầu ra thiếu tính khái quát."
   ]
  },
  {
   "cell_type": "markdown",
   "id": "a83d9fa4-0d89-4eed-9314-85d0fc52f96c",
   "metadata": {},
   "source": [
    "# Thu thập dữ liệu\n",
    "\n",
    "* Nguồn dữ liệu được tải về từ https://www.kaggle.com/mirbektoktogaraev/should-this-loan-be-approved-or-denied\n",
    "* Bảng dữ liệu chính nằm trên file SBAnational.csv, ta sẽ sử dụng thư viện Pandas để load dữ liệu vào đối tượng DataFrame để tiện cho việc phân tích ở các bước sau.\n",
    "* Tiến hành tách tập huấn luyện và kiểm tra. Do số lượng quan sát đủ lớn nên ta có thể chọn tỷ lệ tập huấn luyện trên tập kiểm tra là 90% / 10%."
   ]
  },
  {
   "cell_type": "code",
   "execution_count": null,
   "id": "e5be08bd-d3ca-459b-9d11-a56326b5b02e",
   "metadata": {
    "jupyter": {
     "source_hidden": true
    },
    "tags": []
   },
   "outputs": [],
   "source": [
    "# Linux command\n",
    "!mkdir data\n",
    "!wget -q -P data https://www.tandfonline.com/doi/suppl/10.1080/10691898.2018.1434342/suppl_file/ujse_a_1434342_sm1547.zip\n",
    "!cd data && unzip ujse_a_1434342_sm1547.zip\n",
    "!ls data/"
   ]
  },
  {
   "cell_type": "code",
   "execution_count": 1,
   "id": "64686809-b14f-4478-9529-96606a6356ef",
   "metadata": {
    "tags": []
   },
   "outputs": [
    {
     "name": "stderr",
     "output_type": "stream",
     "text": [
      "C:\\Users\\sonhn\\AppData\\Local\\Temp/ipykernel_70036/2233544999.py:3: DtypeWarning: Columns (9) have mixed types.Specify dtype option on import or set low_memory=False.\n",
      "  x_train, x_test, y_train, y_test = utils.load_data('data/SBAnational.csv',\n"
     ]
    },
    {
     "name": "stdout",
     "output_type": "stream",
     "text": [
      "Data loaded!\n",
      "x train shape: (807450, 26)\n",
      "x test shape: (89717, 26)\n",
      "y train shape: (807450,)\n",
      "y test shape: (807450,)\n"
     ]
    }
   ],
   "source": [
    "import utils\n",
    "\n",
    "x_train, x_test, y_train, y_test = utils.load_data('data/SBAnational.csv',\n",
    "                                                   train_size=0.9,\n",
    "                                                   random_state=13)\n",
    "\n",
    "print('Data loaded!')\n",
    "print('x train shape:', x_train.shape)\n",
    "print('x test shape:', x_test.shape)\n",
    "print('y train shape:', y_train.shape)\n",
    "print('y test shape:', y_train.shape)"
   ]
  },
  {
   "cell_type": "markdown",
   "id": "df1abdef-96fc-49dc-9f94-036e8e9da5af",
   "metadata": {},
   "source": [
    "# Hiểu dữ liệu"
   ]
  },
  {
   "cell_type": "code",
   "execution_count": 2,
   "id": "f6783e4e-8ace-475a-898e-a457d282ed02",
   "metadata": {
    "tags": []
   },
   "outputs": [],
   "source": [
    "# Import necessary packages\n",
    "import pandas as pd\n",
    "import numpy as np\n",
    "\n",
    "from sklearn.preprocessing import PowerTransformer\n",
    "from sklearn.compose import ColumnTransformer\n",
    "from sklearn.pipeline import Pipeline\n",
    "from sklearn.cluster import KMeans\n",
    "\n",
    "%matplotlib inline\n",
    "import matplotlib.pyplot as plt\n",
    "\n",
    "from IPython.display import display\n",
    "\n",
    "from utils import *"
   ]
  },
  {
   "cell_type": "markdown",
   "id": "58db147b-e135-4161-9a19-5fc039ceccaf",
   "metadata": {},
   "source": [
    "## Biến mục tiêu\n",
    "\n",
    "* Biến mục tiêu có phân phối không đều. Để khắc phục, trong quá trình huấn luyện ta sẽ đưa vào trọng số (class weight).\n",
    "* Biến mục tiêu đang được mã thành 2 loại:\n",
    "    - PIF = 'Paid in full' (Trả được nợ)\n",
    "    - CHGOFF = 'Charged off' (Không trả được nợ)\n",
    "* Tại bước chuẩn bị dữ liệu các loại này sẽ được chuyển thành mã 0 và 1 tương ứng."
   ]
  },
  {
   "cell_type": "code",
   "execution_count": 3,
   "id": "f26ad0c4-7a48-463b-855e-b69f049277a9",
   "metadata": {
    "tags": []
   },
   "outputs": [
    {
     "data": {
      "image/png": "[encoded data removed]",
      "text/plain": [
       "<Figure size 432x288 with 1 Axes>"
      ]
     },
     "metadata": {},
     "output_type": "display_data"
    }
   ],
   "source": [
    "counts = y_train.value_counts()\n",
    "plt.pie(counts,\n",
    "        startangle=90,\n",
    "        autopct='%.2f%%')\n",
    "\n",
    "plt.title('MIS_Status')\n",
    "plt.legend(counts.index)\n",
    "plt.show()"
   ]
  },
  {
   "cell_type": "markdown",
   "id": "a8a0fb7a-9db6-4262-acee-e02772639d9f",
   "metadata": {
    "tags": []
   },
   "source": [
    "## Biến giải thích\n",
    "\n",
    "Cùng xem qua dữ liệu:"
   ]
  },
  {
   "cell_type": "code",
   "execution_count": 4,
   "id": "53279d03-5c7f-48d7-be0f-de79650babca",
   "metadata": {
    "tags": []
   },
   "outputs": [
    {
     "data": {
      "text/html": [
       "<div>\n",
       "<style scoped>\n",
       "    .dataframe tbody tr th:only-of-type {\n",
       "        vertical-align: middle;\n",
       "    }\n",
       "\n",
       "    .dataframe tbody tr th {\n",
       "        vertical-align: top;\n",
       "    }\n",
       "\n",
       "    .dataframe thead th {\n",
       "        text-align: right;\n",
       "    }\n",
       "</style>\n",
       "<table border=\"1\" class=\"dataframe\">\n",
       "  <thead>\n",
       "    <tr style=\"text-align: right;\">\n",
       "      <th></th>\n",
       "      <th>LoanNr_ChkDgt</th>\n",
       "      <th>Name</th>\n",
       "      <th>City</th>\n",
       "      <th>State</th>\n",
       "      <th>Zip</th>\n",
       "      <th>Bank</th>\n",
       "      <th>BankState</th>\n",
       "      <th>NAICS</th>\n",
       "      <th>ApprovalDate</th>\n",
       "      <th>ApprovalFY</th>\n",
       "      <th>...</th>\n",
       "      <th>UrbanRural</th>\n",
       "      <th>RevLineCr</th>\n",
       "      <th>LowDoc</th>\n",
       "      <th>ChgOffDate</th>\n",
       "      <th>DisbursementDate</th>\n",
       "      <th>DisbursementGross</th>\n",
       "      <th>BalanceGross</th>\n",
       "      <th>ChgOffPrinGr</th>\n",
       "      <th>GrAppv</th>\n",
       "      <th>SBA_Appv</th>\n",
       "    </tr>\n",
       "  </thead>\n",
       "  <tbody>\n",
       "    <tr>\n",
       "      <th>192615</th>\n",
       "      <td>2362105004</td>\n",
       "      <td>NORM'S TRUCKING</td>\n",
       "      <td>LACONIA</td>\n",
       "      <td>NH</td>\n",
       "      <td>3246</td>\n",
       "      <td>CITIZENS BANK NATL ASSOC</td>\n",
       "      <td>RI</td>\n",
       "      <td>484121</td>\n",
       "      <td>29-Mar-07</td>\n",
       "      <td>2007</td>\n",
       "      <td>...</td>\n",
       "      <td>1</td>\n",
       "      <td>N</td>\n",
       "      <td>N</td>\n",
       "      <td>14-May-10</td>\n",
       "      <td>30-Apr-07</td>\n",
       "      <td>$14,000.00</td>\n",
       "      <td>$0.00</td>\n",
       "      <td>$13,060.00</td>\n",
       "      <td>$14,000.00</td>\n",
       "      <td>$7,000.00</td>\n",
       "    </tr>\n",
       "    <tr>\n",
       "      <th>610721</th>\n",
       "      <td>6068553004</td>\n",
       "      <td>A TO Z AUTOMOTIVE</td>\n",
       "      <td>WEST SENECA</td>\n",
       "      <td>NY</td>\n",
       "      <td>14227</td>\n",
       "      <td>KEYBANK NATIONAL ASSOCIATION</td>\n",
       "      <td>NY</td>\n",
       "      <td>811113</td>\n",
       "      <td>22-Nov-93</td>\n",
       "      <td>1994</td>\n",
       "      <td>...</td>\n",
       "      <td>0</td>\n",
       "      <td>N</td>\n",
       "      <td>N</td>\n",
       "      <td>NaN</td>\n",
       "      <td>30-Apr-94</td>\n",
       "      <td>$47,600.00</td>\n",
       "      <td>$0.00</td>\n",
       "      <td>$0.00</td>\n",
       "      <td>$47,600.00</td>\n",
       "      <td>$42,840.00</td>\n",
       "    </tr>\n",
       "    <tr>\n",
       "      <th>251037</th>\n",
       "      <td>2765544005</td>\n",
       "      <td>ARPI SERVICE</td>\n",
       "      <td>NORTH HILLS</td>\n",
       "      <td>CA</td>\n",
       "      <td>91343</td>\n",
       "      <td>FIRST PRIVATE BANK &amp; TRUST</td>\n",
       "      <td>CA</td>\n",
       "      <td>811412</td>\n",
       "      <td>5-Feb-99</td>\n",
       "      <td>1999</td>\n",
       "      <td>...</td>\n",
       "      <td>0</td>\n",
       "      <td>0</td>\n",
       "      <td>Y</td>\n",
       "      <td>NaN</td>\n",
       "      <td>31-Jan-00</td>\n",
       "      <td>$50,000.00</td>\n",
       "      <td>$0.00</td>\n",
       "      <td>$0.00</td>\n",
       "      <td>$50,000.00</td>\n",
       "      <td>$40,000.00</td>\n",
       "    </tr>\n",
       "    <tr>\n",
       "      <th>371681</th>\n",
       "      <td>3601755003</td>\n",
       "      <td>Albany Aqua Ducks, Inc.</td>\n",
       "      <td>ALBANY</td>\n",
       "      <td>NY</td>\n",
       "      <td>12201</td>\n",
       "      <td>KEYBANK NATIONAL ASSOCIATION</td>\n",
       "      <td>OH</td>\n",
       "      <td>487210</td>\n",
       "      <td>28-Aug-09</td>\n",
       "      <td>2009</td>\n",
       "      <td>...</td>\n",
       "      <td>1</td>\n",
       "      <td>N</td>\n",
       "      <td>N</td>\n",
       "      <td>NaN</td>\n",
       "      <td>1-Sep-09</td>\n",
       "      <td>$35,000.00</td>\n",
       "      <td>$0.00</td>\n",
       "      <td>$0.00</td>\n",
       "      <td>$35,000.00</td>\n",
       "      <td>$35,000.00</td>\n",
       "    </tr>\n",
       "    <tr>\n",
       "      <th>841893</th>\n",
       "      <td>9024854009</td>\n",
       "      <td>JEFFREY D JOHN &amp; COMPANY AN AC</td>\n",
       "      <td>SELMA</td>\n",
       "      <td>CA</td>\n",
       "      <td>93662</td>\n",
       "      <td>MUFG UNION BANK NATL ASSOC</td>\n",
       "      <td>CA</td>\n",
       "      <td>541211</td>\n",
       "      <td>4-Aug-05</td>\n",
       "      <td>2005</td>\n",
       "      <td>...</td>\n",
       "      <td>1</td>\n",
       "      <td>Y</td>\n",
       "      <td>N</td>\n",
       "      <td>NaN</td>\n",
       "      <td>31-Aug-05</td>\n",
       "      <td>$15,456.00</td>\n",
       "      <td>$0.00</td>\n",
       "      <td>$0.00</td>\n",
       "      <td>$10,000.00</td>\n",
       "      <td>$5,000.00</td>\n",
       "    </tr>\n",
       "  </tbody>\n",
       "</table>\n",
       "<p>5 rows × 26 columns</p>\n",
       "</div>"
      ],
      "text/plain": [
       "        LoanNr_ChkDgt                            Name         City State  \\\n",
       "192615     2362105004                 NORM'S TRUCKING      LACONIA    NH   \n",
       "610721     6068553004               A TO Z AUTOMOTIVE  WEST SENECA    NY   \n",
       "251037     2765544005                    ARPI SERVICE  NORTH HILLS    CA   \n",
       "371681     3601755003         Albany Aqua Ducks, Inc.       ALBANY    NY   \n",
       "841893     9024854009  JEFFREY D JOHN & COMPANY AN AC        SELMA    CA   \n",
       "\n",
       "          Zip                          Bank BankState   NAICS ApprovalDate  \\\n",
       "192615   3246      CITIZENS BANK NATL ASSOC        RI  484121    29-Mar-07   \n",
       "610721  14227  KEYBANK NATIONAL ASSOCIATION        NY  811113    22-Nov-93   \n",
       "251037  91343    FIRST PRIVATE BANK & TRUST        CA  811412     5-Feb-99   \n",
       "371681  12201  KEYBANK NATIONAL ASSOCIATION        OH  487210    28-Aug-09   \n",
       "841893  93662    MUFG UNION BANK NATL ASSOC        CA  541211     4-Aug-05   \n",
       "\n",
       "       ApprovalFY  ...  UrbanRural  RevLineCr  LowDoc  ChgOffDate  \\\n",
       "192615       2007  ...           1          N       N   14-May-10   \n",
       "610721       1994  ...           0          N       N         NaN   \n",
       "251037       1999  ...           0          0       Y         NaN   \n",
       "371681       2009  ...           1          N       N         NaN   \n",
       "841893       2005  ...           1          Y       N         NaN   \n",
       "\n",
       "        DisbursementDate  DisbursementGross  BalanceGross ChgOffPrinGr  \\\n",
       "192615         30-Apr-07        $14,000.00         $0.00   $13,060.00    \n",
       "610721         30-Apr-94        $47,600.00         $0.00        $0.00    \n",
       "251037         31-Jan-00        $50,000.00         $0.00        $0.00    \n",
       "371681          1-Sep-09        $35,000.00         $0.00        $0.00    \n",
       "841893         31-Aug-05        $15,456.00         $0.00        $0.00    \n",
       "\n",
       "             GrAppv     SBA_Appv  \n",
       "192615  $14,000.00    $7,000.00   \n",
       "610721  $47,600.00   $42,840.00   \n",
       "251037  $50,000.00   $40,000.00   \n",
       "371681  $35,000.00   $35,000.00   \n",
       "841893  $10,000.00    $5,000.00   \n",
       "\n",
       "[5 rows x 26 columns]"
      ]
     },
     "execution_count": 4,
     "metadata": {},
     "output_type": "execute_result"
    }
   ],
   "source": [
    "x_train.head()"
   ]
  },
  {
   "cell_type": "code",
   "execution_count": 5,
   "id": "6103e581",
   "metadata": {
    "tags": []
   },
   "outputs": [
    {
     "data": {
      "text/html": [
       "<div>\n",
       "<style scoped>\n",
       "    .dataframe tbody tr th:only-of-type {\n",
       "        vertical-align: middle;\n",
       "    }\n",
       "\n",
       "    .dataframe tbody tr th {\n",
       "        vertical-align: top;\n",
       "    }\n",
       "\n",
       "    .dataframe thead th {\n",
       "        text-align: right;\n",
       "    }\n",
       "</style>\n",
       "<table border=\"1\" class=\"dataframe\">\n",
       "  <thead>\n",
       "    <tr style=\"text-align: right;\">\n",
       "      <th></th>\n",
       "      <th>Column</th>\n",
       "      <th>Count</th>\n",
       "      <th>Null count</th>\n",
       "      <th>Num unique</th>\n",
       "      <th>Type</th>\n",
       "    </tr>\n",
       "  </thead>\n",
       "  <tbody>\n",
       "    <tr>\n",
       "      <th>0</th>\n",
       "      <td>LoanNr_ChkDgt</td>\n",
       "      <td>807450</td>\n",
       "      <td>0</td>\n",
       "      <td>807450</td>\n",
       "      <td>int64</td>\n",
       "    </tr>\n",
       "    <tr>\n",
       "      <th>1</th>\n",
       "      <td>Name</td>\n",
       "      <td>807437</td>\n",
       "      <td>13</td>\n",
       "      <td>707545</td>\n",
       "      <td>object</td>\n",
       "    </tr>\n",
       "    <tr>\n",
       "      <th>2</th>\n",
       "      <td>City</td>\n",
       "      <td>807422</td>\n",
       "      <td>28</td>\n",
       "      <td>31266</td>\n",
       "      <td>object</td>\n",
       "    </tr>\n",
       "    <tr>\n",
       "      <th>3</th>\n",
       "      <td>State</td>\n",
       "      <td>807437</td>\n",
       "      <td>13</td>\n",
       "      <td>51</td>\n",
       "      <td>object</td>\n",
       "    </tr>\n",
       "    <tr>\n",
       "      <th>4</th>\n",
       "      <td>Zip</td>\n",
       "      <td>807450</td>\n",
       "      <td>0</td>\n",
       "      <td>32747</td>\n",
       "      <td>int64</td>\n",
       "    </tr>\n",
       "    <tr>\n",
       "      <th>5</th>\n",
       "      <td>Bank</td>\n",
       "      <td>806082</td>\n",
       "      <td>1368</td>\n",
       "      <td>5697</td>\n",
       "      <td>object</td>\n",
       "    </tr>\n",
       "    <tr>\n",
       "      <th>6</th>\n",
       "      <td>BankState</td>\n",
       "      <td>806075</td>\n",
       "      <td>1375</td>\n",
       "      <td>56</td>\n",
       "      <td>object</td>\n",
       "    </tr>\n",
       "    <tr>\n",
       "      <th>7</th>\n",
       "      <td>NAICS</td>\n",
       "      <td>807450</td>\n",
       "      <td>0</td>\n",
       "      <td>1306</td>\n",
       "      <td>int64</td>\n",
       "    </tr>\n",
       "    <tr>\n",
       "      <th>8</th>\n",
       "      <td>ApprovalDate</td>\n",
       "      <td>807450</td>\n",
       "      <td>0</td>\n",
       "      <td>9740</td>\n",
       "      <td>object</td>\n",
       "    </tr>\n",
       "    <tr>\n",
       "      <th>9</th>\n",
       "      <td>ApprovalFY</td>\n",
       "      <td>807450</td>\n",
       "      <td>0</td>\n",
       "      <td>65</td>\n",
       "      <td>object</td>\n",
       "    </tr>\n",
       "    <tr>\n",
       "      <th>10</th>\n",
       "      <td>Term</td>\n",
       "      <td>807450</td>\n",
       "      <td>0</td>\n",
       "      <td>408</td>\n",
       "      <td>int64</td>\n",
       "    </tr>\n",
       "    <tr>\n",
       "      <th>11</th>\n",
       "      <td>NoEmp</td>\n",
       "      <td>807450</td>\n",
       "      <td>0</td>\n",
       "      <td>573</td>\n",
       "      <td>int64</td>\n",
       "    </tr>\n",
       "    <tr>\n",
       "      <th>12</th>\n",
       "      <td>NewExist</td>\n",
       "      <td>807330</td>\n",
       "      <td>120</td>\n",
       "      <td>3</td>\n",
       "      <td>float64</td>\n",
       "    </tr>\n",
       "    <tr>\n",
       "      <th>13</th>\n",
       "      <td>CreateJob</td>\n",
       "      <td>807450</td>\n",
       "      <td>0</td>\n",
       "      <td>230</td>\n",
       "      <td>int64</td>\n",
       "    </tr>\n",
       "    <tr>\n",
       "      <th>14</th>\n",
       "      <td>RetainedJob</td>\n",
       "      <td>807450</td>\n",
       "      <td>0</td>\n",
       "      <td>349</td>\n",
       "      <td>int64</td>\n",
       "    </tr>\n",
       "    <tr>\n",
       "      <th>15</th>\n",
       "      <td>FranchiseCode</td>\n",
       "      <td>807450</td>\n",
       "      <td>0</td>\n",
       "      <td>2667</td>\n",
       "      <td>int64</td>\n",
       "    </tr>\n",
       "    <tr>\n",
       "      <th>16</th>\n",
       "      <td>UrbanRural</td>\n",
       "      <td>807450</td>\n",
       "      <td>0</td>\n",
       "      <td>3</td>\n",
       "      <td>int64</td>\n",
       "    </tr>\n",
       "    <tr>\n",
       "      <th>17</th>\n",
       "      <td>RevLineCr</td>\n",
       "      <td>803376</td>\n",
       "      <td>4074</td>\n",
       "      <td>17</td>\n",
       "      <td>object</td>\n",
       "    </tr>\n",
       "    <tr>\n",
       "      <th>18</th>\n",
       "      <td>LowDoc</td>\n",
       "      <td>805148</td>\n",
       "      <td>2302</td>\n",
       "      <td>7</td>\n",
       "      <td>object</td>\n",
       "    </tr>\n",
       "    <tr>\n",
       "      <th>19</th>\n",
       "      <td>ChgOffDate</td>\n",
       "      <td>146204</td>\n",
       "      <td>661246</td>\n",
       "      <td>6358</td>\n",
       "      <td>object</td>\n",
       "    </tr>\n",
       "    <tr>\n",
       "      <th>20</th>\n",
       "      <td>DisbursementDate</td>\n",
       "      <td>805472</td>\n",
       "      <td>1978</td>\n",
       "      <td>8201</td>\n",
       "      <td>object</td>\n",
       "    </tr>\n",
       "    <tr>\n",
       "      <th>21</th>\n",
       "      <td>DisbursementGross</td>\n",
       "      <td>807450</td>\n",
       "      <td>0</td>\n",
       "      <td>110085</td>\n",
       "      <td>object</td>\n",
       "    </tr>\n",
       "    <tr>\n",
       "      <th>22</th>\n",
       "      <td>BalanceGross</td>\n",
       "      <td>807450</td>\n",
       "      <td>0</td>\n",
       "      <td>13</td>\n",
       "      <td>object</td>\n",
       "    </tr>\n",
       "    <tr>\n",
       "      <th>23</th>\n",
       "      <td>ChgOffPrinGr</td>\n",
       "      <td>807450</td>\n",
       "      <td>0</td>\n",
       "      <td>77779</td>\n",
       "      <td>object</td>\n",
       "    </tr>\n",
       "    <tr>\n",
       "      <th>24</th>\n",
       "      <td>GrAppv</td>\n",
       "      <td>807450</td>\n",
       "      <td>0</td>\n",
       "      <td>20694</td>\n",
       "      <td>object</td>\n",
       "    </tr>\n",
       "    <tr>\n",
       "      <th>25</th>\n",
       "      <td>SBA_Appv</td>\n",
       "      <td>807450</td>\n",
       "      <td>0</td>\n",
       "      <td>35925</td>\n",
       "      <td>object</td>\n",
       "    </tr>\n",
       "  </tbody>\n",
       "</table>\n",
       "</div>"
      ],
      "text/plain": [
       "               Column   Count  Null count  Num unique     Type\n",
       "0       LoanNr_ChkDgt  807450           0      807450    int64\n",
       "1                Name  807437          13      707545   object\n",
       "2                City  807422          28       31266   object\n",
       "3               State  807437          13          51   object\n",
       "4                 Zip  807450           0       32747    int64\n",
       "5                Bank  806082        1368        5697   object\n",
       "6           BankState  806075        1375          56   object\n",
       "7               NAICS  807450           0        1306    int64\n",
       "8        ApprovalDate  807450           0        9740   object\n",
       "9          ApprovalFY  807450           0          65   object\n",
       "10               Term  807450           0         408    int64\n",
       "11              NoEmp  807450           0         573    int64\n",
       "12           NewExist  807330         120           3  float64\n",
       "13          CreateJob  807450           0         230    int64\n",
       "14        RetainedJob  807450           0         349    int64\n",
       "15      FranchiseCode  807450           0        2667    int64\n",
       "16         UrbanRural  807450           0           3    int64\n",
       "17          RevLineCr  803376        4074          17   object\n",
       "18             LowDoc  805148        2302           7   object\n",
       "19         ChgOffDate  146204      661246        6358   object\n",
       "20   DisbursementDate  805472        1978        8201   object\n",
       "21  DisbursementGross  807450           0      110085   object\n",
       "22       BalanceGross  807450           0          13   object\n",
       "23       ChgOffPrinGr  807450           0       77779   object\n",
       "24             GrAppv  807450           0       20694   object\n",
       "25           SBA_Appv  807450           0       35925   object"
      ]
     },
     "metadata": {},
     "output_type": "display_data"
    }
   ],
   "source": [
    "get_df_info(x_train)"
   ]
  },
  {
   "cell_type": "markdown",
   "id": "928de89c-7db3-4ce4-96c6-6badf4041edc",
   "metadata": {},
   "source": [
    "### DisbursementGross, GrAppv, SBA_Appv (số tiền giải ngân, số tiền phê duyệt, số tiền SBA bảo lãnh)\n",
    "\n",
    "* Dữ liệu dưới dạng chuỗi (ví dụ: $10,000.00) cần được chuyển thành float.\n",
    "* Các phân phối đều lệch phải. Thực hiện biến đổi Box-Cox, qua biểu đồ trực quan hoá có thể thấy các khoản vay PIF có số tiền lớn hơn khoản vay CHGOFF.\n",
    "* Nhìn biểu đồ phân tán có thể thấy 3 biến này có quan hệ tuyến tính rõ với nhau. Do đó ta chỉ chọn 1 trong 3 biến để đưa vào huấn luyện."
   ]
  },
  {
   "cell_type": "code",
   "execution_count": 4,
   "id": "57a33dcb-aa3a-406c-889a-bb89e1fc3d01",
   "metadata": {
    "tags": []
   },
   "outputs": [
    {
     "data": {
      "image/png": "[encoded data removed]",
      "text/plain": [
       "<Figure size 1080x288 with 3 Axes>"
      ]
     },
     "metadata": {
      "needs_background": "light"
     },
     "output_type": "display_data"
    },
    {
     "data": {
      "image/png": "[encoded data removed]",
      "text/plain": [
       "<Figure size 1080x288 with 3 Axes>"
      ]
     },
     "metadata": {
      "needs_background": "light"
     },
     "output_type": "display_data"
    },
    {
     "data": {
      "image/png": "[encoded data removed]",
      "text/plain": [
       "<Figure size 1080x288 with 3 Axes>"
      ]
     },
     "metadata": {
      "needs_background": "light"
     },
     "output_type": "display_data"
    }
   ],
   "source": [
    "cols = ['DisbursementGross', 'GrAppv', 'SBA_Appv']\n",
    "\n",
    "original_amounts = amount_value(x_train[cols])\n",
    "\n",
    "box_cox_transformer = PowerTransformer(method='box-cox', standardize=False)\n",
    "transformed_amounts = pd.DataFrame(box_cox_transformer.fit_transform(original_amounts),\n",
    "                                   index=original_amounts.index,\n",
    "                                   columns=cols)\n",
    "\n",
    "for feature in cols:\n",
    "    plot_hist_and_box_plot(original_amounts[feature],\n",
    "                           transformed_amounts[feature],\n",
    "                           y_train)\n",
    "\n",
    "plt.show()"
   ]
  },
  {
   "cell_type": "code",
   "execution_count": 10,
   "id": "14fa0232-6837-4cfd-b069-413054ec33d1",
   "metadata": {
    "tags": []
   },
   "outputs": [
    {
     "data": {
      "image/png": "[encoded data removed]",
      "text/plain": [
       "<Figure size 432x288 with 1 Axes>"
      ]
     },
     "metadata": {
      "needs_background": "light"
     },
     "output_type": "display_data"
    },
    {
     "data": {
      "image/png": "[encoded data removed]",
      "text/plain": [
       "<Figure size 432x288 with 1 Axes>"
      ]
     },
     "metadata": {
      "needs_background": "light"
     },
     "output_type": "display_data"
    },
    {
     "data": {
      "image/png": "[encoded data removed]",
      "text/plain": [
       "<Figure size 432x288 with 1 Axes>"
      ]
     },
     "metadata": {
      "needs_background": "light"
     },
     "output_type": "display_data"
    }
   ],
   "source": [
    "pairs = [('DisbursementGross', 'GrAppv'),\n",
    "         ('DisbursementGross', 'SBA_Appv'),\n",
    "         ('GrAppv', 'SBA_Appv')]\n",
    "\n",
    "corr_mat = transformed_amounts.corr()\n",
    "\n",
    "for f1, f2 in pairs:\n",
    "    plt.scatter(transformed_amounts[f1],\n",
    "                transformed_amounts[f2],\n",
    "                s=10.0,\n",
    "                alpha=0.5)\n",
    "    plt.title(f'{f2} by {f1} - R2: {corr_mat.loc[f1, f2]:.3f}')\n",
    "    plt.xlabel(f1)\n",
    "    plt.ylabel(f2)\n",
    "    plt.show()"
   ]
  },
  {
   "cell_type": "markdown",
   "id": "ea6c032d-0273-4436-83f3-f1d1dce916bf",
   "metadata": {},
   "source": [
    "### SBA_Appv_portion (tỷ lệ bảo lãnh của SBA)\n",
    "\n",
    "Khi loại bỏ GrAppv và SBA_Appv và thay thế bằng tỷ lệ SBA_Appv / GrAppv thì biến mới này có khả năng giải thích kết quả CHGOFF / PIF. Lý lẽ là khi SBA đánh giá khoản vay có khả năng trả được nợ thì mới chấp nhận tỷ lệ bảo lãnh cao và ngược lại."
   ]
  },
  {
   "cell_type": "code",
   "execution_count": 5,
   "id": "6379bea9-7ae2-4128-b3e6-659f2a9547d5",
   "metadata": {
    "tags": []
   },
   "outputs": [
    {
     "data": {
      "image/png": "[encoded data removed]",
      "text/plain": [
       "<Figure size 432x288 with 1 Axes>"
      ]
     },
     "metadata": {
      "needs_background": "light"
     },
     "output_type": "display_data"
    }
   ],
   "source": [
    "sba_appv_portions = original_amounts['SBA_Appv'] / original_amounts['GrAppv']\n",
    "sba_appv_portions.name = 'SBA_Appv_Portion'\n",
    "plot_box(sba_appv_portions, y_train)\n",
    "plt.show()"
   ]
  },
  {
   "cell_type": "markdown",
   "id": "44c26a05-8915-4eab-9387-d3a97d61cc73",
   "metadata": {},
   "source": [
    "### BalanceGross, ChgOffPrinGr (Dư nợ, Dư nợ không trả được)\n",
    "\n",
    "* Với mục tiêu xác định có trả được nợ hay không chỉ cần căn cứ vào MIS_Status và có thể bỏ qua ChgOffPrinGr.\n",
    "* Phần lớn BalanceGross bằng 0 do KH đã trả hết nợ hoặc chuyển thành nợ không trả được do đó cũng có thể bỏ qua."
   ]
  },
  {
   "cell_type": "code",
   "execution_count": 6,
   "id": "bf8577c6-11a3-48e1-b39b-919af29a682b",
   "metadata": {
    "tags": []
   },
   "outputs": [
    {
     "name": "stdout",
     "output_type": "stream",
     "text": [
      "BalanceGross counts:\n"
     ]
    },
    {
     "data": {
      "text/plain": [
       "$0.00           807438\n",
       "$96,908.00           1\n",
       "$84,617.00           1\n",
       "$43,127.00           1\n",
       "$9,111.00            1\n",
       "$12,750.00           1\n",
       "$41,509.00           1\n",
       "$37,100.00           1\n",
       "$25,000.00           1\n",
       "$996,262.00          1\n",
       "$600.00              1\n",
       "$827,875.00          1\n",
       "$395,476.00          1\n",
       "Name: BalanceGross, dtype: int64"
      ]
     },
     "execution_count": 6,
     "metadata": {},
     "output_type": "execute_result"
    }
   ],
   "source": [
    "print('BalanceGross counts:')\n",
    "x_train['BalanceGross'].value_counts()"
   ]
  },
  {
   "cell_type": "markdown",
   "id": "bce18ef8-8d43-46fd-b4b2-d6ea8fb6f16b",
   "metadata": {},
   "source": [
    "### DisbursementDate (ngày giải ngân)\n",
    "\n",
    "* Dataset bao gồm dữ liệu giải ngân từ 1987 đến năm 2014. Định dạng dưới dạng chuỗi (ví dụ 3-Jun-89) cần được chuyển đổi thành datetime.\n",
    "* Có một số ngày giải ngân trước 1987 và sau 2014. Do số lượng là ít so với số lượng quan sát nên ta có thể bỏ qua không cần làm sạch.\n",
    "* Có gần 2.000 trường hợp thiếu dữ liệu trước khi huấn luyện có thể sử dụng ngày phê duyệt (ApprovalDate) để thay thế."
   ]
  },
  {
   "cell_type": "code",
   "execution_count": 7,
   "id": "9eb75073-fd27-4c80-98a3-27e0dbce2d30",
   "metadata": {},
   "outputs": [
    {
     "name": "stdout",
     "output_type": "stream",
     "text": [
      "Converted DisbursementDate:\n"
     ]
    },
    {
     "data": {
      "text/plain": [
       "54648    1948-09-17\n",
       "49244    1966-08-16\n",
       "697801   1968-03-19\n",
       "732056   1968-11-22\n",
       "726149   1969-05-22\n",
       "            ...    \n",
       "669507   2014-06-30\n",
       "498326   2014-07-05\n",
       "402166   2014-07-30\n",
       "709337   2014-12-31\n",
       "379815   2020-04-14\n",
       "Name: DisbursementDate, Length: 805472, dtype: datetime64[ns]"
      ]
     },
     "execution_count": 7,
     "metadata": {},
     "output_type": "execute_result"
    }
   ],
   "source": [
    "date_df = date_value(x_train[['DisbursementDate']], max_year=2020)\n",
    "print('Converted DisbursementDate:')\n",
    "date_df['DisbursementDate'].dropna().sort_values()"
   ]
  },
  {
   "cell_type": "markdown",
   "id": "0d89172b-5282-4959-bdee-569298067979",
   "metadata": {},
   "source": [
    "### Term (kỳ hạn)\n",
    "\n",
    "Kỳ hạn vay không bị thiếu dữ liệu. Tuy nhiên có khoảng 700 trường hợp có kỳ hạn bằng 0. Trong đó đa số trường hợp trước khi huấn luyện có thể sử dụng ngày Charged off để tính (kỳ hạn = ngày charged off - ngày giải ngân). Các trường hợp còn lại: gán giá trị mode."
   ]
  },
  {
   "cell_type": "code",
   "execution_count": 9,
   "id": "7fbfd71c-62b8-4b8f-a5ec-6fa313a3827b",
   "metadata": {
    "tags": []
   },
   "outputs": [
    {
     "name": "stdout",
     "output_type": "stream",
     "text": [
      "Zero Term counts:\n"
     ]
    },
    {
     "data": {
      "text/plain": [
       "False    806727\n",
       "True        723\n",
       "Name: Term, dtype: int64"
      ]
     },
     "execution_count": 9,
     "metadata": {},
     "output_type": "execute_result"
    }
   ],
   "source": [
    "print('Zero Term counts:')\n",
    "(x_train['Term']==0).value_counts()"
   ]
  },
  {
   "cell_type": "markdown",
   "id": "4c05d749-ab01-4c4a-a844-b4a42b103de9",
   "metadata": {
    "tags": []
   },
   "source": [
    "### Recession (suy thoái kinh tế)\n",
    "\n",
    "* Các khoản vay có trải qua giai đoạn suy thoái kinh tế (tháng 12/2007 đến tháng 6/2009) có tỷ lệ CHGOFF cao hơn các giai đoạn khác. Đây là biến được tạo ra để đưa vào huấn luyện (https://en.wikipedia.org/wiki/Great_Recession)\n",
    "* Điều kiện xác định khoản vay trải qua giai đoạn suy thoái kinh tế:\n",
    "    + Ngày hết hạn từ 01/12/2007\n",
    "    + Ngày hết hạn đến 30/06/2009\n",
    "    + Trong đó Ngày hết hạn = ngày bắt đầu + kỳ hạn\n",
    "* Đối với các khoản vay thiếu ngày giải ngân, gán ngày hết hạn bằng ngày charged off"
   ]
  },
  {
   "cell_type": "code",
   "execution_count": 10,
   "id": "4960b8b7-99be-417f-b852-2cb779c4dd92",
   "metadata": {
    "tags": []
   },
   "outputs": [
    {
     "name": "stderr",
     "output_type": "stream",
     "text": [
      "d:\\dev\\dsp305x\\lib\\site-packages\\pandas\\core\\arrays\\datetimelike.py:1187: PerformanceWarning: Adding/subtracting object-dtype array to DatetimeArray not vectorized\n",
      "  warnings.warn(\n"
     ]
    },
    {
     "data": {
      "image/png": "[encoded data removed]",
      "text/plain": [
       "<Figure size 432x288 with 1 Axes>"
      ]
     },
     "metadata": {
      "needs_background": "light"
     },
     "output_type": "display_data"
    }
   ],
   "source": [
    "recession = maturity_date_is_between(date_df['DisbursementDate'],\n",
    "                                     x_train['Term'],\n",
    "                                     '2007-12-01',\n",
    "                                     '2009-06-30')\n",
    "recession.name = 'Recession'\n",
    "\n",
    "counts = x_train.pivot_table(index=y_train,\n",
    "                             columns=recession,\n",
    "                             values='LoanNr_ChkDgt',\n",
    "                             aggfunc='count')\n",
    "portions = counts / counts.sum()\n",
    "plot_stacked_bars(portions)"
   ]
  },
  {
   "cell_type": "markdown",
   "id": "c07278c1-9fa0-43bd-8054-9d0ec45a9ecd",
   "metadata": {
    "tags": []
   },
   "source": [
    "### City, State, Zip (thành phố, bang, zip code)\n",
    "\n",
    "* Số bang = 51 có vẻ là giá trị đúng (50 bang + Washington DC), số thành phố, Zip code có hơn 30.000 quan sát.\n",
    "* Với 13 trường hợp thiếu dữ liệu có thể suy luận từ mã Zip\n",
    "* Các biến này đều thể hiện địa điểm của Khách hàng. Để giảm số lượng nhóm ta sẽ chọn bang (State) để đưa vào huấn luyện.\n",
    "* Luận điểm ở đây: Mỗi bang ở nước Mỹ có 1 hệ thống pháp luật, môi trường kinh doanh, cơ cấu kinh tế khác nhau do đó có thể có tỷ lệ CHGOFF khác nhau. Ta có thể kiểm chứng qua việc vẽ biểu đồ trực quan hoá.\n",
    "* Bằng cách sử dụng phân cụm KMeans ta có thể chia các bang thành 5 nhóm (rất thấp, thấp, trung bình, cao, rất cao) theo tỷ lệ CHGOFF trong giai đoạn không suy thoái.\n",
    "* Vì phần lớn các bang đều có tỷ lệ CHGOFF tăng trong thời kỳ suy thoái. Tuy nhiên mức độ tăng là khác nhau giữa các bang (Như các bang CO, OR, OH tăng mạnh). Do đó ta có thể đưa vào mô hình thêm thuộc tính: tỷ lệ CHGOFF tăng trong giai đoạn suy thoái (rất thấp, thấp, trung bình, cao, rất cao). Việc chia nhóm cũng được thực hiện bằng phân cụm Kmeans. \n",
    "* Một số lượng lớn Khách hàng trong tập dữ liệu tập trung ở một số bang: CA (gần 200.000), TX (khoảng 60.000), NY (hơn 40.000)."
   ]
  },
  {
   "cell_type": "code",
   "execution_count": null,
   "id": "a4cc8faf-ad19-4f4d-a41c-47d9ca87d314",
   "metadata": {
    "tags": []
   },
   "outputs": [],
   "source": [
    "state_no_recession = chgoff_rate_by_feature(x_train.loc[~recession, 'State'], y_train[~recession])\n",
    "state_recession = chgoff_rate_by_feature(x_train.loc[recession, 'State'], y_train[recession])\n",
    "vmin = min(state_recession.min(), state_no_recession.min())\n",
    "vmax = max(state_recession.max(), state_no_recession.max())\n",
    "\n",
    "plot_geospartial(state_no_recession,\n",
    "                 (12, 8),\n",
    "                 cmap='OrRd',\n",
    "                 title=f'CHGOFF rate by State (no recession)',\n",
    "                 vmin=vmin,\n",
    "                 vmax=vmax)\n",
    "\n",
    "plot_geospartial(state_recession,\n",
    "                 (12, 8),\n",
    "                 cmap='OrRd',\n",
    "                 title=f'CHGOFF rate by State (recession)',\n",
    "                 vmin=vmin,\n",
    "                 vmax=vmax)\n",
    "\n",
    "recession_increase = (state_recession - state_no_recession) / state_no_recession\n",
    "plot_geospartial(recession_increase,\n",
    "                 (12, 8),\n",
    "                 cmap='OrRd',\n",
    "                 title=f'CHGOFF rate by Recession increase')\n",
    "\n",
    "plt.show()"
   ]
  },
  {
   "cell_type": "code",
   "execution_count": null,
   "id": "be752d90-00a2-4c22-b13e-9820c897ae0b",
   "metadata": {
    "tags": []
   },
   "outputs": [],
   "source": [
    "model = KMeans(n_clusters=5)\n",
    "state_clusters = find_clusters(model, state_no_recession, 'State')\n",
    "print('State clusters:')\n",
    "print(state_clusters)\n",
    "print()\n",
    "state_increase_clusters = find_clusters(model, recession_increase, 'State')\n",
    "print('State clusters by recession increase:')\n",
    "print(state_increase_clusters)"
   ]
  },
  {
   "cell_type": "code",
   "execution_count": null,
   "id": "b0e024ca-97af-4363-b624-6bdc72c3e056",
   "metadata": {
    "jupyter": {
     "source_hidden": true
    },
    "tags": []
   },
   "outputs": [],
   "source": [
    "plot_geospartial(x_train['State'].value_counts(),\n",
    "                 (12, 8),\n",
    "                 cmap='OrRd',\n",
    "                 title='Customer number by State',\n",
    "                 vmax=200_000,\n",
    "                 vmin=0)\n",
    "plt.show()"
   ]
  },
  {
   "cell_type": "markdown",
   "id": "62c175bd-6827-4b0c-9df0-3dff9f2a7846",
   "metadata": {},
   "source": [
    "### Bank, BankState (ngân hàng, bang của ngân hàng)\n",
    "\n",
    "* Có 56 kiểu giá trị do tại cột này liệt kê cả các lãnh thổ không phải là bang như: Guam, Puerto Rico, Vigin Island...\n",
    "* Vì số lượng ngân hàng lớn (trên 5.000) do đó ta cũng chỉ chọn bang của ngân hàng để phân tích.\n",
    "* Khi đếm số lượng Khách hàng có thể thấy hiện tượng các ngân hàng cho vay ngoài bang của mình. Ví dụ:\n",
    "    1. Số Khách hàng ở NC thấp nhưng các ngân hàng ở bang này lại cho vay nhiều khách hàng hơn\n",
    "    2. Số Khách hàng ở CA cao nhưng các ngân hàng ở bang này lại cho vay ít khách hàng hơn\n",
    "* Biểu đồ trực quan hoá cho thấy các trường hợp cho vay ngoài bang có xu hướng tỷ lệ CHGOFF cao hơn là cho vay trong bang."
   ]
  },
  {
   "cell_type": "code",
   "execution_count": null,
   "id": "4b968ab9-d92b-48f1-b05f-74e0be4e794c",
   "metadata": {
    "tags": []
   },
   "outputs": [],
   "source": [
    "territories = set(x_train['BankState'].unique()) - set(x_train['State'].unique())\n",
    "print('BankState territories:', territories)"
   ]
  },
  {
   "cell_type": "code",
   "execution_count": null,
   "id": "e19a0873-b2da-4897-8f24-ce307abc8f1e",
   "metadata": {
    "tags": []
   },
   "outputs": [],
   "source": [
    "plot_geospartial(x_train['BankState'].value_counts(),\n",
    "                 (12, 8),\n",
    "                 cmap='OrRd',\n",
    "                 title='Customer number by BankState',\n",
    "                 vmax=200_000,\n",
    "                 vmin=0)\n",
    "plt.show()"
   ]
  },
  {
   "cell_type": "code",
   "execution_count": null,
   "id": "623d8031-aa63-43e4-9f57-8cdc6f796453",
   "metadata": {
    "tags": []
   },
   "outputs": [],
   "source": [
    "out_of_state_cond = x_train['State'] != x_train['BankState']\n",
    "x_State_df = pd.concat([x_train['BankState'], y_train], axis='columns')\n",
    "x_State_df['outState'] = 'in State'\n",
    "x_State_df.loc[out_of_state_cond, 'outState'] = 'out State'\n",
    "total_case = x_State_df.pivot_table(index='BankState',\n",
    "                                    columns='outState',\n",
    "                                    values='MIS_Status',\n",
    "                                    aggfunc='count',\n",
    "                                    fill_value=0.0)\n",
    "\n",
    "chgoff_cond = x_State_df['MIS_Status']=='CHGOFF'\n",
    "chgoff = x_State_df[chgoff_cond].pivot_table(index='BankState',\n",
    "                                             columns='outState',\n",
    "                                             values='MIS_Status',\n",
    "                                             aggfunc='count',\n",
    "                                             fill_value=0.0)\n",
    "\n",
    "out_State_df = chgoff.reindex_like(total_case).fillna(0.0) / total_case\n",
    "out_State_df = out_State_df.fillna(0)\n",
    "\n",
    "plt.boxplot([out_State_df['in State'],\n",
    "             out_State_df['out State']])\n",
    "plt.xticks([1, 2], ['in State', 'out State'])\n",
    "plt.title('CHGOFF rate by in/out State')\n",
    "plt.show()"
   ]
  },
  {
   "cell_type": "markdown",
   "id": "09d270d9-a71d-4457-ba8b-4fea506ff4b9",
   "metadata": {
    "tags": []
   },
   "source": [
    "### NAICS (mã ngành)\n",
    "\n",
    "* Có hơn 180.000 trường hợp thiếu dữ liệu mã ngành (=0).\n",
    "* 2 ký tự đầu cột này được code từ 11 - 92 cho mỗi ngành/ nhóm ngành, tổng cộng 24 loại theo bảng tham số naics.csv.\n",
    "* Các ngành khác nhau có mức độ rủi ro khác nhau có tỷ lệ CHGOFF sẽ khác nhau.\n",
    "* Bằng cách sử dụng phân cụm KMeans ta có thể chia các ngành thành 5 nhóm (rất thấp, thấp, trung bình, cao, rất cao) theo tỷ lệ CHGOFF trong giai đoạn không suy thoái.\n",
    "* Hầu hết các ngành đều có tỷ lệ CHGOFF tăng trong thời kỳ suy thoái. Tuy nhiên mức độ tăng là khác nhau giữa các ngành (Public Administration có tỷ lệ CGH. Do đó ta có thể đưa vào mô hình thêm thuộc tính: tỷ lệ CHGOFF tăng trong giai đoạn suy thoái (thấp, trung bình, cao). Việc chia nhóm cũng được thực hiện bằng phân cụm Kmeans.\n"
   ]
  },
  {
   "cell_type": "code",
   "execution_count": null,
   "id": "9a801f69-648d-404b-bf4b-abe69487fe1c",
   "metadata": {
    "tags": []
   },
   "outputs": [],
   "source": [
    "naics_dict = pd.read_csv('data/naics.csv', index_col=0).to_dict()['Description']\n",
    "print('NAICS Codes:')\n",
    "naics_dict"
   ]
  },
  {
   "cell_type": "code",
   "execution_count": null,
   "id": "ff1be289-a1e5-483a-a989-ff307a79dcff",
   "metadata": {
    "tags": []
   },
   "outputs": [],
   "source": [
    "def transform(x):\n",
    "    return int(str(x)[:2])\n",
    "    \n",
    "naics_no_recession = chgoff_rate_by_feature(x_train.loc[~recession, 'NAICS'].map(transform),\n",
    "                                            y_train[~recession])\n",
    "naics_recession = chgoff_rate_by_feature(x_train.loc[recession, 'NAICS'].map(transform),\n",
    "                                         y_train[recession])\n",
    "\n",
    "naics_df = pd.concat([naics_no_recession,\n",
    "                      naics_recession],\n",
    "                     axis='columns')\n",
    "naics_df.index = naics_df.index.map(naics_dict).fillna('Missing')\n",
    "naics_df.columns = ['No recession', 'Recession']\n",
    "naics_df = naics_df.sort_values('No recession')\n",
    "y = np.arange(naics_df.shape[0])\n",
    "plt.figure(figsize=(8, 16))\n",
    "plt.barh(y - 0.2, naics_df['No recession'], height=0.4)\n",
    "plt.barh(y + 0.2, naics_df['Recession'], height=0.4)\n",
    "plt.yticks(y, naics_df.index)\n",
    "plt.title('CHGOFF rate by NAICS')\n",
    "plt.legend(['No recession', 'Recession'])\n",
    "plt.show()"
   ]
  },
  {
   "cell_type": "code",
   "execution_count": null,
   "id": "1055e1e4-d6bc-4b2d-91cf-31c863ca80b6",
   "metadata": {},
   "outputs": [],
   "source": [
    "model = KMeans(n_clusters=5)\n",
    "naics_clusters = find_clusters(model, naics_no_recession, 'NAICS')\n",
    "print('NAICS clusters:')\n",
    "print(naics_clusters)\n",
    "print()\n",
    "model = KMeans(n_clusters=3)\n",
    "naics_recession_increase = (naics_recession - naics_no_recession) / naics_no_recession\n",
    "naics_increase_clusters = find_clusters(model, naics_recession_increase, 'NAICS')\n",
    "print('NAICS clusters by recession increase:')\n",
    "print(naics_increase_clusters)"
   ]
  },
  {
   "cell_type": "markdown",
   "id": "0f7eb232-6512-4d99-b087-70f29cc30bbf",
   "metadata": {},
   "source": [
    "### NewExist (Khách hàng là doanh nghiệp mới)"
   ]
  },
  {
   "cell_type": "markdown",
   "id": "4a60a50f-b3d8-4000-aedc-4d4a2b81117b",
   "metadata": {},
   "source": [
    "* Định nghĩa Khách hàng mới:\n",
    "    * Khách hàng thành lập trên 2 năm: Giá trị 1\n",
    "    * Khách hàng thành lập từ 2 năm trở xuống: Giá trị 2\n",
    "    * Thiếu dữ liệu: Giá trị 0\n",
    "* Qua quan sát biểu đồ thì biến này không có ảnh hưởng nhiều tới kết quả.\n",
    "* Có khoảng 900 trường hợp thiếu dữ liệu có thể gán bằng 1 (giá trị mode)"
   ]
  },
  {
   "cell_type": "code",
   "execution_count": null,
   "id": "b8347160-c5fd-456c-8881-d974f41c1eb5",
   "metadata": {},
   "outputs": [],
   "source": [
    "print('NewExist counts:')\n",
    "x_train['NewExist'].value_counts()"
   ]
  },
  {
   "cell_type": "code",
   "execution_count": null,
   "id": "06b66852-badb-483c-bd71-29fb4e0751d6",
   "metadata": {},
   "outputs": [],
   "source": [
    "new_exist = x_train['NewExist']\n",
    "counts = pd.DataFrame(y_train[~recession]).pivot_table(index=y_train[~recession],\n",
    "                                                       columns=new_exist[~recession],\n",
    "                                                       values='MIS_Status',\n",
    "                                                       aggfunc='count')\n",
    "portions = counts / counts.sum()\n",
    "plot_stacked_bars(portions)\n",
    "plt.title('MIS_Status by NewExit (no Recession)')\n",
    "plt.show()\n",
    "\n",
    "counts = pd.DataFrame(y_train[recession]).pivot_table(index=y_train[recession],\n",
    "                                                      columns=new_exist[recession],\n",
    "                                                      values='MIS_Status',\n",
    "                                                      aggfunc='count')\n",
    "portions = counts / counts.sum()\n",
    "plot_stacked_bars(portions)\n",
    "plt.title('MIS_Status by NewExit (Recession)')\n",
    "plt.show()"
   ]
  },
  {
   "cell_type": "code",
   "execution_count": null,
   "id": "56ee0339-df0b-4e06-9226-862b34d79d05",
   "metadata": {},
   "outputs": [],
   "source": []
  },
  {
   "cell_type": "code",
   "execution_count": null,
   "id": "6033c20d-7eb4-46fa-a838-ca377bd396dd",
   "metadata": {},
   "outputs": [],
   "source": [
    "x_train['NoEmp'].value_counts(dropna=False).sort_index()"
   ]
  },
  {
   "cell_type": "code",
   "execution_count": null,
   "id": "3e5cf70e-b06a-4029-8eba-bb78461ed3d7",
   "metadata": {},
   "outputs": [],
   "source": [
    "box_cox_transformer = PowerTransformer(method='yeo-johnson', standardize=False)\n",
    "no_emp = x_train['NoEmp']\n",
    "cond = no_emp > 0\n",
    "#cond[:] = True\n",
    "no_emp = no_emp[cond]\n",
    "no_emp_trans = pd.Series(\n",
    "    box_cox_transformer.fit_transform(no_emp.to_numpy().reshape(-1, 1))[:, 0],\n",
    "    index=no_emp.index\n",
    ")\n",
    "\n",
    "plot_hist_and_box_plot(no_emp,\n",
    "                       no_emp_trans,\n",
    "                       y_train[cond])\n",
    "\n",
    "plt.show()"
   ]
  },
  {
   "cell_type": "code",
   "execution_count": null,
   "id": "5c0f5570-9e2f-4fd3-b80f-559b1b332e0d",
   "metadata": {},
   "outputs": [],
   "source": []
  }
 ],
 "metadata": {
  "kernelspec": {
   "display_name": "Python 3 (ipykernel)",
   "language": "python",
   "name": "python3"
  },
  "language_info": {
   "codemirror_mode": {
    "name": "ipython",
    "version": 3
   },
   "file_extension": ".py",
   "mimetype": "text/x-python",
   "name": "python",
   "nbconvert_exporter": "python",
   "pygments_lexer": "ipython3",
   "version": "3.8.10"
  },
  "toc-autonumbering": true,
  "toc-showcode": false
 },
 "nbformat": 4,
 "nbformat_minor": 5
}
