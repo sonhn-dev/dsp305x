{
 "cells": [
  {
   "cell_type": "code",
   "execution_count": 10,
   "id": "f6783e4e-8ace-475a-898e-a457d282ed02",
   "metadata": {
    "tags": []
   },
   "outputs": [],
   "source": [
    "# Import necessary packages\n",
    "import pandas as pd\n",
    "import numpy as np\n",
    "\n",
    "from sklearn.preprocessing import PowerTransformer, FunctionTransformer\n",
    "from sklearn.compose import ColumnTransformer\n",
    "from sklearn.pipeline import Pipeline\n",
    "\n",
    "%matplotlib inline\n",
    "import matplotlib.pyplot as plt\n",
    "\n",
    "from IPython.display import display\n",
    "\n",
    "from utils import *"
   ]
  },
  {
   "cell_type": "markdown",
   "id": "d5d50b2d-97a4-41d8-8571-e8284a98affd",
   "metadata": {},
   "source": [
    "# Tìm hiểu về dữ liệu\n",
    "\n",
    "Kaggle link: https://www.kaggle.com/mirbektoktogaraev/should-this-loan-be-approved-or-denied\n",
    "\n",
    "Link nguồn: https://www.tandfonline.com/doi/full/10.1080/10691898.2018.1434342?scroll=top&needAccess=true\n",
    "\n",
    "Tải về dataset"
   ]
  },
  {
   "cell_type": "code",
   "execution_count": null,
   "id": "e5be08bd-d3ca-459b-9d11-a56326b5b02e",
   "metadata": {},
   "outputs": [],
   "source": [
    "!mkdir data\n",
    "!wget -q -P data https://www.tandfonline.com/doi/suppl/10.1080/10691898.2018.1434342/suppl_file/ujse_a_1434342_sm1547.zip\n",
    "!cd data && unzip ujse_a_1434342_sm1547.zip"
   ]
  },
  {
   "cell_type": "markdown",
   "id": "066e5c31-455d-417a-bd83-dea2cec8b661",
   "metadata": {},
   "source": [
    "Nhập dataset từ csv và tiến hành tách tập huấn luyện và kiểm tra. Do số lượng quan sát tương đối nhiều nên có thể chọn tỷ lệ tập huấn luyện trên tập kiểm tra là 90% / 10%"
   ]
  },
  {
   "cell_type": "code",
   "execution_count": 2,
   "id": "01b70c93-5c4a-4fd6-ad68-518136e95b75",
   "metadata": {
    "tags": []
   },
   "outputs": [
    {
     "name": "stderr",
     "output_type": "stream",
     "text": [
      "/tmp/ipykernel_5285/2779767679.py:1: DtypeWarning: Columns (9) have mixed types.Specify dtype option on import or set low_memory=False.\n",
      "  x_train, x_test, y_train, y_test = load_data('data/SBAnational.csv',\n"
     ]
    },
    {
     "name": "stdout",
     "output_type": "stream",
     "text": [
      "x train shape: (807450, 26)\n",
      "x test shape: (89717, 26)\n",
      "y train shape: (807450,)\n",
      "y test shape: (807450,)\n"
     ]
    }
   ],
   "source": [
    "x_train, x_test, y_train, y_test = load_data('data/SBAnational.csv',\n",
    "                                             train_size=0.9,\n",
    "                                             random_state=13)\n",
    "\n",
    "print('x train shape:', x_train.shape)\n",
    "print('x test shape:', x_test.shape)\n",
    "print('y train shape:', y_train.shape)\n",
    "print('y test shape:', y_train.shape)"
   ]
  },
  {
   "cell_type": "markdown",
   "id": "58db147b-e135-4161-9a19-5fc039ceccaf",
   "metadata": {},
   "source": [
    "## Biến mục tiêu\n",
    "\n",
    "Biến mục tiêu có phân phối không đều. Để khắc phục, trong quá trình huấn luyện ta sẽ đưa vào trọng số (class weight)\n",
    "\n",
    "* PIF = 'Paid in full' (Trả được nợ)\n",
    "* CHGOFF = 'Charged off' (Không trả được nợ)"
   ]
  },
  {
   "cell_type": "code",
   "execution_count": null,
   "id": "f26ad0c4-7a48-463b-855e-b69f049277a9",
   "metadata": {
    "tags": []
   },
   "outputs": [],
   "source": [
    "counts = y_train.value_counts()\n",
    "plt.pie(counts,\n",
    "        startangle=90,\n",
    "        autopct='%.2f%%')\n",
    "\n",
    "plt.title('Distribution of target')\n",
    "plt.legend(counts.index)\n",
    "plt.show()"
   ]
  },
  {
   "cell_type": "markdown",
   "id": "a8a0fb7a-9db6-4262-acee-e02772639d9f",
   "metadata": {
    "tags": []
   },
   "source": [
    "## Biến giải thích\n",
    "Xem qua dữ liệu:"
   ]
  },
  {
   "cell_type": "code",
   "execution_count": null,
   "id": "53279d03-5c7f-48d7-be0f-de79650babca",
   "metadata": {
    "tags": []
   },
   "outputs": [],
   "source": [
    "x_train.head()"
   ]
  },
  {
   "cell_type": "code",
   "execution_count": 12,
   "id": "6103e581",
   "metadata": {
    "tags": []
   },
   "outputs": [
    {
     "data": {
      "text/html": [
       "<div>\n",
       "<style scoped>\n",
       "    .dataframe tbody tr th:only-of-type {\n",
       "        vertical-align: middle;\n",
       "    }\n",
       "\n",
       "    .dataframe tbody tr th {\n",
       "        vertical-align: top;\n",
       "    }\n",
       "\n",
       "    .dataframe thead th {\n",
       "        text-align: right;\n",
       "    }\n",
       "</style>\n",
       "<table border=\"1\" class=\"dataframe\">\n",
       "  <thead>\n",
       "    <tr style=\"text-align: right;\">\n",
       "      <th></th>\n",
       "      <th>Column</th>\n",
       "      <th>Count</th>\n",
       "      <th>Null count</th>\n",
       "      <th>Num unique</th>\n",
       "      <th>Type</th>\n",
       "    </tr>\n",
       "  </thead>\n",
       "  <tbody>\n",
       "    <tr>\n",
       "      <th>0</th>\n",
       "      <td>LoanNr_ChkDgt</td>\n",
       "      <td>807450</td>\n",
       "      <td>0</td>\n",
       "      <td>807450</td>\n",
       "      <td>int64</td>\n",
       "    </tr>\n",
       "    <tr>\n",
       "      <th>1</th>\n",
       "      <td>Name</td>\n",
       "      <td>807437</td>\n",
       "      <td>13</td>\n",
       "      <td>707545</td>\n",
       "      <td>object</td>\n",
       "    </tr>\n",
       "    <tr>\n",
       "      <th>2</th>\n",
       "      <td>City</td>\n",
       "      <td>807422</td>\n",
       "      <td>28</td>\n",
       "      <td>31266</td>\n",
       "      <td>object</td>\n",
       "    </tr>\n",
       "    <tr>\n",
       "      <th>3</th>\n",
       "      <td>State</td>\n",
       "      <td>807437</td>\n",
       "      <td>13</td>\n",
       "      <td>51</td>\n",
       "      <td>object</td>\n",
       "    </tr>\n",
       "    <tr>\n",
       "      <th>4</th>\n",
       "      <td>Zip</td>\n",
       "      <td>807450</td>\n",
       "      <td>0</td>\n",
       "      <td>32747</td>\n",
       "      <td>int64</td>\n",
       "    </tr>\n",
       "    <tr>\n",
       "      <th>5</th>\n",
       "      <td>Bank</td>\n",
       "      <td>806082</td>\n",
       "      <td>1368</td>\n",
       "      <td>5697</td>\n",
       "      <td>object</td>\n",
       "    </tr>\n",
       "    <tr>\n",
       "      <th>6</th>\n",
       "      <td>BankState</td>\n",
       "      <td>806075</td>\n",
       "      <td>1375</td>\n",
       "      <td>56</td>\n",
       "      <td>object</td>\n",
       "    </tr>\n",
       "    <tr>\n",
       "      <th>7</th>\n",
       "      <td>NAICS</td>\n",
       "      <td>807450</td>\n",
       "      <td>0</td>\n",
       "      <td>1306</td>\n",
       "      <td>int64</td>\n",
       "    </tr>\n",
       "    <tr>\n",
       "      <th>8</th>\n",
       "      <td>ApprovalDate</td>\n",
       "      <td>807450</td>\n",
       "      <td>0</td>\n",
       "      <td>9740</td>\n",
       "      <td>object</td>\n",
       "    </tr>\n",
       "    <tr>\n",
       "      <th>9</th>\n",
       "      <td>ApprovalFY</td>\n",
       "      <td>807450</td>\n",
       "      <td>0</td>\n",
       "      <td>65</td>\n",
       "      <td>object</td>\n",
       "    </tr>\n",
       "    <tr>\n",
       "      <th>10</th>\n",
       "      <td>Term</td>\n",
       "      <td>807450</td>\n",
       "      <td>0</td>\n",
       "      <td>408</td>\n",
       "      <td>int64</td>\n",
       "    </tr>\n",
       "    <tr>\n",
       "      <th>11</th>\n",
       "      <td>NoEmp</td>\n",
       "      <td>807450</td>\n",
       "      <td>0</td>\n",
       "      <td>573</td>\n",
       "      <td>int64</td>\n",
       "    </tr>\n",
       "    <tr>\n",
       "      <th>12</th>\n",
       "      <td>NewExist</td>\n",
       "      <td>807330</td>\n",
       "      <td>120</td>\n",
       "      <td>3</td>\n",
       "      <td>float64</td>\n",
       "    </tr>\n",
       "    <tr>\n",
       "      <th>13</th>\n",
       "      <td>CreateJob</td>\n",
       "      <td>807450</td>\n",
       "      <td>0</td>\n",
       "      <td>230</td>\n",
       "      <td>int64</td>\n",
       "    </tr>\n",
       "    <tr>\n",
       "      <th>14</th>\n",
       "      <td>RetainedJob</td>\n",
       "      <td>807450</td>\n",
       "      <td>0</td>\n",
       "      <td>349</td>\n",
       "      <td>int64</td>\n",
       "    </tr>\n",
       "    <tr>\n",
       "      <th>15</th>\n",
       "      <td>FranchiseCode</td>\n",
       "      <td>807450</td>\n",
       "      <td>0</td>\n",
       "      <td>2667</td>\n",
       "      <td>int64</td>\n",
       "    </tr>\n",
       "    <tr>\n",
       "      <th>16</th>\n",
       "      <td>UrbanRural</td>\n",
       "      <td>807450</td>\n",
       "      <td>0</td>\n",
       "      <td>3</td>\n",
       "      <td>int64</td>\n",
       "    </tr>\n",
       "    <tr>\n",
       "      <th>17</th>\n",
       "      <td>RevLineCr</td>\n",
       "      <td>803376</td>\n",
       "      <td>4074</td>\n",
       "      <td>17</td>\n",
       "      <td>object</td>\n",
       "    </tr>\n",
       "    <tr>\n",
       "      <th>18</th>\n",
       "      <td>LowDoc</td>\n",
       "      <td>805148</td>\n",
       "      <td>2302</td>\n",
       "      <td>7</td>\n",
       "      <td>object</td>\n",
       "    </tr>\n",
       "    <tr>\n",
       "      <th>19</th>\n",
       "      <td>ChgOffDate</td>\n",
       "      <td>146204</td>\n",
       "      <td>661246</td>\n",
       "      <td>6358</td>\n",
       "      <td>object</td>\n",
       "    </tr>\n",
       "    <tr>\n",
       "      <th>20</th>\n",
       "      <td>DisbursementDate</td>\n",
       "      <td>805472</td>\n",
       "      <td>1978</td>\n",
       "      <td>8201</td>\n",
       "      <td>object</td>\n",
       "    </tr>\n",
       "    <tr>\n",
       "      <th>21</th>\n",
       "      <td>DisbursementGross</td>\n",
       "      <td>807450</td>\n",
       "      <td>0</td>\n",
       "      <td>110085</td>\n",
       "      <td>object</td>\n",
       "    </tr>\n",
       "    <tr>\n",
       "      <th>22</th>\n",
       "      <td>BalanceGross</td>\n",
       "      <td>807450</td>\n",
       "      <td>0</td>\n",
       "      <td>13</td>\n",
       "      <td>object</td>\n",
       "    </tr>\n",
       "    <tr>\n",
       "      <th>23</th>\n",
       "      <td>ChgOffPrinGr</td>\n",
       "      <td>807450</td>\n",
       "      <td>0</td>\n",
       "      <td>77779</td>\n",
       "      <td>object</td>\n",
       "    </tr>\n",
       "    <tr>\n",
       "      <th>24</th>\n",
       "      <td>GrAppv</td>\n",
       "      <td>807450</td>\n",
       "      <td>0</td>\n",
       "      <td>20694</td>\n",
       "      <td>object</td>\n",
       "    </tr>\n",
       "    <tr>\n",
       "      <th>25</th>\n",
       "      <td>SBA_Appv</td>\n",
       "      <td>807450</td>\n",
       "      <td>0</td>\n",
       "      <td>35925</td>\n",
       "      <td>object</td>\n",
       "    </tr>\n",
       "  </tbody>\n",
       "</table>\n",
       "</div>"
      ],
      "text/plain": [
       "               Column   Count  Null count  Num unique     Type\n",
       "0       LoanNr_ChkDgt  807450           0      807450    int64\n",
       "1                Name  807437          13      707545   object\n",
       "2                City  807422          28       31266   object\n",
       "3               State  807437          13          51   object\n",
       "4                 Zip  807450           0       32747    int64\n",
       "5                Bank  806082        1368        5697   object\n",
       "6           BankState  806075        1375          56   object\n",
       "7               NAICS  807450           0        1306    int64\n",
       "8        ApprovalDate  807450           0        9740   object\n",
       "9          ApprovalFY  807450           0          65   object\n",
       "10               Term  807450           0         408    int64\n",
       "11              NoEmp  807450           0         573    int64\n",
       "12           NewExist  807330         120           3  float64\n",
       "13          CreateJob  807450           0         230    int64\n",
       "14        RetainedJob  807450           0         349    int64\n",
       "15      FranchiseCode  807450           0        2667    int64\n",
       "16         UrbanRural  807450           0           3    int64\n",
       "17          RevLineCr  803376        4074          17   object\n",
       "18             LowDoc  805148        2302           7   object\n",
       "19         ChgOffDate  146204      661246        6358   object\n",
       "20   DisbursementDate  805472        1978        8201   object\n",
       "21  DisbursementGross  807450           0      110085   object\n",
       "22       BalanceGross  807450           0          13   object\n",
       "23       ChgOffPrinGr  807450           0       77779   object\n",
       "24             GrAppv  807450           0       20694   object\n",
       "25           SBA_Appv  807450           0       35925   object"
      ]
     },
     "metadata": {},
     "output_type": "display_data"
    }
   ],
   "source": [
    "get_df_info(x_train)"
   ]
  },
  {
   "cell_type": "markdown",
   "id": "928de89c-7db3-4ce4-96c6-6badf4041edc",
   "metadata": {},
   "source": [
    "### DisbursementGross, GrAppv, SBA_Appv (số tiền giải ngân, số tiền phê duyệt, số tiền SBA bảo lãnh)\n",
    "\n",
    "* Dữ liệu dưới dạng chuỗi $10,000.00 cần được chuyển thành float\n",
    "* Phân phối lệch phải\n",
    "* Thực hiện biến đổi Box-Cox. Qua biểu đồ trực quan hoá có thể thấy các khoản vay PIF có số tiền giải ngân, phê duyệt, SBA phê duyệt lớn hơn khoản vay CHGOFF\n",
    "* Nhìn biểu đồ phân tán có thể thấy 3 biến này có quan hệ tuyến tính rõ với nhau. Thay vì loại bỏ bớt biến có thể áp dụng phương pháp PCA để tạo thuộc tính mới cho việc huấn luyên"
   ]
  },
  {
   "cell_type": "code",
   "execution_count": 3,
   "id": "a43ea1c0-4cc3-4581-ba7a-e2971cfde1b5",
   "metadata": {
    "jupyter": {
     "source_hidden": true
    },
    "tags": []
   },
   "outputs": [
    {
     "data": {
      "image/png": "[encoded data removed]",
      "text/plain": [
       "<Figure size 1080x288 with 3 Axes>"
      ]
     },
     "metadata": {
      "needs_background": "light"
     },
     "output_type": "display_data"
    },
    {
     "data": {
      "image/png": "[encoded data removed]",
      "text/plain": [
       "<Figure size 1080x288 with 3 Axes>"
      ]
     },
     "metadata": {
      "needs_background": "light"
     },
     "output_type": "display_data"
    },
    {
     "data": {
      "image/png": "[encoded data removed]",
      "text/plain": [
       "<Figure size 1080x288 with 3 Axes>"
      ]
     },
     "metadata": {
      "needs_background": "light"
     },
     "output_type": "display_data"
    }
   ],
   "source": [
    "cols = ['DisbursementGross', 'GrAppv', 'SBA_Appv']\n",
    "\n",
    "t1 = ColumnTransformer([\n",
    "    ('str-to-num', FunctionTransformer(amount_value), cols)]) \n",
    "t2 = ColumnTransformer([\n",
    "    ('box-cox', PowerTransformer(method='box-cox', standardize=False), slice(len(cols)))])\n",
    "\n",
    "transformer = Pipeline([\n",
    "    ('t1', t1),\n",
    "    ('t2', t2)\n",
    "])\n",
    "\n",
    "amount_transformed = pd.DataFrame(transformer.fit_transform(x_train),\n",
    "                                  columns=cols,\n",
    "                                  index=x_train.index)\n",
    "\n",
    "original_amount = amount_value(x_train[cols])\n",
    "\n",
    "for feature in cols:\n",
    "    plot_hist_and_box_plot(original_amount,\n",
    "                           amount_transformed,\n",
    "                           y_train,\n",
    "                           feature)\n",
    "\n",
    "plt.show()"
   ]
  },
  {
   "cell_type": "code",
   "execution_count": 11,
   "id": "14fa0232-6837-4cfd-b069-413054ec33d1",
   "metadata": {
    "tags": []
   },
   "outputs": [
    {
     "data": {
      "text/html": [
       "<div>\n",
       "<style scoped>\n",
       "    .dataframe tbody tr th:only-of-type {\n",
       "        vertical-align: middle;\n",
       "    }\n",
       "\n",
       "    .dataframe tbody tr th {\n",
       "        vertical-align: top;\n",
       "    }\n",
       "\n",
       "    .dataframe thead th {\n",
       "        text-align: right;\n",
       "    }\n",
       "</style>\n",
       "<table border=\"1\" class=\"dataframe\">\n",
       "  <thead>\n",
       "    <tr style=\"text-align: right;\">\n",
       "      <th></th>\n",
       "      <th>DisbursementGross</th>\n",
       "      <th>GrAppv</th>\n",
       "      <th>SBA_Appv</th>\n",
       "    </tr>\n",
       "  </thead>\n",
       "  <tbody>\n",
       "    <tr>\n",
       "      <th>DisbursementGross</th>\n",
       "      <td>1.000000</td>\n",
       "      <td>0.968940</td>\n",
       "      <td>0.940864</td>\n",
       "    </tr>\n",
       "    <tr>\n",
       "      <th>GrAppv</th>\n",
       "      <td>0.968940</td>\n",
       "      <td>1.000000</td>\n",
       "      <td>0.986551</td>\n",
       "    </tr>\n",
       "    <tr>\n",
       "      <th>SBA_Appv</th>\n",
       "      <td>0.940864</td>\n",
       "      <td>0.986551</td>\n",
       "      <td>1.000000</td>\n",
       "    </tr>\n",
       "  </tbody>\n",
       "</table>\n",
       "</div>"
      ],
      "text/plain": [
       "                   DisbursementGross    GrAppv  SBA_Appv\n",
       "DisbursementGross           1.000000  0.968940  0.940864\n",
       "GrAppv                      0.968940  1.000000  0.986551\n",
       "SBA_Appv                    0.940864  0.986551  1.000000"
      ]
     },
     "metadata": {},
     "output_type": "display_data"
    },
    {
     "data": {
      "image/png": "[encoded data removed]",
      "text/plain": [
       "<Figure size 432x288 with 1 Axes>"
      ]
     },
     "metadata": {
      "needs_background": "light"
     },
     "output_type": "display_data"
    },
    {
     "data": {
      "image/png": "[encoded data removed]",
      "text/plain": [
       "<Figure size 432x288 with 1 Axes>"
      ]
     },
     "metadata": {
      "needs_background": "light"
     },
     "output_type": "display_data"
    },
    {
     "data": {
      "image/png": "[encoded data removed]",
      "text/plain": [
       "<Figure size 432x288 with 1 Axes>"
      ]
     },
     "metadata": {
      "needs_background": "light"
     },
     "output_type": "display_data"
    }
   ],
   "source": [
    "pairs = [('DisbursementGross', 'GrAppv'),\n",
    "         ('DisbursementGross', 'SBA_Appv'),\n",
    "         ('GrAppv', 'SBA_Appv')]\n",
    "\n",
    "corr_mat = amount_transformed.corr()\n",
    "display(corr_mat)\n",
    "\n",
    "for f1, f2 in pairs:\n",
    "    plt.scatter(amount_transformed[f1], amount_transformed[f2])\n",
    "    plt.title(f'{f1} vs {f2} - R2: {corr_mat.loc[f1, f2]}')\n",
    "    plt.xlabel(f1)\n",
    "    plt.ylabel(f2)\n",
    "    plt.show()"
   ]
  },
  {
   "cell_type": "markdown",
   "id": "44c26a05-8915-4eab-9387-d3a97d61cc73",
   "metadata": {},
   "source": [
    "### BalanceGross, ChgOffPrinGr (Dư nợ, ...)"
   ]
  },
  {
   "cell_type": "markdown",
   "id": "bce18ef8-8d43-46fd-b4b2-d6ea8fb6f16b",
   "metadata": {},
   "source": [
    "### DisbursementDate (ngày giải ngân)\n",
    "* Dataset bao gồm dữ liệu giải ngân từ 1987 đến năm 2014. Định dạng dưới dạng 3-Jun-89 (lưu ý là năm 1989 không phải 2089)\n",
    "* Có quan sát có ngày giải ngân sai sót (trước 1987 và sau 2014). Do số lượng là ít so với số lượng quan sát nên ta có thể bỏ qua không cần làm sạch\n",
    "* Có gần 2.000 trường hợp thiếu dữ liệu có thể sử dụng ngày phê duyệt (ApprovalDate) để thay thế"
   ]
  },
  {
   "cell_type": "code",
   "execution_count": null,
   "id": "a7cd87e7-5c43-4450-b0d3-099b7cee8304",
   "metadata": {
    "tags": []
   },
   "outputs": [],
   "source": [
    "disburse_dates = date_value(x_train['DisbursementDate'].fillna(''), max_year=2020).dropna()\n",
    "pd.DataFrame(disburse_dates.sort_values())"
   ]
  },
  {
   "cell_type": "markdown",
   "id": "0d89172b-5282-4959-bdee-569298067979",
   "metadata": {},
   "source": [
    "### Term (kỳ hạn)\n",
    "\n",
    "* Như đã xem khái quát phía trên, kỳ hạn vay không bị thiếu dữ liệu. Tuy nhiên có khoảng 700 trường hợp có kỳ hạn bằng 0. Trong đó đa số trường hợp có thể sử dụng ngày Charged off để tính kỳ hạn (kỳ hạn = ngày charged off - ngày giải ngân). Các trường hợp còn lại: gán kỳ hạn 1 tháng"
   ]
  },
  {
   "cell_type": "code",
   "execution_count": null,
   "id": "7fbfd71c-62b8-4b8f-a5ec-6fa313a3827b",
   "metadata": {},
   "outputs": [],
   "source": [
    "zero_term_df = x_train[x_train['Term']==0]\n",
    "n_zero = zero_term_df.shape[0]\n",
    "print('Number of zero term:', n_zero)\n",
    "zero_term_with_chgoff_date_df = zero_term_df[~zero_term_df['ChgOffDate'].isna()]\n",
    "n_zero_with_chgoff = zero_term_with_chgoff_date_df.shape[0]\n",
    "print('Number of zero term with charged off date:', n_zero_with_chgoff)\n",
    "print('Imput with 1 month:', n_zero - n_zero_with_chgoff)"
   ]
  },
  {
   "cell_type": "markdown",
   "id": "4c05d749-ab01-4c4a-a844-b4a42b103de9",
   "metadata": {
    "tags": []
   },
   "source": [
    "### Recession (suy thoái kinh tế)\n",
    "\n",
    "* Các khoản vay có trải qua giai đoạn suy thoái kinh tế (tháng 12/2007 đến tháng 6/2009) có tỷ lệ CHGOFF cao hơn các giai đoạn khác. Đây là biến được tạo ra để đưa vào huấn luyện\n",
    "* Điều kiện xác định khoản vay trải qua giai đoạn suy thoái kinh tế:\n",
    "1. Ngày giải ngân trước tháng 6/2009, và\n",
    "2. Ngày hết hạn (ngày bắt đầu + kỳ hạn) sau tháng 12/2007"
   ]
  },
  {
   "cell_type": "code",
   "execution_count": null,
   "id": "a29d89ea-dca4-4f1d-a54e-1d6ff1cfe513",
   "metadata": {},
   "outputs": [],
   "source": [
    "x_train['NoEmp'].unique()"
   ]
  },
  {
   "cell_type": "code",
   "execution_count": null,
   "id": "87dec597-bbfb-4e23-9ae7-ba4f506460a5",
   "metadata": {},
   "outputs": [],
   "source": [
    "x_train[x_train['Term']==2]"
   ]
  },
  {
   "cell_type": "code",
   "execution_count": null,
   "id": "207fcffd-f82b-4ffd-84d9-5906df06c314",
   "metadata": {},
   "outputs": [],
   "source": [
    "disburse_dates = date_value(x_train['ChgOffDate'].fillna(''), max_year=2020).dropna()\n",
    "pd.DataFrame(disburse_dates.sort_values())"
   ]
  },
  {
   "cell_type": "markdown",
   "id": "c07278c1-9fa0-43bd-8054-9d0ec45a9ecd",
   "metadata": {
    "tags": []
   },
   "source": [
    "### City, State, Zip (thành phố, bang, zip code)\n",
    "* Số bang = 51 có vẻ là giá trị đúng (50 bang + Washington DC), số  thành phố, Zip code >= 30k\n",
    "* Các biến này đều thể hiện địa điểm của Khách hàng. Để giảm số lượng nhóm ta sẽ chọn bang (State) để đưa vào huấn luyện\n",
    "* Luận điểm ở đây: Mỗi bang ở nước Mỹ có 1 hệ thống pháp luật, môi trường kinh doanh, cơ cấu kinh tế khác nhau do đó có thể có tỷ lệ CHGOFF khác nhau. Ta có thể kiểm chứng qua việc vẽ biểu đồ trực quan hoá.\n",
    "* Từ biểu đồ trực quan hoá, có thể chia các bang thành các nhóm như sau:\n",
    "0. FL, NV, IL, MI, GA, DC (tỷ lệ CHGOFF cao nhất)\n",
    "1. AZ, TN, NJ, NY\n",
    "2. CA, UT, CO, TX, LA, AR, KY, IN, SC, NC, VA, DE, NY, MD, AL\n",
    "3. Còn lại\n",
    "4. MT, ND, SD, WY, NM, VT, NH, ME, NM (tỷ lệ CHGOFF thấp nhất)\n",
    "* Một số lượng lớn Khách hàng trong tập dữ liệu tập trung ở một số bang: CA (gần 200k), TX (khoảng 60k), NY (hơn 40k)"
   ]
  },
  {
   "cell_type": "code",
   "execution_count": null,
   "id": "a4cc8faf-ad19-4f4d-a41c-47d9ca87d314",
   "metadata": {
    "tags": []
   },
   "outputs": [],
   "source": [
    "plot_geospartial(chgoff_rate_by_feature(x_train, y_train, 'State'),\n",
    "                 (22,14),\n",
    "                 cmap='OrRd',\n",
    "                 title='CHGOFF rate by State')\n",
    "plt.savefig('figure/chgoff_rate_by_state.svg')\n",
    "plt.show()"
   ]
  },
  {
   "cell_type": "code",
   "execution_count": null,
   "id": "b0e024ca-97af-4363-b624-6bdc72c3e056",
   "metadata": {
    "tags": []
   },
   "outputs": [],
   "source": [
    "plot_geospartial(x_train['State'].value_counts(),\n",
    "                 (22,14),\n",
    "                 cmap='OrRd',\n",
    "                 title='Customer number by State')\n",
    "plt.savefig('figure/cust_num_by_state.svg')\n",
    "plt.show()"
   ]
  },
  {
   "cell_type": "markdown",
   "id": "63895872-1de6-42a5-b648-0d98b54c4e84",
   "metadata": {},
   "source": [
    "### Bank, BankState (ngân hàng, bang của ngân hàng)"
   ]
  },
  {
   "cell_type": "markdown",
   "id": "c84dc19b-3486-4f71-9483-ee0eedbe6109",
   "metadata": {},
   "source": [
    "* Có 56 kiểu giá trị do tại cột này liệt kê cả các lãnh thổ không phải là bang như: Guam, Puerto Rico, Vigin Island...\n",
    "* Vì số lượng ngân hàng lớn (trên 5k) do đó ta cũng chỉ chọn bang của ngân hàng để phân tích\n",
    "* Khi đếm số lượng Khách hàng có thể thấy hiện tượng các ngân hàng cho vay ngoài bang của mình. Ví dụ:\n",
    "1. Số Khách hàng ở VA, NC thấp nhưng các ngân hàng ở 2 bang này lại cho vay nhiều khách hàng hơn\n",
    "2. Số Khách hàng ở CA cao nhưng các ngân hàng ở bang này lại cho vay ít khách hàng hơn\n",
    "* Biểu đồ trực quan hoá cho thấy các trường hợp cho vay ngoài bang có xu hướng tỷ lệ CHGOFF cao hơn là cho vay trong bang"
   ]
  },
  {
   "cell_type": "code",
   "execution_count": null,
   "id": "4b968ab9-d92b-48f1-b05f-74e0be4e794c",
   "metadata": {
    "tags": []
   },
   "outputs": [],
   "source": [
    "territories = set(x_train['BankState'].unique()) - set(x_train['State'].unique())\n",
    "print('BankState territories:', territories)"
   ]
  },
  {
   "cell_type": "code",
   "execution_count": null,
   "id": "4a80fe59-9fcb-434b-b831-6f5e3760c05a",
   "metadata": {
    "tags": []
   },
   "outputs": [],
   "source": [
    "plot_geospartial(chgoff_rate_by_feature(x_train, y_train, 'BankState'),\n",
    "                 (22,14),\n",
    "                 cmap='OrRd',\n",
    "                 title='CHGOFF rate by BankState')\n",
    "plt.savefig('figure/chgoff_rate_by_bankstate.svg')\n",
    "plt.show()"
   ]
  },
  {
   "cell_type": "code",
   "execution_count": null,
   "id": "e19a0873-b2da-4897-8f24-ce307abc8f1e",
   "metadata": {
    "tags": []
   },
   "outputs": [],
   "source": [
    "plot_geospartial(x_train['BankState'].value_counts(),\n",
    "                 (22,14),\n",
    "                 cmap='OrRd',\n",
    "                 title='Customer number by BankState')\n",
    "plt.savefig('figure/cust_num_by_bankstate.svg')\n",
    "plt.show()"
   ]
  },
  {
   "cell_type": "code",
   "execution_count": null,
   "id": "623d8031-aa63-43e4-9f57-8cdc6f796453",
   "metadata": {
    "tags": []
   },
   "outputs": [],
   "source": [
    "out_of_state_cond = x_train['State'] != x_train['BankState']\n",
    "x_State_df = pd.concat([x_train['BankState'], y_train], axis='columns')\n",
    "x_State_df['outState'] = 'in State'\n",
    "x_State_df.loc[out_of_state_cond, 'outState'] = 'out State'\n",
    "total_case = x_State_df.pivot_table(index='BankState',\n",
    "                                    columns='outState',\n",
    "                                    values='MIS_Status',\n",
    "                                    aggfunc='count',\n",
    "                                    fill_value=0.0)\n",
    "\n",
    "chgoff_cond = x_State_df['MIS_Status']=='CHGOFF'\n",
    "chgoff = x_State_df[chgoff_cond].pivot_table(index='BankState',\n",
    "                                             columns='outState',\n",
    "                                             values='MIS_Status',\n",
    "                                             aggfunc='count',\n",
    "                                             fill_value=0.0)\n",
    "\n",
    "out_State_df = chgoff.reindex_like(total_case).fillna(0.0) / total_case\n",
    "out_State_df = out_State_df.fillna(0)\n",
    "\n",
    "out_State_df.boxplot()\n",
    "plt.title('CHGOFF rate by in/out State')\n",
    "plt.show()"
   ]
  },
  {
   "cell_type": "markdown",
   "id": "09d270d9-a71d-4457-ba8b-4fea506ff4b9",
   "metadata": {},
   "source": [
    "### NAICS (mã ngành)\n",
    "* Có hơn 180k trường hợp thiếu dữ liệu mã ngành (=0)\n",
    "* 2 ký tự đầu cột này được code từ 11 - 92 cho mỗi ngành/ nhóm ngành, tổng cộng 24 loại theo bảng tham số naics.csv\n",
    "* Các ngành khác nhau có mức độ rủi ro khác nhau có tỷ lệ CHGOFF sẽ khác nhau\n",
    "* Nhóm các ngành theo tỷ lệ CHGOFF:\n",
    "0. Dưới 15%\n",
    "1. Từ 15% - Dưới 20%\n",
    "2. Từ 20% - Dưới 25%\n",
    "3. Từ 25%"
   ]
  },
  {
   "cell_type": "code",
   "execution_count": null,
   "id": "9a801f69-648d-404b-bf4b-abe69487fe1c",
   "metadata": {
    "tags": []
   },
   "outputs": [],
   "source": [
    "naics_df = pd.read_csv('data/naics.csv', index_col=0)\n",
    "print('naics.csv shape:', naics_df.shape)\n",
    "naics_df.head()"
   ]
  },
  {
   "cell_type": "code",
   "execution_count": null,
   "id": "97042654-58b4-4e86-a3c9-6f5fb79899e5",
   "metadata": {
    "tags": []
   },
   "outputs": [],
   "source": [
    "tmp = pd.concat([\n",
    "    x_train['LoanNr_ChkDgt'],\n",
    "    x_train['NAICS'].astype('str').str.slice(0,2).astype('int'),\n",
    "    y_train\n",
    "], axis='columns')\n",
    "tmp = tmp.pivot_table(index='NAICS',\n",
    "                      columns='MIS_Status',\n",
    "                      aggfunc='count',\n",
    "                      values='LoanNr_ChkDgt')\n",
    "tmp = tmp['CHGOFF'] / tmp.sum(axis='columns')\n",
    "tmp = tmp.sort_values()\n",
    "\n",
    "desc = naics_df['Description'].reindex_like(tmp)\n",
    "desc[0] = 'Missing'\n",
    "\n",
    "plt.figure(figsize=(12, 6))\n",
    "plt.barh(range(tmp.shape[0]), tmp)\n",
    "plt.yticks(range(tmp.shape[0]), desc)\n",
    "plt.title('CHGOFF rate by NAICS')\n",
    "plt.show()"
   ]
  },
  {
   "cell_type": "markdown",
   "id": "e8ed1eeb-f222-40ce-b9f9-f96179b45463",
   "metadata": {},
   "source": [
    "### ApprovalDate, ApprovalFY, DisbursementDate, Term (ngày phê duyệt, năm phê duyệt, ngày giải ngân, kỳ hạn)\n",
    "\n",
    "* Ngày giải ngân là ngày bắt đầu khoản vay và được dùng để tính ngày hết hạn (ngày hết hạn = ngày giải ngân + kỳ hạn). Do đó ta sẽ chọn biến này để huấn luyện mô hình\n",
    "* Ngày phê duyệt và ngày giải ngân không bắt buộc phải giống nhau, tuy nhiên những trường hợp ngày giải ngân thiếu dữ liệu có thể sử dụng ngày phê duyệt để thay thế\n",
    "* Suy thoái kinh tế (tháng 12/2007 - tháng 6/2009) là khoảng thời gian cần quan tâm trên cơ sở nhận định tỷ lệ CHGOFF trong giai đoạn này sẽ cao hơn các giai đoạn khác (https://en.wikipedia.org/wiki/Great_Recession)"
   ]
  },
  {
   "cell_type": "code",
   "execution_count": null,
   "id": "96aaa28e-438b-427b-b1db-e370d44733ee",
   "metadata": {},
   "outputs": [],
   "source": [
    "tmp = x_train['DisbursementDate'].copy()\n",
    "cond = tmp.isna()\n",
    "tmp[cond] = x_train.loc[cond, 'ApprovalDate']\n",
    "tmp = tmp.apply(lambda x: ('0' if len(x)==8 else '') + x)\n",
    "tmp = pd.to_datetime(tmp, format='%d-%b-%y')"
   ]
  },
  {
   "cell_type": "code",
   "execution_count": null,
   "id": "0f225318-73cd-4da6-b48a-0e2248f03cbb",
   "metadata": {},
   "outputs": [],
   "source": [
    "tmp"
   ]
  },
  {
   "cell_type": "code",
   "execution_count": null,
   "id": "1055e1e4-d6bc-4b2d-91cf-31c863ca80b6",
   "metadata": {},
   "outputs": [],
   "source": []
  }
 ],
 "metadata": {
  "kernelspec": {
   "display_name": "Python 3 (ipykernel)",
   "language": "python",
   "name": "python3"
  },
  "language_info": {
   "codemirror_mode": {
    "name": "ipython",
    "version": 3
   },
   "file_extension": ".py",
   "mimetype": "text/x-python",
   "name": "python",
   "nbconvert_exporter": "python",
   "pygments_lexer": "ipython3",
   "version": "3.9.2"
  },
  "toc-autonumbering": true,
  "toc-showcode": false
 },
 "nbformat": 4,
 "nbformat_minor": 5
}
